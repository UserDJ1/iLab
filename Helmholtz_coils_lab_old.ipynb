{
 "cells": [
  {
   "cell_type": "code",
   "execution_count": 7,
   "id": "66933463-e195-4ae9-a30b-949cd9ed174e",
   "metadata": {},
   "outputs": [],
   "source": [
    "using Measurements"
   ]
  },
  {
   "cell_type": "code",
   "execution_count": 8,
   "id": "f0f22060-3d70-4c3e-91d0-fbcf3ebdd4b8",
   "metadata": {},
   "outputs": [
    {
     "data": {
      "text/plain": [
       "0.0575"
      ]
     },
     "metadata": {},
     "output_type": "display_data"
    }
   ],
   "source": [
    "V₁ = 31 #DC Voltage points were taken at\n",
    "N = 72 #Number of turns\n",
    "a = 0.3275 ± 0.002 #mean raidus of coils\n",
    "μ₀ = (4*π * 10^(-7))\n",
    "\n",
    "r₁ = 0.065/2\n",
    "r₂ = 0.078/2\n",
    "r₃ = 0.09/2\n",
    "r₄ = 0.103/2\n",
    "r₅ = 0.115/2;\n",
    "#radius to the frist filument in meters"
   ]
  },
  {
   "cell_type": "code",
   "execution_count": 9,
   "id": "1e3dc21b-83b5-4a12-bc57-b8ce443d00f7",
   "metadata": {},
   "outputs": [],
   "source": [
    "I₀₁ = ((0.46 ± 0.005) + (0.27± 0.001))/2;#average of high end and low end to get straight line"
   ]
  },
  {
   "cell_type": "code",
   "execution_count": 10,
   "id": "9aec7201-a5f3-4bb9-8c28-2295ca0fede1",
   "metadata": {},
   "outputs": [],
   "source": [
    "I₁ = [I₀₁,I₀₁,I₀₁,I₀₁,I₀₁];"
   ]
  },
  {
   "cell_type": "code",
   "execution_count": 11,
   "id": "2b8f46ca-80fd-4ac7-a5dc-9d7932894544",
   "metadata": {},
   "outputs": [],
   "source": [
    "Fil₁ = ((2.13 ± 0.005) + (2.08 ± 0.005))/2; #Filament 5"
   ]
  },
  {
   "cell_type": "code",
   "execution_count": 12,
   "id": "e11b9807-3074-4139-b393-c89129c07b6f",
   "metadata": {},
   "outputs": [],
   "source": [
    "Fil₂ = ((2.32 ± 0.005) + (2.34 ± 0.005))/2; #Filument 4"
   ]
  },
  {
   "cell_type": "code",
   "execution_count": 13,
   "id": "1cd23be9-68da-41e8-ae0c-693ff8f269fe",
   "metadata": {},
   "outputs": [],
   "source": [
    "Fil₃ = ((2.66 ± 0.005) + (2.55 ± 0.005))/2; #Filument 3"
   ]
  },
  {
   "cell_type": "code",
   "execution_count": 14,
   "id": "72a2d12c-3c4a-42e0-ae96-046951a73de7",
   "metadata": {},
   "outputs": [],
   "source": [
    "Fil₄ = ((3.04 ± 0.005) + (2.95 ± 0.005))/2; #Filument 2"
   ]
  },
  {
   "cell_type": "code",
   "execution_count": 15,
   "id": "31772f45-aba3-4177-862c-53df575cae6a",
   "metadata": {},
   "outputs": [],
   "source": [
    "Fil₅ = ((3.61 ± 0.005) + (3.46 ± 0.005))/2; #Filument 1"
   ]
  },
  {
   "cell_type": "code",
   "execution_count": 16,
   "id": "d587144a-f347-4785-9dea-cc413fc8353c",
   "metadata": {},
   "outputs": [],
   "source": [
    "I₂ = [Fil₁, Fil₂, Fil₃, Fil₄, Fil₅]; #array of all filuments called I2"
   ]
  },
  {
   "cell_type": "code",
   "execution_count": 17,
   "id": "21c24da8-0bf2-4537-aae8-2304ff864c4f",
   "metadata": {},
   "outputs": [],
   "source": [
    "I = I₂ - I₁; #Current Values at each filument. Ave value - value to get Eaths effect to 0"
   ]
  },
  {
   "cell_type": "code",
   "execution_count": 18,
   "id": "3c22844e-19c0-4fb0-83ff-b5993834fc2d",
   "metadata": {},
   "outputs": [],
   "source": [
    "B₁ = (8 * μ₀ * N * I[1])/(sqrt(125)*a); #magnetic field created by 1st current to the filament "
   ]
  },
  {
   "cell_type": "code",
   "execution_count": 19,
   "id": "f6ef845f-facf-4345-916e-dbe8972a7feb",
   "metadata": {},
   "outputs": [],
   "source": [
    "#e_m1 = ((2.47*10^12)* (a^2/N^2)) * (V₁/(I[1]^2)*r₁^2) # e/m for the first filament using eq6 "
   ]
  },
  {
   "cell_type": "code",
   "execution_count": 20,
   "id": "83a9b436-2f07-453f-94d2-0d5e49c2bf4d",
   "metadata": {},
   "outputs": [
    {
     "data": {
      "text/latex": [
       "$1.585e11 \\pm 2.1e9$"
      ],
      "text/plain": [
       "1.585e11 ± 2.1e9"
      ]
     },
     "metadata": {},
     "output_type": "display_data"
    }
   ],
   "source": [
    "e_m₁ = (2*V₁)/(B₁^2*r₅^2) #using eq 4... better but still bad"
   ]
  },
  {
   "cell_type": "code",
   "execution_count": 21,
   "id": "17a68257-d3ef-4cc6-a4c2-525efeabb445",
   "metadata": {},
   "outputs": [],
   "source": [
    "B₂ = (8 * μ₀ * N * I[2])/(sqrt(125)*a);"
   ]
  },
  {
   "cell_type": "code",
   "execution_count": 22,
   "id": "fc9e33e8-ed67-4d7c-8cf8-d8f7e66f5f36",
   "metadata": {},
   "outputs": [
    {
     "data": {
      "text/latex": [
       "$1.549e11 \\pm 2.0e9$"
      ],
      "text/plain": [
       "1.549e11 ± 2.0e9"
      ]
     },
     "metadata": {},
     "output_type": "display_data"
    }
   ],
   "source": [
    "e_m₂ = (2*V₁)/(B₂^2*r₄^2)"
   ]
  },
  {
   "cell_type": "code",
   "execution_count": 23,
   "id": "a5d1348c-2773-4800-bc74-d1e909436547",
   "metadata": {},
   "outputs": [],
   "source": [
    "B₃ = (8 * μ₀ * N * I[3])/(sqrt(125)*a);"
   ]
  },
  {
   "cell_type": "code",
   "execution_count": 24,
   "id": "587f8267-669e-43e8-a2d9-5cb0752697b2",
   "metadata": {},
   "outputs": [
    {
     "data": {
      "text/latex": [
       "$1.561e11 \\pm 2.0e9$"
      ],
      "text/plain": [
       "1.561e11 ± 2.0e9"
      ]
     },
     "metadata": {},
     "output_type": "display_data"
    }
   ],
   "source": [
    "e_m₃ = (2*V₁)/(B₃^2*r₃^2)"
   ]
  },
  {
   "cell_type": "code",
   "execution_count": 25,
   "id": "9097f403-352c-4384-9fb5-b908159416fc",
   "metadata": {},
   "outputs": [],
   "source": [
    "B₄ = (8 * μ₀ * N * I[4])/(sqrt(125)*a);"
   ]
  },
  {
   "cell_type": "code",
   "execution_count": 26,
   "id": "7af87052-9477-44e0-9c46-0a21b182fe46",
   "metadata": {},
   "outputs": [
    {
     "data": {
      "text/latex": [
       "$1.508e11 \\pm 1.9e9$"
      ],
      "text/plain": [
       "1.508e11 ± 1.9e9"
      ]
     },
     "metadata": {},
     "output_type": "display_data"
    }
   ],
   "source": [
    "e_m₄ = (2*V₁)/(B₄^2*r₂^2)"
   ]
  },
  {
   "cell_type": "code",
   "execution_count": 27,
   "id": "b4a4b906-169b-46cc-80e0-a6dc1d3f40ad",
   "metadata": {},
   "outputs": [],
   "source": [
    "B₅ = (8 * μ₀ * N * I[5])/(sqrt(125)*a);"
   ]
  },
  {
   "cell_type": "code",
   "execution_count": 28,
   "id": "873e3267-2d6a-4a99-9a80-46e0de8a33c8",
   "metadata": {},
   "outputs": [
    {
     "data": {
      "text/latex": [
       "$1.495e11 \\pm 1.9e9$"
      ],
      "text/plain": [
       "1.495e11 ± 1.9e9"
      ]
     },
     "metadata": {},
     "output_type": "display_data"
    }
   ],
   "source": [
    "e_m₅ = (2*V₁)/(B₅^2*r₁^2)"
   ]
  },
  {
   "cell_type": "code",
   "execution_count": 29,
   "id": "a3073ef0-0c1a-479e-a786-d55908707b94",
   "metadata": {},
   "outputs": [],
   "source": [
    "e_m = [e_m₁, e_m₂, e_m₃, e_m₄, e_m₅];"
   ]
  },
  {
   "cell_type": "code",
   "execution_count": 30,
   "id": "da7ed44c-dc6f-4e72-8532-b90a9d858d61",
   "metadata": {},
   "outputs": [],
   "source": [
    "using Plots"
   ]
  },
  {
   "cell_type": "code",
   "execution_count": 31,
   "id": "e94bea35-6d93-400d-b926-1f12348d3012",
   "metadata": {},
   "outputs": [],
   "source": [
    "V₂ = 12.6; # Votage set to 12.6 for following data"
   ]
  },
  {
   "cell_type": "code",
   "execution_count": 32,
   "id": "d632d8c8-420d-4d75-8d16-ef48edad92d8",
   "metadata": {},
   "outputs": [],
   "source": [
    "I₀₂ = ((0.2 ± 0.005) + (0.33 ± 0.005))/2;"
   ]
  },
  {
   "cell_type": "code",
   "execution_count": 33,
   "id": "f0badc9f-d4c4-4e04-adb7-6d8ede3e83fe",
   "metadata": {},
   "outputs": [],
   "source": [
    "I₃ = [I₀₂, I₀₂, I₀₂, I₀₂];"
   ]
  },
  {
   "cell_type": "code",
   "execution_count": 34,
   "id": "7ed2351c-a2d1-4820-896c-a01417dc4ccf",
   "metadata": {},
   "outputs": [],
   "source": [
    "Fil₂₂ = ((1.54 ± 0.005) + (1.67 ± 0.005))/2; # trail run 2 fil 2"
   ]
  },
  {
   "cell_type": "code",
   "execution_count": 35,
   "id": "23c05ed4-a3df-4516-9b45-b0b63dd8f771",
   "metadata": {},
   "outputs": [],
   "source": [
    "Fil₂₃ = ((1.75 ± 0.005) + (1.81 ± 0.005))/2;"
   ]
  },
  {
   "cell_type": "code",
   "execution_count": 36,
   "id": "bd770319-8277-47e3-87f3-e5747fc862aa",
   "metadata": {},
   "outputs": [],
   "source": [
    "Fil₂₄ = ((1.89 ± 0.005) + (2.01 ± 0.005))/2;"
   ]
  },
  {
   "cell_type": "code",
   "execution_count": 37,
   "id": "4b9cc19f-35da-4378-a0ea-f14d09c358bc",
   "metadata": {},
   "outputs": [],
   "source": [
    "Fil₂₅ = ((2.21 ± 0.005) + (2.43 ± 0.005))/2;"
   ]
  },
  {
   "cell_type": "code",
   "execution_count": 38,
   "id": "27d3f7d9-4aea-42a7-913d-7a0a8bf9f25a",
   "metadata": {},
   "outputs": [],
   "source": [
    "I₄ = [Fil₂₂, Fil₂₃, Fil₂₄, Fil₂₅];"
   ]
  },
  {
   "cell_type": "code",
   "execution_count": 39,
   "id": "fbc7369b-b1cd-4da9-bf3f-88678d418b25",
   "metadata": {},
   "outputs": [],
   "source": [
    "I2 = I₄ - I₃;"
   ]
  },
  {
   "cell_type": "code",
   "execution_count": 40,
   "id": "13a666a0-866c-42a7-81f0-001c00d6f593",
   "metadata": {},
   "outputs": [],
   "source": [
    "B₂₂ = (8 * μ₀ * N * I2[1])/(sqrt(125)*a);"
   ]
  },
  {
   "cell_type": "code",
   "execution_count": 41,
   "id": "ee84d7fb-19f4-4d16-bd42-4ac01509c3ed",
   "metadata": {},
   "outputs": [
    {
     "data": {
      "text/latex": [
       "$1.354e11 \\pm 1.9e9$"
      ],
      "text/plain": [
       "1.354e11 ± 1.9e9"
      ]
     },
     "metadata": {},
     "output_type": "display_data"
    }
   ],
   "source": [
    "e_m₂₂ = (2*V₂)/(B₂₂^2*r₄^2)"
   ]
  },
  {
   "cell_type": "code",
   "execution_count": 42,
   "id": "ff4534e5-8c65-4ca7-81a9-149e841943a1",
   "metadata": {},
   "outputs": [],
   "source": [
    "B₂₃ = (8 * μ₀ * N * I2[2])/(sqrt(125)*a);"
   ]
  },
  {
   "cell_type": "code",
   "execution_count": 43,
   "id": "f8e24c50-7276-41cd-b55c-adafe6453f88",
   "metadata": {},
   "outputs": [
    {
     "data": {
      "text/latex": [
       "$1.387e11 \\pm 1.9e9$"
      ],
      "text/plain": [
       "1.387e11 ± 1.9e9"
      ]
     },
     "metadata": {},
     "output_type": "display_data"
    }
   ],
   "source": [
    "e_m₂₃ = (2*V₂)/(B₂₃^2*r₃^2)"
   ]
  },
  {
   "cell_type": "code",
   "execution_count": 44,
   "id": "7ac34b76-212b-408c-a127-915b44ff0c86",
   "metadata": {},
   "outputs": [],
   "source": [
    "B₂₄ = (8 * μ₀ * N * I2[3])/(sqrt(125)*a);"
   ]
  },
  {
   "cell_type": "code",
   "execution_count": 45,
   "id": "d0a507cb-dbb7-4715-a82a-b7642719feb4",
   "metadata": {},
   "outputs": [
    {
     "data": {
      "text/latex": [
       "$1.493e11 \\pm 2.0e9$"
      ],
      "text/plain": [
       "1.493e11 ± 2.0e9"
      ]
     },
     "metadata": {},
     "output_type": "display_data"
    }
   ],
   "source": [
    "e_m₂₄ = (2*V₂)/(B₂₄^2*r₂^2)"
   ]
  },
  {
   "cell_type": "code",
   "execution_count": 46,
   "id": "9c14c1dd-3131-4f4a-98f8-794072ac0f8e",
   "metadata": {},
   "outputs": [],
   "source": [
    "B₂₅ = (8 * μ₀ * N * I2[4])/(sqrt(125)*a);"
   ]
  },
  {
   "cell_type": "code",
   "execution_count": 47,
   "id": "60d32bd2-5219-4dcf-a98d-fe2970986ed0",
   "metadata": {},
   "outputs": [
    {
     "data": {
      "text/latex": [
       "$1.446e11 \\pm 1.9e9$"
      ],
      "text/plain": [
       "1.446e11 ± 1.9e9"
      ]
     },
     "metadata": {},
     "output_type": "display_data"
    }
   ],
   "source": [
    "e_m₂₂ = (2*V₂)/(B₂₅^2*r₁^2)"
   ]
  },
  {
   "cell_type": "code",
   "execution_count": 48,
   "id": "8626754a-5648-4a66-bd51-c454f651aa3e",
   "metadata": {},
   "outputs": [],
   "source": [
    "V₃ = 21;"
   ]
  },
  {
   "cell_type": "code",
   "execution_count": 49,
   "id": "ea485556-b7ed-4739-959f-54222b7a56ef",
   "metadata": {},
   "outputs": [],
   "source": [
    "I₀₃ = ((0.24 ± 0.005) + (0.34 ± 0.005))/2;"
   ]
  },
  {
   "cell_type": "code",
   "execution_count": 50,
   "id": "d1e3c2e6-33c7-46ba-adbd-8210e5b74aa6",
   "metadata": {},
   "outputs": [],
   "source": [
    "I₅ = [I₀₃, I₀₃, I₀₃, I₀₃];"
   ]
  },
  {
   "cell_type": "code",
   "execution_count": 51,
   "id": "fa2bf621-c810-4b5b-bb43-6a5c17e6b1e8",
   "metadata": {},
   "outputs": [],
   "source": [
    "Fil₃₂ = ((1.8 ± 0.005) + (1.99 ± 0.005))/2;"
   ]
  },
  {
   "cell_type": "code",
   "execution_count": 52,
   "id": "9cb132b0-b909-41ef-bbca-a4b2b8fcee55",
   "metadata": {},
   "outputs": [],
   "source": [
    "Fil₃₃ = ((2.07 ± 0.005) + (2.23 ± 0.005))/2;"
   ]
  },
  {
   "cell_type": "code",
   "execution_count": 53,
   "id": "5bf8df74-24a7-4f0c-b9b0-4c2c863cd152",
   "metadata": {},
   "outputs": [],
   "source": [
    "Fil₃₄ = ((2.4 ± 0.005) + (2.52 ± 0.005))/2;"
   ]
  },
  {
   "cell_type": "code",
   "execution_count": 54,
   "id": "cf3ed3f5-d64a-4554-9693-dd30af5b2d95",
   "metadata": {},
   "outputs": [],
   "source": [
    "Fil₃₅ = ((2.74 ± 0.005) + (3.09 ± 0.005))/2;"
   ]
  },
  {
   "cell_type": "code",
   "execution_count": 55,
   "id": "bdf44369-1791-43c3-87fc-9e9c964cc597",
   "metadata": {},
   "outputs": [],
   "source": [
    "I₆ = [Fil₃₂, Fil₃₃, Fil₃₄, Fil₃₄];"
   ]
  },
  {
   "cell_type": "code",
   "execution_count": 56,
   "id": "2314f18e-cc64-4c59-a11c-e266651d75bf",
   "metadata": {},
   "outputs": [],
   "source": [
    "I3 = I₆ - I₅;"
   ]
  },
  {
   "cell_type": "code",
   "execution_count": 57,
   "id": "5643803e-0a1f-4e82-9afe-6c950be20286",
   "metadata": {},
   "outputs": [],
   "source": [
    "B₃₂ = (8 * μ₀ * N * I3[1])/(sqrt(125)*a);"
   ]
  },
  {
   "cell_type": "code",
   "execution_count": 58,
   "id": "43298e5c-509b-45ed-acd1-8674769a4a6b",
   "metadata": {},
   "outputs": [
    {
     "data": {
      "text/latex": [
       "$1.573e11 \\pm 2.2e9$"
      ],
      "text/plain": [
       "1.573e11 ± 2.2e9"
      ]
     },
     "metadata": {},
     "output_type": "display_data"
    }
   ],
   "source": [
    "e_m₃₂ = (2*V₃)/(B₃₂^2*r₄^2)"
   ]
  },
  {
   "cell_type": "code",
   "execution_count": 59,
   "id": "866eb3f2-b4bf-404d-8062-4d688fb0e75b",
   "metadata": {},
   "outputs": [],
   "source": [
    "B₃₃ = (8 * μ₀ * N * I3[2])/(sqrt(125)*a);"
   ]
  },
  {
   "cell_type": "code",
   "execution_count": 60,
   "id": "f790ea2d-ec31-4923-b475-73255011f616",
   "metadata": {},
   "outputs": [
    {
     "data": {
      "text/latex": [
       "$1.534e11 \\pm 2.0e9$"
      ],
      "text/plain": [
       "1.534e11 ± 2.0e9"
      ]
     },
     "metadata": {},
     "output_type": "display_data"
    }
   ],
   "source": [
    "e_m₃₃ = (2*V₃)/(B₃₃^2*r₃^2)"
   ]
  },
  {
   "cell_type": "code",
   "execution_count": 61,
   "id": "11796f59-c59d-4d3d-82c7-de327387a2f9",
   "metadata": {},
   "outputs": [],
   "source": [
    "B₃₄ = (8 * μ₀ * N * I3[3])/(sqrt(125)*a);"
   ]
  },
  {
   "cell_type": "code",
   "execution_count": 62,
   "id": "0d4bad74-3c5c-4e9d-9bda-7f623c703638",
   "metadata": {},
   "outputs": [
    {
     "data": {
      "text/latex": [
       "$1.501e11 \\pm 2.0e9$"
      ],
      "text/plain": [
       "1.501e11 ± 2.0e9"
      ]
     },
     "metadata": {},
     "output_type": "display_data"
    }
   ],
   "source": [
    "e_m₃₄ = (2*V₃)/(B₃₄^2*r₂^2)"
   ]
  },
  {
   "cell_type": "code",
   "execution_count": 63,
   "id": "1231238e-4152-44c5-945b-1a27f99f7194",
   "metadata": {},
   "outputs": [],
   "source": [
    "B₃₅ = (8 * μ₀ * N * I3[4])/(sqrt(125)*a);"
   ]
  },
  {
   "cell_type": "code",
   "execution_count": 64,
   "id": "629988fe-829f-4c89-ba04-9c190fb78cc8",
   "metadata": {},
   "outputs": [
    {
     "data": {
      "text/latex": [
       "$2.161e11 \\pm 2.8e9$"
      ],
      "text/plain": [
       "2.161e11 ± 2.8e9"
      ]
     },
     "metadata": {},
     "output_type": "display_data"
    }
   ],
   "source": [
    "e_m₃₅ = (2*V₃)/(B₃₅^2*r₁^2)"
   ]
  },
  {
   "cell_type": "code",
   "execution_count": 65,
   "id": "6aab4545-0140-4f26-8c80-e65e8950b029",
   "metadata": {},
   "outputs": [],
   "source": [
    "V₄ = 41;"
   ]
  },
  {
   "cell_type": "code",
   "execution_count": 66,
   "id": "b83de1a3-d80c-4a72-a697-08e34060ba6d",
   "metadata": {},
   "outputs": [],
   "source": [
    "I₀₄ = ((0.21 ± 0.005) + (0.38 ± 0.005))/2;"
   ]
  },
  {
   "cell_type": "code",
   "execution_count": 67,
   "id": "8ffd436e-797d-4d22-b540-1a2a4f57f085",
   "metadata": {},
   "outputs": [],
   "source": [
    "I₇ = [I₀₄, I₀₄, I₀₄, I₀₄, I₀₄];"
   ]
  },
  {
   "cell_type": "code",
   "execution_count": 68,
   "id": "37c877fd-c070-4c07-8a5d-e8712ed744d6",
   "metadata": {},
   "outputs": [],
   "source": [
    "Fil₄₁ = ((2.18 ± 0.005) + (2.35 ± 0.005))/2;"
   ]
  },
  {
   "cell_type": "code",
   "execution_count": 69,
   "id": "83fab4d6-1727-48c4-ac4b-1907d8192dd3",
   "metadata": {},
   "outputs": [],
   "source": [
    "Fil₄₂ = ((2.43 ± 0.005) + (2.64 ± 0.005))/2;"
   ]
  },
  {
   "cell_type": "code",
   "execution_count": 70,
   "id": "07c073ca-5e0c-46f3-b6ea-bb5f019c21c5",
   "metadata": {},
   "outputs": [],
   "source": [
    "Fil₄₃ = ((2.76 ± 0.005) + (2.9 ± 0.005))/2;"
   ]
  },
  {
   "cell_type": "code",
   "execution_count": 71,
   "id": "946eda78-a31c-406e-909c-21d1a67c2cac",
   "metadata": {},
   "outputs": [],
   "source": [
    "Fil₄₄ = ((3.15 ± 0.005) + (3.337 ± 0.005))/2;"
   ]
  },
  {
   "cell_type": "code",
   "execution_count": 72,
   "id": "d3bf5a03-4bc8-46f7-815d-19a40b056a85",
   "metadata": {},
   "outputs": [],
   "source": [
    "Fil₄₅ = ((3.77 ± 0.005) + (4.05 ± 0.005))/2;"
   ]
  },
  {
   "cell_type": "code",
   "execution_count": 73,
   "id": "64af3c77-a2ea-487e-a0f5-181f8862e131",
   "metadata": {},
   "outputs": [],
   "source": [
    "I₈ = [Fil₄₁, Fil₄₂, Fil₄₃, Fil₄₄, Fil₄₅];"
   ]
  },
  {
   "cell_type": "code",
   "execution_count": 74,
   "id": "df6486c6-996c-42d7-a6f3-b9d857399fa6",
   "metadata": {},
   "outputs": [],
   "source": [
    "I4 = I₈ - I₇;"
   ]
  },
  {
   "cell_type": "code",
   "execution_count": 75,
   "id": "fa342068-57cf-4940-b34d-74b62843ba26",
   "metadata": {},
   "outputs": [],
   "source": [
    "B₄₁ = (8 * μ₀ * N * I4[1])/(sqrt(125)*a);"
   ]
  },
  {
   "cell_type": "code",
   "execution_count": 76,
   "id": "76c1fb39-cb20-4554-80e0-326f45d629e3",
   "metadata": {},
   "outputs": [
    {
     "data": {
      "text/latex": [
       "$1.635e11 \\pm 2.2e9$"
      ],
      "text/plain": [
       "1.635e11 ± 2.2e9"
      ]
     },
     "metadata": {},
     "output_type": "display_data"
    }
   ],
   "source": [
    "e_m₄₁ = (2*V₄)/(B₄₁^2*r₅^2)"
   ]
  },
  {
   "cell_type": "code",
   "execution_count": 77,
   "id": "3a3409f4-3a61-47ba-a6a6-13d61a977bf1",
   "metadata": {},
   "outputs": [],
   "source": [
    "B₄₂ = (8 * μ₀ * N * I4[2])/(sqrt(125)*a);"
   ]
  },
  {
   "cell_type": "code",
   "execution_count": 78,
   "id": "d4da3ea4-fce5-43fd-8abf-03567769a715",
   "metadata": {},
   "outputs": [
    {
     "data": {
      "text/latex": [
       "$1.577e11 \\pm 2.1e9$"
      ],
      "text/plain": [
       "1.577e11 ± 2.1e9"
      ]
     },
     "metadata": {},
     "output_type": "display_data"
    }
   ],
   "source": [
    "e_m₄₂ = (2*V₄)/(B₄₂^2*r₄^2)"
   ]
  },
  {
   "cell_type": "code",
   "execution_count": 79,
   "id": "af587c28-effa-4979-9fe8-dbc3f6bcd0c9",
   "metadata": {},
   "outputs": [],
   "source": [
    "B₄₃ = (8 * μ₀ * N * I4[3])/(sqrt(125)*a);"
   ]
  },
  {
   "cell_type": "code",
   "execution_count": 80,
   "id": "6d283ce2-dab1-476b-b0fc-6142b8601a8e",
   "metadata": {},
   "outputs": [
    {
     "data": {
      "text/latex": [
       "$1.613e11 \\pm 2.1e9$"
      ],
      "text/plain": [
       "1.613e11 ± 2.1e9"
      ]
     },
     "metadata": {},
     "output_type": "display_data"
    }
   ],
   "source": [
    "e_m₄₃ = (2*V₄)/(B₄₃^2*r₃^2)"
   ]
  },
  {
   "cell_type": "code",
   "execution_count": 81,
   "id": "b5e98ed5-acee-47dc-8cb0-7a027359c3cf",
   "metadata": {},
   "outputs": [],
   "source": [
    "B₄₄ = (8 * μ₀ * N * I4[4])/(sqrt(125)*a);"
   ]
  },
  {
   "cell_type": "code",
   "execution_count": 82,
   "id": "5f2c243e-87f4-4537-aff9-5f92dda81ab2",
   "metadata": {},
   "outputs": [
    {
     "data": {
      "text/latex": [
       "$1.587e11 \\pm 2.0e9$"
      ],
      "text/plain": [
       "1.587e11 ± 2.0e9"
      ]
     },
     "metadata": {},
     "output_type": "display_data"
    }
   ],
   "source": [
    "e_m₄₄ = (2*V₄)/(B₄₄^2*r₂^2)"
   ]
  },
  {
   "cell_type": "code",
   "execution_count": 83,
   "id": "6a1356bd-8532-4828-92db-199160d58a2e",
   "metadata": {},
   "outputs": [],
   "source": [
    "B₄₅ = (8 * μ₀ * N * I4[5])/(sqrt(125)*a);"
   ]
  },
  {
   "cell_type": "code",
   "execution_count": 84,
   "id": "c80132d7-3d0a-439c-966d-ca2cd1c11e49",
   "metadata": {},
   "outputs": [
    {
     "data": {
      "text/latex": [
       "$1.52e11 \\pm 1.9e9$"
      ],
      "text/plain": [
       "1.52e11 ± 1.9e9"
      ]
     },
     "metadata": {},
     "output_type": "display_data"
    }
   ],
   "source": [
    "e_m₄₅ = (2*V₄)/(B₄₅^2*r₁^2)"
   ]
  },
  {
   "cell_type": "code",
   "execution_count": 85,
   "id": "4e6d1bb9-1165-4a11-af4a-3b98d77107d7",
   "metadata": {},
   "outputs": [],
   "source": [
    "V₅ = 51;"
   ]
  },
  {
   "cell_type": "code",
   "execution_count": 86,
   "id": "9ab10d62-6fc7-42d6-a3b1-81eb30358d4f",
   "metadata": {},
   "outputs": [],
   "source": [
    "I₀₅ = ((0.09 ± 0.005) + (0.35 ± 0.005))/2;"
   ]
  },
  {
   "cell_type": "code",
   "execution_count": 87,
   "id": "510a9adc-900d-407f-9c3e-835ef08e327b",
   "metadata": {},
   "outputs": [],
   "source": [
    "I₉ = [I₀₅, I₀₅, I₀₅, I₀₅, I₀₅];"
   ]
  },
  {
   "cell_type": "code",
   "execution_count": 88,
   "id": "457d3f99-a48e-4277-8e2c-b82862573dc0",
   "metadata": {},
   "outputs": [],
   "source": [
    "Fil₅₁ = ((2.45 ± 0.005) + (2.58 ± 0.005))/2;"
   ]
  },
  {
   "cell_type": "code",
   "execution_count": 89,
   "id": "05171324-c35d-43a1-ac92-2570ddbe99c7",
   "metadata": {},
   "outputs": [],
   "source": [
    "Fil₅₂ = ((2.79 ± 0.005) + (2.86 ± 0.005))/2;"
   ]
  },
  {
   "cell_type": "code",
   "execution_count": 90,
   "id": "339e7c66-a9f2-4663-a4db-1cbe04d3cf7d",
   "metadata": {},
   "outputs": [],
   "source": [
    "Fil₅₃ = ((3.14 ± 0.005) + (3.24 ± 0.005))/2;"
   ]
  },
  {
   "cell_type": "code",
   "execution_count": 91,
   "id": "c302ee63-5724-4322-add8-b48af30e4970",
   "metadata": {},
   "outputs": [],
   "source": [
    "Fil₅₄ = ((3.55 ± 0.005) + (3.24 ± 0.005))/2;"
   ]
  },
  {
   "cell_type": "code",
   "execution_count": 92,
   "id": "b7a2f1fa-4e7e-48cb-9996-b2f8450764f9",
   "metadata": {},
   "outputs": [],
   "source": [
    "Fil₅₅ = ((4.27 ± 0.005) + (4.43 ± 0.005))/2;"
   ]
  },
  {
   "cell_type": "code",
   "execution_count": 93,
   "id": "92c8ba99-6f1d-4148-934a-5c4a5b9b6699",
   "metadata": {},
   "outputs": [],
   "source": [
    "I₁₀ = [Fil₅₁, Fil₅₂, Fil₅₃, Fil₅₄, Fil₅₅];  "
   ]
  },
  {
   "cell_type": "code",
   "execution_count": 94,
   "id": "30cea3c8-b709-4f5d-bbf6-94124c41c2f4",
   "metadata": {},
   "outputs": [],
   "source": [
    "I5 = I₁₀ - I₉;"
   ]
  },
  {
   "cell_type": "code",
   "execution_count": 95,
   "id": "f88b0610-d539-4802-a039-c6090d035fb2",
   "metadata": {},
   "outputs": [],
   "source": [
    "B₅₁ = (8 * μ₀ * N * I5[1])/(sqrt(125)*a);"
   ]
  },
  {
   "cell_type": "code",
   "execution_count": 96,
   "id": "d84ac75b-f74f-405b-a2cf-68c831efe19c",
   "metadata": {},
   "outputs": [
    {
     "data": {
      "text/latex": [
       "$1.499e11 \\pm 1.9e9$"
      ],
      "text/plain": [
       "1.499e11 ± 1.9e9"
      ]
     },
     "metadata": {},
     "output_type": "display_data"
    }
   ],
   "source": [
    "e_m₅₁ = (2*V₅)/(B₅₁^2*r₅^2)"
   ]
  },
  {
   "cell_type": "code",
   "execution_count": 97,
   "id": "b22ab5ee-4534-4b03-ad38-1e002b9be9cd",
   "metadata": {},
   "outputs": [],
   "source": [
    "B₅₂ = (8 * μ₀ * N * I5[2])/(sqrt(125)*a);"
   ]
  },
  {
   "cell_type": "code",
   "execution_count": 98,
   "id": "6cc5ee23-27b5-4ecd-9a9a-ca300232cea5",
   "metadata": {},
   "outputs": [
    {
     "data": {
      "text/latex": [
       "$1.45e11 \\pm 1.9e9$"
      ],
      "text/plain": [
       "1.45e11 ± 1.9e9"
      ]
     },
     "metadata": {},
     "output_type": "display_data"
    }
   ],
   "source": [
    "e_m₅₂ = (2*V₅)/(B₅₂^2*r₄^2)"
   ]
  },
  {
   "cell_type": "code",
   "execution_count": 99,
   "id": "a3543f6b-d957-4469-a41b-11ffd7c98348",
   "metadata": {},
   "outputs": [],
   "source": [
    "B₅₃ = (8 * μ₀ * N * I5[3])/(sqrt(125)*a);"
   ]
  },
  {
   "cell_type": "code",
   "execution_count": 100,
   "id": "8d2ed9d7-a065-4e7b-b364-8b2e7db3c0fb",
   "metadata": {},
   "outputs": [
    {
     "data": {
      "text/latex": [
       "$1.461e11 \\pm 1.9e9$"
      ],
      "text/plain": [
       "1.461e11 ± 1.9e9"
      ]
     },
     "metadata": {},
     "output_type": "display_data"
    }
   ],
   "source": [
    "e_m₅₃ = (2*V₅)/(B₅₃^2*r₃^2)"
   ]
  },
  {
   "cell_type": "code",
   "execution_count": 101,
   "id": "a98063c4-1eca-429f-8594-fe3e44607e6c",
   "metadata": {},
   "outputs": [],
   "source": [
    "B₅₄ = (8 * μ₀ * N * I5[4])/(sqrt(125)*a);"
   ]
  },
  {
   "cell_type": "code",
   "execution_count": 102,
   "id": "241edc44-e3a0-4f2f-a45b-5bad4c8ba49d",
   "metadata": {},
   "outputs": [
    {
     "data": {
      "text/latex": [
       "$1.702e11 \\pm 2.1e9$"
      ],
      "text/plain": [
       "1.702e11 ± 2.1e9"
      ]
     },
     "metadata": {},
     "output_type": "display_data"
    }
   ],
   "source": [
    "e_m₄₅ = (2*V₅)/(B₅₄^2*r₂^2)"
   ]
  },
  {
   "cell_type": "code",
   "execution_count": 103,
   "id": "533eb048-49ce-494a-aa37-861d71f53cbd",
   "metadata": {},
   "outputs": [],
   "source": [
    "B₅₅ = (8 * μ₀ * N * I5[5])/(sqrt(125)*a);"
   ]
  },
  {
   "cell_type": "code",
   "execution_count": 104,
   "id": "bbefb8e4-582a-4147-abb1-832efe404ded",
   "metadata": {},
   "outputs": [
    {
     "data": {
      "text/latex": [
       "$1.449e11 \\pm 1.8e9$"
      ],
      "text/plain": [
       "1.449e11 ± 1.8e9"
      ]
     },
     "metadata": {},
     "output_type": "display_data"
    }
   ],
   "source": [
    "e_m₄₅ = (2*V₅)/(B₅₅^2*r₁^2)"
   ]
  },
  {
   "cell_type": "code",
   "execution_count": 105,
   "id": "cc35bba5-c915-4bb8-a1dd-9b3e20642e0b",
   "metadata": {},
   "outputs": [],
   "source": [
    "V₆ = 61;"
   ]
  },
  {
   "cell_type": "code",
   "execution_count": 106,
   "id": "0d3df932-fb05-4f9d-8670-2555efba0ef9",
   "metadata": {},
   "outputs": [],
   "source": [
    "I₀₆ = ((0.08 ± 0.005) + (0.25 ± 0.005))/2;"
   ]
  },
  {
   "cell_type": "code",
   "execution_count": 107,
   "id": "fcb303e5-97ac-4b68-a38a-cfde01445a88",
   "metadata": {},
   "outputs": [],
   "source": [
    "I₁₁ = [I₀₆, I₀₆, I₀₆, I₀₆, I₀₆];"
   ]
  },
  {
   "cell_type": "code",
   "execution_count": 108,
   "id": "090c6b01-5798-462d-b569-9b1a2cbcce1d",
   "metadata": {},
   "outputs": [],
   "source": [
    "Fil₆₁ = ((2.67 ± 0.005) + (2.84± 0.005))/2;"
   ]
  },
  {
   "cell_type": "code",
   "execution_count": 109,
   "id": "007843dd-bde9-47ec-aa67-30e3db16e0d3",
   "metadata": {},
   "outputs": [],
   "source": [
    "Fil₆₂ = ((2.96 ± 0.005) + (3.13 ± 0.005))/2;"
   ]
  },
  {
   "cell_type": "code",
   "execution_count": 110,
   "id": "d4b6f78b-f59e-48b3-95dd-bda49267a3b0",
   "metadata": {},
   "outputs": [],
   "source": [
    "Fil₆₃ = ((3.33 ± 0.005) + (3.5 ± 0.005))/2;"
   ]
  },
  {
   "cell_type": "code",
   "execution_count": 111,
   "id": "3e863339-4cfb-4468-ba69-84cfbf25ea0d",
   "metadata": {},
   "outputs": [],
   "source": [
    "Fil₆₄ = ((3.84 ± 0.005) + (4.08 ± 0.005))/2;"
   ]
  },
  {
   "cell_type": "code",
   "execution_count": 112,
   "id": "d3f1f477-9671-4922-8330-35b431e3def4",
   "metadata": {},
   "outputs": [],
   "source": [
    "Fil₆₅ = ((4.67 ± 0.005) + (4.86 ± 0.005))/2;"
   ]
  },
  {
   "cell_type": "code",
   "execution_count": 113,
   "id": "7e3f5dee-f552-4a48-b754-4f6bd5fe2eb5",
   "metadata": {},
   "outputs": [],
   "source": [
    "I₁₂ = [Fil₆₁, Fil₆₂, Fil₆₃, Fil₆₄, Fil₆₅]; "
   ]
  },
  {
   "cell_type": "code",
   "execution_count": 114,
   "id": "c96b8d53-1156-4547-a550-dade51174e30",
   "metadata": {},
   "outputs": [],
   "source": [
    "I6 = I₁₂ - I₁₁;"
   ]
  },
  {
   "cell_type": "code",
   "execution_count": 115,
   "id": "77b4070b-dff3-40ee-a799-2f68911b6d9f",
   "metadata": {},
   "outputs": [],
   "source": [
    "B₆₁ = (8 * μ₀ * N * I6[1])/(sqrt(125)*a);"
   ]
  },
  {
   "cell_type": "code",
   "execution_count": 116,
   "id": "df471198-fda5-40ef-93ce-5c69b1b183c1",
   "metadata": {},
   "outputs": [
    {
     "data": {
      "text/latex": [
       "$1.408e11 \\pm 1.8e9$"
      ],
      "text/plain": [
       "1.408e11 ± 1.8e9"
      ]
     },
     "metadata": {},
     "output_type": "display_data"
    }
   ],
   "source": [
    "e_m₆₁ = (2*V₆)/(B₆₁^2*r₅^2)"
   ]
  },
  {
   "cell_type": "code",
   "execution_count": 117,
   "id": "77fb2cc2-52ac-4c21-af68-8dd7fcef1b21",
   "metadata": {},
   "outputs": [],
   "source": [
    "B₆₂ = (8 * μ₀ * N * I6[2])/(sqrt(125)*a);"
   ]
  },
  {
   "cell_type": "code",
   "execution_count": 118,
   "id": "b7102a8a-dc5a-4e24-9558-78de4ff1de3e",
   "metadata": {},
   "outputs": [
    {
     "data": {
      "text/latex": [
       "$1.419e11 \\pm 1.8e9$"
      ],
      "text/plain": [
       "1.419e11 ± 1.8e9"
      ]
     },
     "metadata": {},
     "output_type": "display_data"
    }
   ],
   "source": [
    "e_m₆₂ = (2*V₆)/(B₆₂^2*r₄^2)"
   ]
  },
  {
   "cell_type": "code",
   "execution_count": 119,
   "id": "298d7b4a-a1e2-4f73-bba1-6e8dd37d3c0a",
   "metadata": {},
   "outputs": [],
   "source": [
    "B₆₃ = (8 * μ₀ * N * I6[3])/(sqrt(125)*a);"
   ]
  },
  {
   "cell_type": "code",
   "execution_count": 120,
   "id": "be111b1f-2a36-44f0-8ea1-8825738c6542",
   "metadata": {},
   "outputs": [
    {
     "data": {
      "text/latex": [
       "$1.46e11 \\pm 1.8e9$"
      ],
      "text/plain": [
       "1.46e11 ± 1.8e9"
      ]
     },
     "metadata": {},
     "output_type": "display_data"
    }
   ],
   "source": [
    "e_m₆₃ = (2*V₆)/(B₆₃^2*r₃^2)"
   ]
  },
  {
   "cell_type": "code",
   "execution_count": 121,
   "id": "36400c2d-ee12-414a-a515-b835d6e7a620",
   "metadata": {},
   "outputs": [],
   "source": [
    "B₆₄ = (8 * μ₀ * N * I6[4])/(sqrt(125)*a);"
   ]
  },
  {
   "cell_type": "code",
   "execution_count": 122,
   "id": "3c7046e3-33c6-4ec1-bd43-1b65c7e2ed6e",
   "metadata": {},
   "outputs": [
    {
     "data": {
      "text/latex": [
       "$1.425e11 \\pm 1.8e9$"
      ],
      "text/plain": [
       "1.425e11 ± 1.8e9"
      ]
     },
     "metadata": {},
     "output_type": "display_data"
    }
   ],
   "source": [
    "e_m₆₄ = (2*V₆)/(B₆₄^2*r₂^2)"
   ]
  },
  {
   "cell_type": "code",
   "execution_count": 123,
   "id": "a6f9bc2f-146c-4b41-a8c1-ba5563bcd6b2",
   "metadata": {},
   "outputs": [],
   "source": [
    "B₆₅ = (8 * μ₀ * N * I6[5])/(sqrt(125)*a);"
   ]
  },
  {
   "cell_type": "code",
   "execution_count": 124,
   "id": "59d9638e-16de-4718-b8b4-0eb79d425a11",
   "metadata": {},
   "outputs": [
    {
     "data": {
      "text/latex": [
       "$1.397e11 \\pm 1.7e9$"
      ],
      "text/plain": [
       "1.397e11 ± 1.7e9"
      ]
     },
     "metadata": {},
     "output_type": "display_data"
    }
   ],
   "source": [
    "e_m₆₅ = (2*V₆)/(B₆₅^2*r₁^2)"
   ]
  },
  {
   "cell_type": "code",
   "execution_count": 165,
   "id": "db95420a-c8bd-435d-bdb6-f5625c09ab28",
   "metadata": {},
   "outputs": [],
   "source": [
    "B1 = [B₁^2, B₂^2, B₃^2, B₄^2, B₅^2]\n",
    "B2 = [B₂₂^2, B₂₃^2, B₂₄^2, B₂₅^2]\n",
    "B3 = [B₃₂^2, B₃₃^2, B₃₄^2]\n",
    "B4 = [B₄₁^2, B₄₂^2, B₄₃^2, B₄₄^2, B₄₅^2]\n",
    "B5 = [B₅₁^2, B₅₂^2, B₅₃^2, B₅₅^2]\n",
    "B6 = [B₆₁^2, B₆₂^2, B₆₃^2, B₆₄^2, B₆₅^2]\n",
    "r3 = [r₄^2, r₃^2, r₂^2]\n",
    "r5 = [r₅^2, r₄^2, r₃^2, r₁^2]\n",
    "r1 = [r₄^2, r₃^2, r₂^2, r₁^2]\n",
    "r = [r₅^2, r₄^2, r₃^2, r₂^2, r₁^2]\n",
    "V = [V₁, V₂, V₃, V₄, V₅];"
   ]
  },
  {
   "cell_type": "code",
   "execution_count": 166,
   "id": "568765f5-9366-4d9e-939c-5a434b0c21a4",
   "metadata": {},
   "outputs": [],
   "source": [
    "x1 = B1 .* r\n",
    "x2 = B2 .* r1\n",
    "x3 = B3 .* r3\n",
    "x4 = B4 .* r\n",
    "x5 = B5 .* r5\n",
    "x6 = B6 .* r\n",
    "\n",
    "\n",
    "y1 = [V₁,V₁,V₁,V₁,V₁,V₁]\n",
    "y2 = [V₂, V₂, V₂, V₂, V₂]\n",
    "y3 = [V₃, V₃, V₃, V₃, V₃]\n",
    "y4 = [V₄, V₄, V₄, V₄, V₄]\n",
    "y5 = [V₅, V₅, V₅, V₅, V₅]\n",
    "y6 = [V₆, V₆, V₆, V₆, V₆];"
   ]
  },
  {
   "cell_type": "code",
   "execution_count": 167,
   "id": "430cc1d3-4b1b-4f91-b753-684865412710",
   "metadata": {},
   "outputs": [
    {
     "data": {
      "image/png": "[encoded data removed]",
      "image/svg+xml": [
       "<?xml version=\"1.0\" encoding=\"utf-8\"?>\n",
       "<svg xmlns=\"http://www.w3.org/2000/svg\" xmlns:xlink=\"http://www.w3.org/1999/xlink\" width=\"600\" height=\"400\" viewBox=\"0 0 2400 1600\">\n",
       "<defs>\n",
       "  <clipPath id=\"clip190\">\n",
       "    <rect x=\"0\" y=\"0\" width=\"2400\" height=\"1600\"/>\n",
       "  </clipPath>\n",
       "</defs>\n",
       "<path clip-path=\"url(#clip190)\" d=\"M0 1600 L2400 1600 L2400 0 L0 0  Z\" fill=\"#ffffff\" fill-rule=\"evenodd\" fill-opacity=\"1\"/>\n",
       "<defs>\n",
       "  <clipPath id=\"clip191\">\n",
       "    <rect x=\"480\" y=\"0\" width=\"1681\" height=\"1600\"/>\n",
       "  </clipPath>\n",
       "</defs>\n",
       "<path clip-path=\"url(#clip190)\" d=\"M141.853 1474.16 L2352.76 1474.16 L2352.76 47.2441 L141.853 47.2441  Z\" fill=\"#ffffff\" fill-rule=\"evenodd\" fill-opacity=\"1\"/>\n",
       "<defs>\n",
       "  <clipPath id=\"clip192\">\n",
       "    <rect x=\"141\" y=\"47\" width=\"2212\" height=\"1428\"/>\n",
       "  </clipPath>\n",
       "</defs>\n",
       "<polyline clip-path=\"url(#clip192)\" style=\"stroke:#000000; stroke-linecap:round; stroke-linejoin:round; stroke-width:2; stroke-opacity:0.1; fill:none\" points=\"301.874,1474.16 301.874,47.2441 \"/>\n",
       "<polyline clip-path=\"url(#clip192)\" style=\"stroke:#000000; stroke-linecap:round; stroke-linejoin:round; stroke-width:2; stroke-opacity:0.1; fill:none\" points=\"883.049,1474.16 883.049,47.2441 \"/>\n",
       "<polyline clip-path=\"url(#clip192)\" style=\"stroke:#000000; stroke-linecap:round; stroke-linejoin:round; stroke-width:2; stroke-opacity:0.1; fill:none\" points=\"1464.22,1474.16 1464.22,47.2441 \"/>\n",
       "<polyline clip-path=\"url(#clip192)\" style=\"stroke:#000000; stroke-linecap:round; stroke-linejoin:round; stroke-width:2; stroke-opacity:0.1; fill:none\" points=\"2045.4,1474.16 2045.4,47.2441 \"/>\n",
       "<polyline clip-path=\"url(#clip190)\" style=\"stroke:#000000; stroke-linecap:round; stroke-linejoin:round; stroke-width:4; stroke-opacity:1; fill:none\" points=\"141.853,1474.16 2352.76,1474.16 \"/>\n",
       "<polyline clip-path=\"url(#clip190)\" style=\"stroke:#000000; stroke-linecap:round; stroke-linejoin:round; stroke-width:4; stroke-opacity:1; fill:none\" points=\"301.874,1474.16 301.874,1455.27 \"/>\n",
       "<polyline clip-path=\"url(#clip190)\" style=\"stroke:#000000; stroke-linecap:round; stroke-linejoin:round; stroke-width:4; stroke-opacity:1; fill:none\" points=\"883.049,1474.16 883.049,1455.27 \"/>\n",
       "<polyline clip-path=\"url(#clip190)\" style=\"stroke:#000000; stroke-linecap:round; stroke-linejoin:round; stroke-width:4; stroke-opacity:1; fill:none\" points=\"1464.22,1474.16 1464.22,1455.27 \"/>\n",
       "<polyline clip-path=\"url(#clip190)\" style=\"stroke:#000000; stroke-linecap:round; stroke-linejoin:round; stroke-width:4; stroke-opacity:1; fill:none\" points=\"2045.4,1474.16 2045.4,1455.27 \"/>\n",
       "<path clip-path=\"url(#clip190)\" d=\"M185.765 1548.29 L202.085 1548.29 L202.085 1552.22 L180.141 1552.22 L180.141 1548.29 Q182.803 1545.53 187.386 1540.91 Q191.992 1536.25 193.173 1534.91 Q195.418 1532.39 196.298 1530.65 Q197.201 1528.89 197.201 1527.2 Q197.201 1524.45 195.256 1522.71 Q193.335 1520.97 190.233 1520.97 Q188.034 1520.97 185.58 1521.74 Q183.15 1522.5 180.372 1524.05 L180.372 1519.33 Q183.196 1518.2 185.65 1517.62 Q188.103 1517.04 190.14 1517.04 Q195.511 1517.04 198.705 1519.72 Q201.9 1522.41 201.9 1526.9 Q201.9 1529.03 201.089 1530.95 Q200.302 1532.85 198.196 1535.44 Q197.617 1536.11 194.515 1539.33 Q191.414 1542.53 185.765 1548.29 Z\" fill=\"#000000\" fill-rule=\"nonzero\" fill-opacity=\"1\" /><path clip-path=\"url(#clip190)\" d=\"M211.9 1546.35 L216.784 1546.35 L216.784 1552.22 L211.9 1552.22 L211.9 1546.35 Z\" fill=\"#000000\" fill-rule=\"nonzero\" fill-opacity=\"1\" /><path clip-path=\"url(#clip190)\" d=\"M236.969 1520.74 Q233.358 1520.74 231.529 1524.31 Q229.724 1527.85 229.724 1534.98 Q229.724 1542.09 231.529 1545.65 Q233.358 1549.19 236.969 1549.19 Q240.603 1549.19 242.409 1545.65 Q244.237 1542.09 244.237 1534.98 Q244.237 1527.85 242.409 1524.31 Q240.603 1520.74 236.969 1520.74 M236.969 1517.04 Q242.779 1517.04 245.835 1521.65 Q248.913 1526.23 248.913 1534.98 Q248.913 1543.71 245.835 1548.31 Q242.779 1552.9 236.969 1552.9 Q231.159 1552.9 228.08 1548.31 Q225.025 1543.71 225.025 1534.98 Q225.025 1526.23 228.08 1521.65 Q231.159 1517.04 236.969 1517.04 Z\" fill=\"#000000\" fill-rule=\"nonzero\" fill-opacity=\"1\" /><path clip-path=\"url(#clip190)\" d=\"M285.302 1526.76 L274.723 1537.39 L285.302 1547.97 L282.547 1550.77 L271.922 1540.14 L261.297 1550.77 L258.566 1547.97 L269.122 1537.39 L258.566 1526.76 L261.297 1523.96 L271.922 1534.59 L282.547 1523.96 L285.302 1526.76 Z\" fill=\"#000000\" fill-rule=\"nonzero\" fill-opacity=\"1\" /><path clip-path=\"url(#clip190)\" d=\"M297.663 1548.29 L305.302 1548.29 L305.302 1521.92 L296.992 1523.59 L296.992 1519.33 L305.256 1517.66 L309.931 1517.66 L309.931 1548.29 L317.57 1548.29 L317.57 1552.22 L297.663 1552.22 L297.663 1548.29 Z\" fill=\"#000000\" fill-rule=\"nonzero\" fill-opacity=\"1\" /><path clip-path=\"url(#clip190)\" d=\"M337.015 1520.74 Q333.404 1520.74 331.575 1524.31 Q329.769 1527.85 329.769 1534.98 Q329.769 1542.09 331.575 1545.65 Q333.404 1549.19 337.015 1549.19 Q340.649 1549.19 342.454 1545.65 Q344.283 1542.09 344.283 1534.98 Q344.283 1527.85 342.454 1524.31 Q340.649 1520.74 337.015 1520.74 M337.015 1517.04 Q342.825 1517.04 345.88 1521.65 Q348.959 1526.23 348.959 1534.98 Q348.959 1543.71 345.88 1548.31 Q342.825 1552.9 337.015 1552.9 Q331.205 1552.9 328.126 1548.31 Q325.07 1543.71 325.07 1534.98 Q325.07 1526.23 328.126 1521.65 Q331.205 1517.04 337.015 1517.04 Z\" fill=\"#000000\" fill-rule=\"nonzero\" fill-opacity=\"1\" /><path clip-path=\"url(#clip190)\" d=\"M348.959 1511.14 L373.071 1511.14 L373.071 1514.34 L348.959 1514.34 L348.959 1511.14 Z\" fill=\"#000000\" fill-rule=\"nonzero\" fill-opacity=\"1\" /><path clip-path=\"url(#clip190)\" d=\"M381.929 1521.62 L388.136 1521.62 L388.136 1500.19 L381.384 1501.55 L381.384 1498.09 L388.098 1496.73 L391.897 1496.73 L391.897 1521.62 L398.104 1521.62 L398.104 1524.81 L381.929 1524.81 L381.929 1521.62 Z\" fill=\"#000000\" fill-rule=\"nonzero\" fill-opacity=\"1\" /><path clip-path=\"url(#clip190)\" d=\"M413.902 1499.24 Q410.968 1499.24 409.482 1502.13 Q408.015 1505.01 408.015 1510.8 Q408.015 1516.58 409.482 1519.47 Q410.968 1522.35 413.902 1522.35 Q416.855 1522.35 418.322 1519.47 Q419.808 1516.58 419.808 1510.8 Q419.808 1505.01 418.322 1502.13 Q416.855 1499.24 413.902 1499.24 M413.902 1496.23 Q418.623 1496.23 421.106 1499.97 Q423.607 1503.69 423.607 1510.8 Q423.607 1517.89 421.106 1521.64 Q418.623 1525.36 413.902 1525.36 Q409.182 1525.36 406.68 1521.64 Q404.197 1517.89 404.197 1510.8 Q404.197 1503.69 406.68 1499.97 Q409.182 1496.23 413.902 1496.23 Z\" fill=\"#000000\" fill-rule=\"nonzero\" fill-opacity=\"1\" /><path clip-path=\"url(#clip190)\" d=\"M776.339 1521.74 L764.533 1540.19 L776.339 1540.19 L776.339 1521.74 M775.112 1517.66 L780.991 1517.66 L780.991 1540.19 L785.922 1540.19 L785.922 1544.08 L780.991 1544.08 L780.991 1552.22 L776.339 1552.22 L776.339 1544.08 L760.737 1544.08 L760.737 1539.56 L775.112 1517.66 Z\" fill=\"#000000\" fill-rule=\"nonzero\" fill-opacity=\"1\" /><path clip-path=\"url(#clip190)\" d=\"M793.653 1546.35 L798.538 1546.35 L798.538 1552.22 L793.653 1552.22 L793.653 1546.35 Z\" fill=\"#000000\" fill-rule=\"nonzero\" fill-opacity=\"1\" /><path clip-path=\"url(#clip190)\" d=\"M818.723 1520.74 Q815.112 1520.74 813.283 1524.31 Q811.477 1527.85 811.477 1534.98 Q811.477 1542.09 813.283 1545.65 Q815.112 1549.19 818.723 1549.19 Q822.357 1549.19 824.162 1545.65 Q825.991 1542.09 825.991 1534.98 Q825.991 1527.85 824.162 1524.31 Q822.357 1520.74 818.723 1520.74 M818.723 1517.04 Q824.533 1517.04 827.588 1521.65 Q830.667 1526.23 830.667 1534.98 Q830.667 1543.71 827.588 1548.31 Q824.533 1552.9 818.723 1552.9 Q812.912 1552.9 809.834 1548.31 Q806.778 1543.71 806.778 1534.98 Q806.778 1526.23 809.834 1521.65 Q812.912 1517.04 818.723 1517.04 Z\" fill=\"#000000\" fill-rule=\"nonzero\" fill-opacity=\"1\" /><path clip-path=\"url(#clip190)\" d=\"M867.056 1526.76 L856.477 1537.39 L867.056 1547.97 L864.301 1550.77 L853.676 1540.14 L843.051 1550.77 L840.32 1547.97 L850.875 1537.39 L840.32 1526.76 L843.051 1523.96 L853.676 1534.59 L864.301 1523.96 L867.056 1526.76 Z\" fill=\"#000000\" fill-rule=\"nonzero\" fill-opacity=\"1\" /><path clip-path=\"url(#clip190)\" d=\"M879.417 1548.29 L887.056 1548.29 L887.056 1521.92 L878.745 1523.59 L878.745 1519.33 L887.009 1517.66 L891.685 1517.66 L891.685 1548.29 L899.324 1548.29 L899.324 1552.22 L879.417 1552.22 L879.417 1548.29 Z\" fill=\"#000000\" fill-rule=\"nonzero\" fill-opacity=\"1\" /><path clip-path=\"url(#clip190)\" d=\"M918.768 1520.74 Q915.157 1520.74 913.329 1524.31 Q911.523 1527.85 911.523 1534.98 Q911.523 1542.09 913.329 1545.65 Q915.157 1549.19 918.768 1549.19 Q922.403 1549.19 924.208 1545.65 Q926.037 1542.09 926.037 1534.98 Q926.037 1527.85 924.208 1524.31 Q922.403 1520.74 918.768 1520.74 M918.768 1517.04 Q924.579 1517.04 927.634 1521.65 Q930.713 1526.23 930.713 1534.98 Q930.713 1543.71 927.634 1548.31 Q924.579 1552.9 918.768 1552.9 Q912.958 1552.9 909.88 1548.31 Q906.824 1543.71 906.824 1534.98 Q906.824 1526.23 909.88 1521.65 Q912.958 1517.04 918.768 1517.04 Z\" fill=\"#000000\" fill-rule=\"nonzero\" fill-opacity=\"1\" /><path clip-path=\"url(#clip190)\" d=\"M930.713 1511.14 L954.824 1511.14 L954.824 1514.34 L930.713 1514.34 L930.713 1511.14 Z\" fill=\"#000000\" fill-rule=\"nonzero\" fill-opacity=\"1\" /><path clip-path=\"url(#clip190)\" d=\"M963.683 1521.62 L969.889 1521.62 L969.889 1500.19 L963.137 1501.55 L963.137 1498.09 L969.852 1496.73 L973.651 1496.73 L973.651 1521.62 L979.857 1521.62 L979.857 1524.81 L963.683 1524.81 L963.683 1521.62 Z\" fill=\"#000000\" fill-rule=\"nonzero\" fill-opacity=\"1\" /><path clip-path=\"url(#clip190)\" d=\"M995.656 1499.24 Q992.722 1499.24 991.236 1502.13 Q989.769 1505.01 989.769 1510.8 Q989.769 1516.58 991.236 1519.47 Q992.722 1522.35 995.656 1522.35 Q998.609 1522.35 1000.08 1519.47 Q1001.56 1516.58 1001.56 1510.8 Q1001.56 1505.01 1000.08 1502.13 Q998.609 1499.24 995.656 1499.24 M995.656 1496.23 Q1000.38 1496.23 1002.86 1499.97 Q1005.36 1503.69 1005.36 1510.8 Q1005.36 1517.89 1002.86 1521.64 Q1000.38 1525.36 995.656 1525.36 Q990.935 1525.36 988.434 1521.64 Q985.951 1517.89 985.951 1510.8 Q985.951 1503.69 988.434 1499.97 Q990.935 1496.23 995.656 1496.23 Z\" fill=\"#000000\" fill-rule=\"nonzero\" fill-opacity=\"1\" /><path clip-path=\"url(#clip190)\" d=\"M1354.75 1533.08 Q1351.6 1533.08 1349.75 1535.23 Q1347.92 1537.39 1347.92 1541.14 Q1347.92 1544.86 1349.75 1547.04 Q1351.6 1549.19 1354.75 1549.19 Q1357.9 1549.19 1359.72 1547.04 Q1361.58 1544.86 1361.58 1541.14 Q1361.58 1537.39 1359.72 1535.23 Q1357.9 1533.08 1354.75 1533.08 M1364.03 1518.43 L1364.03 1522.69 Q1362.27 1521.85 1360.46 1521.41 Q1358.68 1520.97 1356.92 1520.97 Q1352.29 1520.97 1349.84 1524.1 Q1347.41 1527.22 1347.06 1533.54 Q1348.43 1531.53 1350.49 1530.47 Q1352.55 1529.38 1355.03 1529.38 Q1360.23 1529.38 1363.24 1532.55 Q1366.28 1535.7 1366.28 1541.14 Q1366.28 1546.46 1363.13 1549.68 Q1359.98 1552.9 1354.75 1552.9 Q1348.75 1552.9 1345.58 1548.31 Q1342.41 1543.71 1342.41 1534.98 Q1342.41 1526.78 1346.3 1521.92 Q1350.19 1517.04 1356.74 1517.04 Q1358.5 1517.04 1360.28 1517.39 Q1362.09 1517.73 1364.03 1518.43 Z\" fill=\"#000000\" fill-rule=\"nonzero\" fill-opacity=\"1\" /><path clip-path=\"url(#clip190)\" d=\"M1374.33 1546.35 L1379.21 1546.35 L1379.21 1552.22 L1374.33 1552.22 L1374.33 1546.35 Z\" fill=\"#000000\" fill-rule=\"nonzero\" fill-opacity=\"1\" /><path clip-path=\"url(#clip190)\" d=\"M1399.4 1520.74 Q1395.79 1520.74 1393.96 1524.31 Q1392.15 1527.85 1392.15 1534.98 Q1392.15 1542.09 1393.96 1545.65 Q1395.79 1549.19 1399.4 1549.19 Q1403.03 1549.19 1404.84 1545.65 Q1406.67 1542.09 1406.67 1534.98 Q1406.67 1527.85 1404.84 1524.31 Q1403.03 1520.74 1399.4 1520.74 M1399.4 1517.04 Q1405.21 1517.04 1408.27 1521.65 Q1411.34 1526.23 1411.34 1534.98 Q1411.34 1543.71 1408.27 1548.31 Q1405.21 1552.9 1399.4 1552.9 Q1393.59 1552.9 1390.51 1548.31 Q1387.46 1543.71 1387.46 1534.98 Q1387.46 1526.23 1390.51 1521.65 Q1393.59 1517.04 1399.4 1517.04 Z\" fill=\"#000000\" fill-rule=\"nonzero\" fill-opacity=\"1\" /><path clip-path=\"url(#clip190)\" d=\"M1447.73 1526.76 L1437.15 1537.39 L1447.73 1547.97 L1444.98 1550.77 L1434.35 1540.14 L1423.73 1550.77 L1421 1547.97 L1431.55 1537.39 L1421 1526.76 L1423.73 1523.96 L1434.35 1534.59 L1444.98 1523.96 L1447.73 1526.76 Z\" fill=\"#000000\" fill-rule=\"nonzero\" fill-opacity=\"1\" /><path clip-path=\"url(#clip190)\" d=\"M1460.09 1548.29 L1467.73 1548.29 L1467.73 1521.92 L1459.42 1523.59 L1459.42 1519.33 L1467.69 1517.66 L1472.36 1517.66 L1472.36 1548.29 L1480 1548.29 L1480 1552.22 L1460.09 1552.22 L1460.09 1548.29 Z\" fill=\"#000000\" fill-rule=\"nonzero\" fill-opacity=\"1\" /><path clip-path=\"url(#clip190)\" d=\"M1499.45 1520.74 Q1495.83 1520.74 1494.01 1524.31 Q1492.2 1527.85 1492.2 1534.98 Q1492.2 1542.09 1494.01 1545.65 Q1495.83 1549.19 1499.45 1549.19 Q1503.08 1549.19 1504.89 1545.65 Q1506.71 1542.09 1506.71 1534.98 Q1506.71 1527.85 1504.89 1524.31 Q1503.08 1520.74 1499.45 1520.74 M1499.45 1517.04 Q1505.26 1517.04 1508.31 1521.65 Q1511.39 1526.23 1511.39 1534.98 Q1511.39 1543.71 1508.31 1548.31 Q1505.26 1552.9 1499.45 1552.9 Q1493.64 1552.9 1490.56 1548.31 Q1487.5 1543.71 1487.5 1534.98 Q1487.5 1526.23 1490.56 1521.65 Q1493.64 1517.04 1499.45 1517.04 Z\" fill=\"#000000\" fill-rule=\"nonzero\" fill-opacity=\"1\" /><path clip-path=\"url(#clip190)\" d=\"M1511.39 1511.14 L1535.5 1511.14 L1535.5 1514.34 L1511.39 1514.34 L1511.39 1511.14 Z\" fill=\"#000000\" fill-rule=\"nonzero\" fill-opacity=\"1\" /><path clip-path=\"url(#clip190)\" d=\"M1544.36 1521.62 L1550.57 1521.62 L1550.57 1500.19 L1543.81 1501.55 L1543.81 1498.09 L1550.53 1496.73 L1554.33 1496.73 L1554.33 1521.62 L1560.53 1521.62 L1560.53 1524.81 L1544.36 1524.81 L1544.36 1521.62 Z\" fill=\"#000000\" fill-rule=\"nonzero\" fill-opacity=\"1\" /><path clip-path=\"url(#clip190)\" d=\"M1576.33 1499.24 Q1573.4 1499.24 1571.91 1502.13 Q1570.45 1505.01 1570.45 1510.8 Q1570.45 1516.58 1571.91 1519.47 Q1573.4 1522.35 1576.33 1522.35 Q1579.29 1522.35 1580.75 1519.47 Q1582.24 1516.58 1582.24 1510.8 Q1582.24 1505.01 1580.75 1502.13 Q1579.29 1499.24 1576.33 1499.24 M1576.33 1496.23 Q1581.05 1496.23 1583.54 1499.97 Q1586.04 1503.69 1586.04 1510.8 Q1586.04 1517.89 1583.54 1521.64 Q1581.05 1525.36 1576.33 1525.36 Q1571.61 1525.36 1569.11 1521.64 Q1566.63 1517.89 1566.63 1510.8 Q1566.63 1503.69 1569.11 1499.97 Q1571.61 1496.23 1576.33 1496.23 Z\" fill=\"#000000\" fill-rule=\"nonzero\" fill-opacity=\"1\" /><path clip-path=\"url(#clip190)\" d=\"M1935.39 1535.81 Q1932.06 1535.81 1930.14 1537.6 Q1928.24 1539.38 1928.24 1542.5 Q1928.24 1545.63 1930.14 1547.41 Q1932.06 1549.19 1935.39 1549.19 Q1938.72 1549.19 1940.64 1547.41 Q1942.57 1545.6 1942.57 1542.5 Q1942.57 1539.38 1940.64 1537.6 Q1938.75 1535.81 1935.39 1535.81 M1930.71 1533.82 Q1927.7 1533.08 1926.02 1531.02 Q1924.35 1528.96 1924.35 1526 Q1924.35 1521.85 1927.29 1519.45 Q1930.25 1517.04 1935.39 1517.04 Q1940.55 1517.04 1943.49 1519.45 Q1946.43 1521.85 1946.43 1526 Q1946.43 1528.96 1944.74 1531.02 Q1943.08 1533.08 1940.09 1533.82 Q1943.47 1534.61 1945.34 1536.9 Q1947.24 1539.19 1947.24 1542.5 Q1947.24 1547.53 1944.16 1550.21 Q1941.11 1552.9 1935.39 1552.9 Q1929.67 1552.9 1926.59 1550.21 Q1923.54 1547.53 1923.54 1542.5 Q1923.54 1539.19 1925.44 1536.9 Q1927.33 1534.61 1930.71 1533.82 M1929 1526.44 Q1929 1529.12 1930.67 1530.63 Q1932.36 1532.13 1935.39 1532.13 Q1938.4 1532.13 1940.09 1530.63 Q1941.8 1529.12 1941.8 1526.44 Q1941.8 1523.75 1940.09 1522.25 Q1938.4 1520.74 1935.39 1520.74 Q1932.36 1520.74 1930.67 1522.25 Q1929 1523.75 1929 1526.44 Z\" fill=\"#000000\" fill-rule=\"nonzero\" fill-opacity=\"1\" /><path clip-path=\"url(#clip190)\" d=\"M1955.55 1546.35 L1960.44 1546.35 L1960.44 1552.22 L1955.55 1552.22 L1955.55 1546.35 Z\" fill=\"#000000\" fill-rule=\"nonzero\" fill-opacity=\"1\" /><path clip-path=\"url(#clip190)\" d=\"M1980.62 1520.74 Q1977.01 1520.74 1975.18 1524.31 Q1973.38 1527.85 1973.38 1534.98 Q1973.38 1542.09 1975.18 1545.65 Q1977.01 1549.19 1980.62 1549.19 Q1984.26 1549.19 1986.06 1545.65 Q1987.89 1542.09 1987.89 1534.98 Q1987.89 1527.85 1986.06 1524.31 Q1984.26 1520.74 1980.62 1520.74 M1980.62 1517.04 Q1986.43 1517.04 1989.49 1521.65 Q1992.57 1526.23 1992.57 1534.98 Q1992.57 1543.71 1989.49 1548.31 Q1986.43 1552.9 1980.62 1552.9 Q1974.81 1552.9 1971.73 1548.31 Q1968.68 1543.71 1968.68 1534.98 Q1968.68 1526.23 1971.73 1521.65 Q1974.81 1517.04 1980.62 1517.04 Z\" fill=\"#000000\" fill-rule=\"nonzero\" fill-opacity=\"1\" /><path clip-path=\"url(#clip190)\" d=\"M2028.95 1526.76 L2018.38 1537.39 L2028.95 1547.97 L2026.2 1550.77 L2015.57 1540.14 L2004.95 1550.77 L2002.22 1547.97 L2012.77 1537.39 L2002.22 1526.76 L2004.95 1523.96 L2015.57 1534.59 L2026.2 1523.96 L2028.95 1526.76 Z\" fill=\"#000000\" fill-rule=\"nonzero\" fill-opacity=\"1\" /><path clip-path=\"url(#clip190)\" d=\"M2041.32 1548.29 L2048.95 1548.29 L2048.95 1521.92 L2040.64 1523.59 L2040.64 1519.33 L2048.91 1517.66 L2053.58 1517.66 L2053.58 1548.29 L2061.22 1548.29 L2061.22 1552.22 L2041.32 1552.22 L2041.32 1548.29 Z\" fill=\"#000000\" fill-rule=\"nonzero\" fill-opacity=\"1\" /><path clip-path=\"url(#clip190)\" d=\"M2080.67 1520.74 Q2077.06 1520.74 2075.23 1524.31 Q2073.42 1527.85 2073.42 1534.98 Q2073.42 1542.09 2075.23 1545.65 Q2077.06 1549.19 2080.67 1549.19 Q2084.3 1549.19 2086.11 1545.65 Q2087.94 1542.09 2087.94 1534.98 Q2087.94 1527.85 2086.11 1524.31 Q2084.3 1520.74 2080.67 1520.74 M2080.67 1517.04 Q2086.48 1517.04 2089.53 1521.65 Q2092.61 1526.23 2092.61 1534.98 Q2092.61 1543.71 2089.53 1548.31 Q2086.48 1552.9 2080.67 1552.9 Q2074.86 1552.9 2071.78 1548.31 Q2068.72 1543.71 2068.72 1534.98 Q2068.72 1526.23 2071.78 1521.65 Q2074.86 1517.04 2080.67 1517.04 Z\" fill=\"#000000\" fill-rule=\"nonzero\" fill-opacity=\"1\" /><path clip-path=\"url(#clip190)\" d=\"M2092.61 1511.14 L2116.72 1511.14 L2116.72 1514.34 L2092.61 1514.34 L2092.61 1511.14 Z\" fill=\"#000000\" fill-rule=\"nonzero\" fill-opacity=\"1\" /><path clip-path=\"url(#clip190)\" d=\"M2125.58 1521.62 L2131.79 1521.62 L2131.79 1500.19 L2125.04 1501.55 L2125.04 1498.09 L2131.75 1496.73 L2135.55 1496.73 L2135.55 1521.62 L2141.76 1521.62 L2141.76 1524.81 L2125.58 1524.81 L2125.58 1521.62 Z\" fill=\"#000000\" fill-rule=\"nonzero\" fill-opacity=\"1\" /><path clip-path=\"url(#clip190)\" d=\"M2157.55 1499.24 Q2154.62 1499.24 2153.13 1502.13 Q2151.67 1505.01 2151.67 1510.8 Q2151.67 1516.58 2153.13 1519.47 Q2154.62 1522.35 2157.55 1522.35 Q2160.51 1522.35 2161.97 1519.47 Q2163.46 1516.58 2163.46 1510.8 Q2163.46 1505.01 2161.97 1502.13 Q2160.51 1499.24 2157.55 1499.24 M2157.55 1496.23 Q2162.28 1496.23 2164.76 1499.97 Q2167.26 1503.69 2167.26 1510.8 Q2167.26 1517.89 2164.76 1521.64 Q2162.28 1525.36 2157.55 1525.36 Q2152.83 1525.36 2150.33 1521.64 Q2147.85 1517.89 2147.85 1510.8 Q2147.85 1503.69 2150.33 1499.97 Q2152.83 1496.23 2157.55 1496.23 Z\" fill=\"#000000\" fill-rule=\"nonzero\" fill-opacity=\"1\" /><polyline clip-path=\"url(#clip192)\" style=\"stroke:#000000; stroke-linecap:round; stroke-linejoin:round; stroke-width:2; stroke-opacity:0.1; fill:none\" points=\"141.853,1474.16 2352.76,1474.16 \"/>\n",
       "<polyline clip-path=\"url(#clip192)\" style=\"stroke:#000000; stroke-linecap:round; stroke-linejoin:round; stroke-width:2; stroke-opacity:0.1; fill:none\" points=\"141.853,1270.32 2352.76,1270.32 \"/>\n",
       "<polyline clip-path=\"url(#clip192)\" style=\"stroke:#000000; stroke-linecap:round; stroke-linejoin:round; stroke-width:2; stroke-opacity:0.1; fill:none\" points=\"141.853,1066.47 2352.76,1066.47 \"/>\n",
       "<polyline clip-path=\"url(#clip192)\" style=\"stroke:#000000; stroke-linecap:round; stroke-linejoin:round; stroke-width:2; stroke-opacity:0.1; fill:none\" points=\"141.853,862.627 2352.76,862.627 \"/>\n",
       "<polyline clip-path=\"url(#clip192)\" style=\"stroke:#000000; stroke-linecap:round; stroke-linejoin:round; stroke-width:2; stroke-opacity:0.1; fill:none\" points=\"141.853,658.781 2352.76,658.781 \"/>\n",
       "<polyline clip-path=\"url(#clip192)\" style=\"stroke:#000000; stroke-linecap:round; stroke-linejoin:round; stroke-width:2; stroke-opacity:0.1; fill:none\" points=\"141.853,454.936 2352.76,454.936 \"/>\n",
       "<polyline clip-path=\"url(#clip192)\" style=\"stroke:#000000; stroke-linecap:round; stroke-linejoin:round; stroke-width:2; stroke-opacity:0.1; fill:none\" points=\"141.853,251.09 2352.76,251.09 \"/>\n",
       "<polyline clip-path=\"url(#clip192)\" style=\"stroke:#000000; stroke-linecap:round; stroke-linejoin:round; stroke-width:2; stroke-opacity:0.1; fill:none\" points=\"141.853,47.2441 2352.76,47.2441 \"/>\n",
       "<polyline clip-path=\"url(#clip190)\" style=\"stroke:#000000; stroke-linecap:round; stroke-linejoin:round; stroke-width:4; stroke-opacity:1; fill:none\" points=\"141.853,1474.16 141.853,47.2441 \"/>\n",
       "<polyline clip-path=\"url(#clip190)\" style=\"stroke:#000000; stroke-linecap:round; stroke-linejoin:round; stroke-width:4; stroke-opacity:1; fill:none\" points=\"141.853,1474.16 160.751,1474.16 \"/>\n",
       "<polyline clip-path=\"url(#clip190)\" style=\"stroke:#000000; stroke-linecap:round; stroke-linejoin:round; stroke-width:4; stroke-opacity:1; fill:none\" points=\"141.853,1270.32 160.751,1270.32 \"/>\n",
       "<polyline clip-path=\"url(#clip190)\" style=\"stroke:#000000; stroke-linecap:round; stroke-linejoin:round; stroke-width:4; stroke-opacity:1; fill:none\" points=\"141.853,1066.47 160.751,1066.47 \"/>\n",
       "<polyline clip-path=\"url(#clip190)\" style=\"stroke:#000000; stroke-linecap:round; stroke-linejoin:round; stroke-width:4; stroke-opacity:1; fill:none\" points=\"141.853,862.627 160.751,862.627 \"/>\n",
       "<polyline clip-path=\"url(#clip190)\" style=\"stroke:#000000; stroke-linecap:round; stroke-linejoin:round; stroke-width:4; stroke-opacity:1; fill:none\" points=\"141.853,658.781 160.751,658.781 \"/>\n",
       "<polyline clip-path=\"url(#clip190)\" style=\"stroke:#000000; stroke-linecap:round; stroke-linejoin:round; stroke-width:4; stroke-opacity:1; fill:none\" points=\"141.853,454.936 160.751,454.936 \"/>\n",
       "<polyline clip-path=\"url(#clip190)\" style=\"stroke:#000000; stroke-linecap:round; stroke-linejoin:round; stroke-width:4; stroke-opacity:1; fill:none\" points=\"141.853,251.09 160.751,251.09 \"/>\n",
       "<polyline clip-path=\"url(#clip190)\" style=\"stroke:#000000; stroke-linecap:round; stroke-linejoin:round; stroke-width:4; stroke-opacity:1; fill:none\" points=\"141.853,47.2441 160.751,47.2441 \"/>\n",
       "<path clip-path=\"url(#clip190)\" d=\"M93.9086 1459.96 Q90.2975 1459.96 88.4688 1463.53 Q86.6632 1467.07 86.6632 1474.2 Q86.6632 1481.31 88.4688 1484.87 Q90.2975 1488.41 93.9086 1488.41 Q97.5428 1488.41 99.3483 1484.87 Q101.177 1481.31 101.177 1474.2 Q101.177 1467.07 99.3483 1463.53 Q97.5428 1459.96 93.9086 1459.96 M93.9086 1456.26 Q99.7187 1456.26 102.774 1460.87 Q105.853 1465.45 105.853 1474.2 Q105.853 1482.93 102.774 1487.53 Q99.7187 1492.12 93.9086 1492.12 Q88.0984 1492.12 85.0197 1487.53 Q81.9642 1482.93 81.9642 1474.2 Q81.9642 1465.45 85.0197 1460.87 Q88.0984 1456.26 93.9086 1456.26 Z\" fill=\"#000000\" fill-rule=\"nonzero\" fill-opacity=\"1\" /><path clip-path=\"url(#clip190)\" d=\"M54.5569 1283.66 L62.1958 1283.66 L62.1958 1257.3 L53.8856 1258.96 L53.8856 1254.71 L62.1495 1253.04 L66.8254 1253.04 L66.8254 1283.66 L74.4642 1283.66 L74.4642 1287.6 L54.5569 1287.6 L54.5569 1283.66 Z\" fill=\"#000000\" fill-rule=\"nonzero\" fill-opacity=\"1\" /><path clip-path=\"url(#clip190)\" d=\"M93.9086 1256.12 Q90.2975 1256.12 88.4688 1259.68 Q86.6632 1263.22 86.6632 1270.35 Q86.6632 1277.46 88.4688 1281.02 Q90.2975 1284.57 93.9086 1284.57 Q97.5428 1284.57 99.3483 1281.02 Q101.177 1277.46 101.177 1270.35 Q101.177 1263.22 99.3483 1259.68 Q97.5428 1256.12 93.9086 1256.12 M93.9086 1252.41 Q99.7187 1252.41 102.774 1257.02 Q105.853 1261.6 105.853 1270.35 Q105.853 1279.08 102.774 1283.69 Q99.7187 1288.27 93.9086 1288.27 Q88.0984 1288.27 85.0197 1283.69 Q81.9642 1279.08 81.9642 1270.35 Q81.9642 1261.6 85.0197 1257.02 Q88.0984 1252.41 93.9086 1252.41 Z\" fill=\"#000000\" fill-rule=\"nonzero\" fill-opacity=\"1\" /><path clip-path=\"url(#clip190)\" d=\"M57.7745 1079.82 L74.0939 1079.82 L74.0939 1083.75 L52.1495 1083.75 L52.1495 1079.82 Q54.8115 1077.06 59.3949 1072.43 Q64.0013 1067.78 65.1819 1066.44 Q67.4272 1063.92 68.3068 1062.18 Q69.2096 1060.42 69.2096 1058.73 Q69.2096 1055.98 67.2652 1054.24 Q65.3439 1052.5 62.2421 1052.5 Q60.043 1052.5 57.5893 1053.27 Q55.1588 1054.03 52.381 1055.58 L52.381 1050.86 Q55.2051 1049.73 57.6588 1049.15 Q60.1124 1048.57 62.1495 1048.57 Q67.5198 1048.57 70.7142 1051.25 Q73.9087 1053.94 73.9087 1058.43 Q73.9087 1060.56 73.0985 1062.48 Q72.3115 1064.38 70.205 1066.97 Q69.6263 1067.64 66.5245 1070.86 Q63.4226 1074.05 57.7745 1079.82 Z\" fill=\"#000000\" fill-rule=\"nonzero\" fill-opacity=\"1\" /><path clip-path=\"url(#clip190)\" d=\"M93.9086 1052.27 Q90.2975 1052.27 88.4688 1055.84 Q86.6632 1059.38 86.6632 1066.51 Q86.6632 1073.61 88.4688 1077.18 Q90.2975 1080.72 93.9086 1080.72 Q97.5428 1080.72 99.3483 1077.18 Q101.177 1073.61 101.177 1066.51 Q101.177 1059.38 99.3483 1055.84 Q97.5428 1052.27 93.9086 1052.27 M93.9086 1048.57 Q99.7187 1048.57 102.774 1053.17 Q105.853 1057.76 105.853 1066.51 Q105.853 1075.23 102.774 1079.84 Q99.7187 1084.42 93.9086 1084.42 Q88.0984 1084.42 85.0197 1079.84 Q81.9642 1075.23 81.9642 1066.51 Q81.9642 1057.76 85.0197 1053.17 Q88.0984 1048.57 93.9086 1048.57 Z\" fill=\"#000000\" fill-rule=\"nonzero\" fill-opacity=\"1\" /><path clip-path=\"url(#clip190)\" d=\"M67.9133 861.273 Q71.2698 861.991 73.1448 864.259 Q75.0429 866.528 75.0429 869.861 Q75.0429 874.977 71.5244 877.778 Q68.0059 880.579 61.5245 880.579 Q59.3486 880.579 57.0338 880.139 Q54.7421 879.722 52.2884 878.866 L52.2884 874.352 Q54.2328 875.486 56.5477 876.065 Q58.8625 876.643 61.3856 876.643 Q65.7837 876.643 68.0754 874.907 Q70.3902 873.171 70.3902 869.861 Q70.3902 866.806 68.2374 865.093 Q66.1078 863.356 62.2884 863.356 L58.2606 863.356 L58.2606 859.514 L62.4735 859.514 Q65.9226 859.514 67.7513 858.148 Q69.58 856.759 69.58 854.167 Q69.58 851.505 67.6819 850.093 Q65.8069 848.657 62.2884 848.657 Q60.3671 848.657 58.168 849.074 Q55.969 849.491 53.3301 850.37 L53.3301 846.204 Q55.9921 845.463 58.3069 845.093 Q60.6449 844.722 62.705 844.722 Q68.0291 844.722 71.1309 847.153 Q74.2327 849.56 74.2327 853.681 Q74.2327 856.551 72.5892 858.542 Q70.9457 860.509 67.9133 861.273 Z\" fill=\"#000000\" fill-rule=\"nonzero\" fill-opacity=\"1\" /><path clip-path=\"url(#clip190)\" d=\"M93.9086 848.426 Q90.2975 848.426 88.4688 851.991 Q86.6632 855.532 86.6632 862.662 Q86.6632 869.768 88.4688 873.333 Q90.2975 876.875 93.9086 876.875 Q97.5428 876.875 99.3483 873.333 Q101.177 869.768 101.177 862.662 Q101.177 855.532 99.3483 851.991 Q97.5428 848.426 93.9086 848.426 M93.9086 844.722 Q99.7187 844.722 102.774 849.329 Q105.853 853.912 105.853 862.662 Q105.853 871.389 102.774 875.995 Q99.7187 880.579 93.9086 880.579 Q88.0984 880.579 85.0197 875.995 Q81.9642 871.389 81.9642 862.662 Q81.9642 853.912 85.0197 849.329 Q88.0984 844.722 93.9086 844.722 Z\" fill=\"#000000\" fill-rule=\"nonzero\" fill-opacity=\"1\" /><path clip-path=\"url(#clip190)\" d=\"M66.5939 645.576 L54.7884 664.025 L66.5939 664.025 L66.5939 645.576 M65.367 641.501 L71.2466 641.501 L71.2466 664.025 L76.1772 664.025 L76.1772 667.913 L71.2466 667.913 L71.2466 676.061 L66.5939 676.061 L66.5939 667.913 L50.9921 667.913 L50.9921 663.4 L65.367 641.501 Z\" fill=\"#000000\" fill-rule=\"nonzero\" fill-opacity=\"1\" /><path clip-path=\"url(#clip190)\" d=\"M93.9086 644.58 Q90.2975 644.58 88.4688 648.145 Q86.6632 651.687 86.6632 658.816 Q86.6632 665.923 88.4688 669.487 Q90.2975 673.029 93.9086 673.029 Q97.5428 673.029 99.3483 669.487 Q101.177 665.923 101.177 658.816 Q101.177 651.687 99.3483 648.145 Q97.5428 644.58 93.9086 644.58 M93.9086 640.876 Q99.7187 640.876 102.774 645.483 Q105.853 650.066 105.853 658.816 Q105.853 667.543 102.774 672.149 Q99.7187 676.733 93.9086 676.733 Q88.0984 676.733 85.0197 672.149 Q81.9642 667.543 81.9642 658.816 Q81.9642 650.066 85.0197 645.483 Q88.0984 640.876 93.9086 640.876 Z\" fill=\"#000000\" fill-rule=\"nonzero\" fill-opacity=\"1\" /><path clip-path=\"url(#clip190)\" d=\"M53.793 437.656 L72.1494 437.656 L72.1494 441.591 L58.0754 441.591 L58.0754 450.063 Q59.0939 449.716 60.1124 449.554 Q61.131 449.369 62.1495 449.369 Q67.9365 449.369 71.3161 452.54 Q74.6957 455.711 74.6957 461.128 Q74.6957 466.706 71.2235 469.808 Q67.7513 472.887 61.4319 472.887 Q59.256 472.887 56.9875 472.517 Q54.7421 472.146 52.3347 471.406 L52.3347 466.706 Q54.418 467.841 56.6402 468.396 Q58.8625 468.952 61.3393 468.952 Q65.3439 468.952 67.6819 466.845 Q70.0198 464.739 70.0198 461.128 Q70.0198 457.517 67.6819 455.41 Q65.3439 453.304 61.3393 453.304 Q59.4643 453.304 57.5893 453.72 Q55.7375 454.137 53.793 455.017 L53.793 437.656 Z\" fill=\"#000000\" fill-rule=\"nonzero\" fill-opacity=\"1\" /><path clip-path=\"url(#clip190)\" d=\"M93.9086 440.734 Q90.2975 440.734 88.4688 444.299 Q86.6632 447.841 86.6632 454.97 Q86.6632 462.077 88.4688 465.642 Q90.2975 469.183 93.9086 469.183 Q97.5428 469.183 99.3483 465.642 Q101.177 462.077 101.177 454.97 Q101.177 447.841 99.3483 444.299 Q97.5428 440.734 93.9086 440.734 M93.9086 437.031 Q99.7187 437.031 102.774 441.637 Q105.853 446.22 105.853 454.97 Q105.853 463.697 102.774 468.304 Q99.7187 472.887 93.9086 472.887 Q88.0984 472.887 85.0197 468.304 Q81.9642 463.697 81.9642 454.97 Q81.9642 446.22 85.0197 441.637 Q88.0984 437.031 93.9086 437.031 Z\" fill=\"#000000\" fill-rule=\"nonzero\" fill-opacity=\"1\" /><path clip-path=\"url(#clip190)\" d=\"M64.3254 249.226 Q61.1773 249.226 59.3254 251.379 Q57.4967 253.532 57.4967 257.282 Q57.4967 261.009 59.3254 263.185 Q61.1773 265.338 64.3254 265.338 Q67.4735 265.338 69.3022 263.185 Q71.1541 261.009 71.1541 257.282 Q71.1541 253.532 69.3022 251.379 Q67.4735 249.226 64.3254 249.226 M73.6077 234.574 L73.6077 238.833 Q71.8485 238 70.0429 237.56 Q68.2606 237.12 66.5013 237.12 Q61.8717 237.12 59.418 240.245 Q56.9875 243.37 56.6402 249.689 Q58.006 247.676 60.0662 246.611 Q62.1263 245.523 64.6032 245.523 Q69.8115 245.523 72.8207 248.694 Q75.8531 251.842 75.8531 257.282 Q75.8531 262.606 72.705 265.824 Q69.5568 269.041 64.3254 269.041 Q58.33 269.041 55.1588 264.458 Q51.9875 259.851 51.9875 251.125 Q51.9875 242.93 55.8764 238.069 Q59.7652 233.185 66.3161 233.185 Q68.0754 233.185 69.8578 233.532 Q71.6633 233.879 73.6077 234.574 Z\" fill=\"#000000\" fill-rule=\"nonzero\" fill-opacity=\"1\" /><path clip-path=\"url(#clip190)\" d=\"M93.9086 236.889 Q90.2975 236.889 88.4688 240.453 Q86.6632 243.995 86.6632 251.125 Q86.6632 258.231 88.4688 261.796 Q90.2975 265.338 93.9086 265.338 Q97.5428 265.338 99.3483 261.796 Q101.177 258.231 101.177 251.125 Q101.177 243.995 99.3483 240.453 Q97.5428 236.889 93.9086 236.889 M93.9086 233.185 Q99.7187 233.185 102.774 237.791 Q105.853 242.375 105.853 251.125 Q105.853 259.851 102.774 264.458 Q99.7187 269.041 93.9086 269.041 Q88.0984 269.041 85.0197 264.458 Q81.9642 259.851 81.9642 251.125 Q81.9642 242.375 85.0197 237.791 Q88.0984 233.185 93.9086 233.185 Z\" fill=\"#000000\" fill-rule=\"nonzero\" fill-opacity=\"1\" /><path clip-path=\"url(#clip190)\" d=\"M52.5662 29.9641 L74.7883 29.9641 L74.7883 31.9548 L62.2421 64.5241 L57.3578 64.5241 L69.1633 33.8993 L52.5662 33.8993 L52.5662 29.9641 Z\" fill=\"#000000\" fill-rule=\"nonzero\" fill-opacity=\"1\" /><path clip-path=\"url(#clip190)\" d=\"M93.9086 33.0428 Q90.2975 33.0428 88.4688 36.6076 Q86.6632 40.1492 86.6632 47.2788 Q86.6632 54.3853 88.4688 57.9501 Q90.2975 61.4917 93.9086 61.4917 Q97.5428 61.4917 99.3483 57.9501 Q101.177 54.3853 101.177 47.2788 Q101.177 40.1492 99.3483 36.6076 Q97.5428 33.0428 93.9086 33.0428 M93.9086 29.3391 Q99.7187 29.3391 102.774 33.9456 Q105.853 38.5289 105.853 47.2788 Q105.853 56.0056 102.774 60.6121 Q99.7187 65.1954 93.9086 65.1954 Q88.0984 65.1954 85.0197 60.6121 Q81.9642 56.0056 81.9642 47.2788 Q81.9642 38.5289 85.0197 33.9456 Q88.0984 29.3391 93.9086 29.3391 Z\" fill=\"#000000\" fill-rule=\"nonzero\" fill-opacity=\"1\" /><polyline clip-path=\"url(#clip192)\" style=\"stroke:#000000; stroke-linecap:round; stroke-linejoin:round; stroke-width:4; stroke-opacity:1; fill:none\" points=\"842.386,842.243 872.398,842.243 \"/>\n",
       "<polyline clip-path=\"url(#clip192)\" style=\"stroke:#000000; stroke-linecap:round; stroke-linejoin:round; stroke-width:4; stroke-opacity:1; fill:none\" points=\"868.504,842.243 898.727,842.243 \"/>\n",
       "<polyline clip-path=\"url(#clip192)\" style=\"stroke:#000000; stroke-linecap:round; stroke-linejoin:round; stroke-width:4; stroke-opacity:1; fill:none\" points=\"859.707,842.243 889.288,842.243 \"/>\n",
       "<polyline clip-path=\"url(#clip192)\" style=\"stroke:#000000; stroke-linecap:round; stroke-linejoin:round; stroke-width:4; stroke-opacity:1; fill:none\" points=\"900.254,842.243 930.493,842.243 \"/>\n",
       "<polyline clip-path=\"url(#clip192)\" style=\"stroke:#000000; stroke-linecap:round; stroke-linejoin:round; stroke-width:4; stroke-opacity:1; fill:none\" points=\"910.907,842.243 941.086,842.243 \"/>\n",
       "<line clip-path=\"url(#clip192)\" x1=\"842.386\" y1=\"858.243\" x2=\"842.386\" y2=\"826.243\" style=\"stroke:#000000; stroke-width:4; stroke-opacity:1\"/>\n",
       "<line clip-path=\"url(#clip192)\" x1=\"872.398\" y1=\"858.243\" x2=\"872.398\" y2=\"826.243\" style=\"stroke:#000000; stroke-width:4; stroke-opacity:1\"/>\n",
       "<line clip-path=\"url(#clip192)\" x1=\"868.504\" y1=\"858.243\" x2=\"868.504\" y2=\"826.243\" style=\"stroke:#000000; stroke-width:4; stroke-opacity:1\"/>\n",
       "<line clip-path=\"url(#clip192)\" x1=\"898.727\" y1=\"858.243\" x2=\"898.727\" y2=\"826.243\" style=\"stroke:#000000; stroke-width:4; stroke-opacity:1\"/>\n",
       "<line clip-path=\"url(#clip192)\" x1=\"859.707\" y1=\"858.243\" x2=\"859.707\" y2=\"826.243\" style=\"stroke:#000000; stroke-width:4; stroke-opacity:1\"/>\n",
       "<line clip-path=\"url(#clip192)\" x1=\"889.288\" y1=\"858.243\" x2=\"889.288\" y2=\"826.243\" style=\"stroke:#000000; stroke-width:4; stroke-opacity:1\"/>\n",
       "<line clip-path=\"url(#clip192)\" x1=\"900.254\" y1=\"858.243\" x2=\"900.254\" y2=\"826.243\" style=\"stroke:#000000; stroke-width:4; stroke-opacity:1\"/>\n",
       "<line clip-path=\"url(#clip192)\" x1=\"930.493\" y1=\"858.243\" x2=\"930.493\" y2=\"826.243\" style=\"stroke:#000000; stroke-width:4; stroke-opacity:1\"/>\n",
       "<line clip-path=\"url(#clip192)\" x1=\"910.907\" y1=\"858.243\" x2=\"910.907\" y2=\"826.243\" style=\"stroke:#000000; stroke-width:4; stroke-opacity:1\"/>\n",
       "<line clip-path=\"url(#clip192)\" x1=\"941.086\" y1=\"858.243\" x2=\"941.086\" y2=\"826.243\" style=\"stroke:#000000; stroke-width:4; stroke-opacity:1\"/>\n",
       "<circle clip-path=\"url(#clip192)\" cx=\"857.392\" cy=\"842.243\" r=\"14.4\" fill=\"#009af9\" fill-rule=\"evenodd\" fill-opacity=\"1\" stroke=\"#000000\" stroke-opacity=\"1\" stroke-width=\"3.2\"/>\n",
       "<circle clip-path=\"url(#clip192)\" cx=\"883.615\" cy=\"842.243\" r=\"14.4\" fill=\"#009af9\" fill-rule=\"evenodd\" fill-opacity=\"1\" stroke=\"#000000\" stroke-opacity=\"1\" stroke-width=\"3.2\"/>\n",
       "<circle clip-path=\"url(#clip192)\" cx=\"874.498\" cy=\"842.243\" r=\"14.4\" fill=\"#009af9\" fill-rule=\"evenodd\" fill-opacity=\"1\" stroke=\"#000000\" stroke-opacity=\"1\" stroke-width=\"3.2\"/>\n",
       "<circle clip-path=\"url(#clip192)\" cx=\"915.374\" cy=\"842.243\" r=\"14.4\" fill=\"#009af9\" fill-rule=\"evenodd\" fill-opacity=\"1\" stroke=\"#000000\" stroke-opacity=\"1\" stroke-width=\"3.2\"/>\n",
       "<circle clip-path=\"url(#clip192)\" cx=\"925.996\" cy=\"842.243\" r=\"14.4\" fill=\"#009af9\" fill-rule=\"evenodd\" fill-opacity=\"1\" stroke=\"#000000\" stroke-opacity=\"1\" stroke-width=\"3.2\"/>\n",
       "<polyline clip-path=\"url(#clip192)\" style=\"stroke:#000000; stroke-linecap:round; stroke-linejoin:round; stroke-width:4; stroke-opacity:1; fill:none\" points=\"253.754,1217.32 269.235,1217.32 \"/>\n",
       "<polyline clip-path=\"url(#clip192)\" style=\"stroke:#000000; stroke-linecap:round; stroke-linejoin:round; stroke-width:4; stroke-opacity:1; fill:none\" points=\"241.159,1217.32 255.814,1217.32 \"/>\n",
       "<polyline clip-path=\"url(#clip192)\" style=\"stroke:#000000; stroke-linecap:round; stroke-linejoin:round; stroke-width:4; stroke-opacity:1; fill:none\" points=\"204.426,1217.32 217.744,1217.32 \"/>\n",
       "<polyline clip-path=\"url(#clip192)\" style=\"stroke:#000000; stroke-linecap:round; stroke-linejoin:round; stroke-width:4; stroke-opacity:1; fill:none\" points=\"220.563,1217.32 233.882,1217.32 \"/>\n",
       "<line clip-path=\"url(#clip192)\" x1=\"253.754\" y1=\"1233.32\" x2=\"253.754\" y2=\"1201.32\" style=\"stroke:#000000; stroke-width:4; stroke-opacity:1\"/>\n",
       "<line clip-path=\"url(#clip192)\" x1=\"269.235\" y1=\"1233.32\" x2=\"269.235\" y2=\"1201.32\" style=\"stroke:#000000; stroke-width:4; stroke-opacity:1\"/>\n",
       "<line clip-path=\"url(#clip192)\" x1=\"241.159\" y1=\"1233.32\" x2=\"241.159\" y2=\"1201.32\" style=\"stroke:#000000; stroke-width:4; stroke-opacity:1\"/>\n",
       "<line clip-path=\"url(#clip192)\" x1=\"255.814\" y1=\"1233.32\" x2=\"255.814\" y2=\"1201.32\" style=\"stroke:#000000; stroke-width:4; stroke-opacity:1\"/>\n",
       "<line clip-path=\"url(#clip192)\" x1=\"204.426\" y1=\"1233.32\" x2=\"204.426\" y2=\"1201.32\" style=\"stroke:#000000; stroke-width:4; stroke-opacity:1\"/>\n",
       "<line clip-path=\"url(#clip192)\" x1=\"217.744\" y1=\"1233.32\" x2=\"217.744\" y2=\"1201.32\" style=\"stroke:#000000; stroke-width:4; stroke-opacity:1\"/>\n",
       "<line clip-path=\"url(#clip192)\" x1=\"220.563\" y1=\"1233.32\" x2=\"220.563\" y2=\"1201.32\" style=\"stroke:#000000; stroke-width:4; stroke-opacity:1\"/>\n",
       "<line clip-path=\"url(#clip192)\" x1=\"233.882\" y1=\"1233.32\" x2=\"233.882\" y2=\"1201.32\" style=\"stroke:#000000; stroke-width:4; stroke-opacity:1\"/>\n",
       "<circle clip-path=\"url(#clip192)\" cx=\"261.494\" cy=\"1217.32\" r=\"14.4\" fill=\"#e26f46\" fill-rule=\"evenodd\" fill-opacity=\"1\" stroke=\"#000000\" stroke-opacity=\"1\" stroke-width=\"3.2\"/>\n",
       "<circle clip-path=\"url(#clip192)\" cx=\"248.487\" cy=\"1217.32\" r=\"14.4\" fill=\"#e26f46\" fill-rule=\"evenodd\" fill-opacity=\"1\" stroke=\"#000000\" stroke-opacity=\"1\" stroke-width=\"3.2\"/>\n",
       "<circle clip-path=\"url(#clip192)\" cx=\"211.085\" cy=\"1217.32\" r=\"14.4\" fill=\"#e26f46\" fill-rule=\"evenodd\" fill-opacity=\"1\" stroke=\"#000000\" stroke-opacity=\"1\" stroke-width=\"3.2\"/>\n",
       "<circle clip-path=\"url(#clip192)\" cx=\"227.222\" cy=\"1217.32\" r=\"14.4\" fill=\"#e26f46\" fill-rule=\"evenodd\" fill-opacity=\"1\" stroke=\"#000000\" stroke-opacity=\"1\" stroke-width=\"3.2\"/>\n",
       "<polyline clip-path=\"url(#clip192)\" style=\"stroke:#000000; stroke-linecap:round; stroke-linejoin:round; stroke-width:4; stroke-opacity:1; fill:none\" points=\"485.904,1046.09 507.179,1046.09 \"/>\n",
       "<polyline clip-path=\"url(#clip192)\" style=\"stroke:#000000; stroke-linecap:round; stroke-linejoin:round; stroke-width:4; stroke-opacity:1; fill:none\" points=\"505.619,1046.09 526.851,1046.09 \"/>\n",
       "<polyline clip-path=\"url(#clip192)\" style=\"stroke:#000000; stroke-linecap:round; stroke-linejoin:round; stroke-width:4; stroke-opacity:1; fill:none\" points=\"523.395,1046.09 544.629,1046.09 \"/>\n",
       "<line clip-path=\"url(#clip192)\" x1=\"485.904\" y1=\"1062.09\" x2=\"485.904\" y2=\"1030.09\" style=\"stroke:#000000; stroke-width:4; stroke-opacity:1\"/>\n",
       "<line clip-path=\"url(#clip192)\" x1=\"507.179\" y1=\"1062.09\" x2=\"507.179\" y2=\"1030.09\" style=\"stroke:#000000; stroke-width:4; stroke-opacity:1\"/>\n",
       "<line clip-path=\"url(#clip192)\" x1=\"505.619\" y1=\"1062.09\" x2=\"505.619\" y2=\"1030.09\" style=\"stroke:#000000; stroke-width:4; stroke-opacity:1\"/>\n",
       "<line clip-path=\"url(#clip192)\" x1=\"526.851\" y1=\"1062.09\" x2=\"526.851\" y2=\"1030.09\" style=\"stroke:#000000; stroke-width:4; stroke-opacity:1\"/>\n",
       "<line clip-path=\"url(#clip192)\" x1=\"523.395\" y1=\"1062.09\" x2=\"523.395\" y2=\"1030.09\" style=\"stroke:#000000; stroke-width:4; stroke-opacity:1\"/>\n",
       "<line clip-path=\"url(#clip192)\" x1=\"544.629\" y1=\"1062.09\" x2=\"544.629\" y2=\"1030.09\" style=\"stroke:#000000; stroke-width:4; stroke-opacity:1\"/>\n",
       "<circle clip-path=\"url(#clip192)\" cx=\"496.541\" cy=\"1046.09\" r=\"14.4\" fill=\"#3da44d\" fill-rule=\"evenodd\" fill-opacity=\"1\" stroke=\"#000000\" stroke-opacity=\"1\" stroke-width=\"3.2\"/>\n",
       "<circle clip-path=\"url(#clip192)\" cx=\"516.235\" cy=\"1046.09\" r=\"14.4\" fill=\"#3da44d\" fill-rule=\"evenodd\" fill-opacity=\"1\" stroke=\"#000000\" stroke-opacity=\"1\" stroke-width=\"3.2\"/>\n",
       "<circle clip-path=\"url(#clip192)\" cx=\"534.012\" cy=\"1046.09\" r=\"14.4\" fill=\"#3da44d\" fill-rule=\"evenodd\" fill-opacity=\"1\" stroke=\"#000000\" stroke-opacity=\"1\" stroke-width=\"3.2\"/>\n",
       "<polyline clip-path=\"url(#clip192)\" style=\"stroke:#000000; stroke-linecap:round; stroke-linejoin:round; stroke-width:4; stroke-opacity:1; fill:none\" points=\"1158.49,638.397 1197.03,638.397 \"/>\n",
       "<polyline clip-path=\"url(#clip192)\" style=\"stroke:#000000; stroke-linecap:round; stroke-linejoin:round; stroke-width:4; stroke-opacity:1; fill:none\" points=\"1212.24,638.397 1251.54,638.397 \"/>\n",
       "<polyline clip-path=\"url(#clip192)\" style=\"stroke:#000000; stroke-linecap:round; stroke-linejoin:round; stroke-width:4; stroke-opacity:1; fill:none\" points=\"1179.44,638.397 1217.38,638.397 \"/>\n",
       "<polyline clip-path=\"url(#clip192)\" style=\"stroke:#000000; stroke-linecap:round; stroke-linejoin:round; stroke-width:4; stroke-opacity:1; fill:none\" points=\"1203.22,638.397 1241.28,638.397 \"/>\n",
       "<polyline clip-path=\"url(#clip192)\" style=\"stroke:#000000; stroke-linecap:round; stroke-linejoin:round; stroke-width:4; stroke-opacity:1; fill:none\" points=\"1268.51,638.397 1307.77,638.397 \"/>\n",
       "<line clip-path=\"url(#clip192)\" x1=\"1158.49\" y1=\"654.397\" x2=\"1158.49\" y2=\"622.397\" style=\"stroke:#000000; stroke-width:4; stroke-opacity:1\"/>\n",
       "<line clip-path=\"url(#clip192)\" x1=\"1197.03\" y1=\"654.397\" x2=\"1197.03\" y2=\"622.397\" style=\"stroke:#000000; stroke-width:4; stroke-opacity:1\"/>\n",
       "<line clip-path=\"url(#clip192)\" x1=\"1212.24\" y1=\"654.397\" x2=\"1212.24\" y2=\"622.397\" style=\"stroke:#000000; stroke-width:4; stroke-opacity:1\"/>\n",
       "<line clip-path=\"url(#clip192)\" x1=\"1251.54\" y1=\"654.397\" x2=\"1251.54\" y2=\"622.397\" style=\"stroke:#000000; stroke-width:4; stroke-opacity:1\"/>\n",
       "<line clip-path=\"url(#clip192)\" x1=\"1179.44\" y1=\"654.397\" x2=\"1179.44\" y2=\"622.397\" style=\"stroke:#000000; stroke-width:4; stroke-opacity:1\"/>\n",
       "<line clip-path=\"url(#clip192)\" x1=\"1217.38\" y1=\"654.397\" x2=\"1217.38\" y2=\"622.397\" style=\"stroke:#000000; stroke-width:4; stroke-opacity:1\"/>\n",
       "<line clip-path=\"url(#clip192)\" x1=\"1203.22\" y1=\"654.397\" x2=\"1203.22\" y2=\"622.397\" style=\"stroke:#000000; stroke-width:4; stroke-opacity:1\"/>\n",
       "<line clip-path=\"url(#clip192)\" x1=\"1241.28\" y1=\"654.397\" x2=\"1241.28\" y2=\"622.397\" style=\"stroke:#000000; stroke-width:4; stroke-opacity:1\"/>\n",
       "<line clip-path=\"url(#clip192)\" x1=\"1268.51\" y1=\"654.397\" x2=\"1268.51\" y2=\"622.397\" style=\"stroke:#000000; stroke-width:4; stroke-opacity:1\"/>\n",
       "<line clip-path=\"url(#clip192)\" x1=\"1307.77\" y1=\"654.397\" x2=\"1307.77\" y2=\"622.397\" style=\"stroke:#000000; stroke-width:4; stroke-opacity:1\"/>\n",
       "<circle clip-path=\"url(#clip192)\" cx=\"1177.76\" cy=\"638.397\" r=\"14.4\" fill=\"#c271d2\" fill-rule=\"evenodd\" fill-opacity=\"1\" stroke=\"#000000\" stroke-opacity=\"1\" stroke-width=\"3.2\"/>\n",
       "<circle clip-path=\"url(#clip192)\" cx=\"1231.89\" cy=\"638.397\" r=\"14.4\" fill=\"#c271d2\" fill-rule=\"evenodd\" fill-opacity=\"1\" stroke=\"#000000\" stroke-opacity=\"1\" stroke-width=\"3.2\"/>\n",
       "<circle clip-path=\"url(#clip192)\" cx=\"1198.41\" cy=\"638.397\" r=\"14.4\" fill=\"#c271d2\" fill-rule=\"evenodd\" fill-opacity=\"1\" stroke=\"#000000\" stroke-opacity=\"1\" stroke-width=\"3.2\"/>\n",
       "<circle clip-path=\"url(#clip192)\" cx=\"1222.25\" cy=\"638.397\" r=\"14.4\" fill=\"#c271d2\" fill-rule=\"evenodd\" fill-opacity=\"1\" stroke=\"#000000\" stroke-opacity=\"1\" stroke-width=\"3.2\"/>\n",
       "<circle clip-path=\"url(#clip192)\" cx=\"1288.14\" cy=\"638.397\" r=\"14.4\" fill=\"#c271d2\" fill-rule=\"evenodd\" fill-opacity=\"1\" stroke=\"#000000\" stroke-opacity=\"1\" stroke-width=\"3.2\"/>\n",
       "<polyline clip-path=\"url(#clip192)\" style=\"stroke:#000000; stroke-linecap:round; stroke-linejoin:round; stroke-width:4; stroke-opacity:1; fill:none\" points=\"1672.53,434.551 1723.81,434.551 \"/>\n",
       "<polyline clip-path=\"url(#clip192)\" style=\"stroke:#000000; stroke-linecap:round; stroke-linejoin:round; stroke-width:4; stroke-opacity:1; fill:none\" points=\"1738.33,434.551 1790.67,434.551 \"/>\n",
       "<polyline clip-path=\"url(#clip192)\" style=\"stroke:#000000; stroke-linecap:round; stroke-linejoin:round; stroke-width:4; stroke-opacity:1; fill:none\" points=\"1723.37,434.551 1774.77,434.551 \"/>\n",
       "<polyline clip-path=\"url(#clip192)\" style=\"stroke:#000000; stroke-linecap:round; stroke-linejoin:round; stroke-width:4; stroke-opacity:1; fill:none\" points=\"1741.08,434.551 1792.03,434.551 \"/>\n",
       "<line clip-path=\"url(#clip192)\" x1=\"1672.53\" y1=\"450.551\" x2=\"1672.53\" y2=\"418.551\" style=\"stroke:#000000; stroke-width:4; stroke-opacity:1\"/>\n",
       "<line clip-path=\"url(#clip192)\" x1=\"1723.81\" y1=\"450.551\" x2=\"1723.81\" y2=\"418.551\" style=\"stroke:#000000; stroke-width:4; stroke-opacity:1\"/>\n",
       "<line clip-path=\"url(#clip192)\" x1=\"1738.33\" y1=\"450.551\" x2=\"1738.33\" y2=\"418.551\" style=\"stroke:#000000; stroke-width:4; stroke-opacity:1\"/>\n",
       "<line clip-path=\"url(#clip192)\" x1=\"1790.67\" y1=\"450.551\" x2=\"1790.67\" y2=\"418.551\" style=\"stroke:#000000; stroke-width:4; stroke-opacity:1\"/>\n",
       "<line clip-path=\"url(#clip192)\" x1=\"1723.37\" y1=\"450.551\" x2=\"1723.37\" y2=\"418.551\" style=\"stroke:#000000; stroke-width:4; stroke-opacity:1\"/>\n",
       "<line clip-path=\"url(#clip192)\" x1=\"1774.77\" y1=\"450.551\" x2=\"1774.77\" y2=\"418.551\" style=\"stroke:#000000; stroke-width:4; stroke-opacity:1\"/>\n",
       "<line clip-path=\"url(#clip192)\" x1=\"1741.08\" y1=\"450.551\" x2=\"1741.08\" y2=\"418.551\" style=\"stroke:#000000; stroke-width:4; stroke-opacity:1\"/>\n",
       "<line clip-path=\"url(#clip192)\" x1=\"1792.03\" y1=\"450.551\" x2=\"1792.03\" y2=\"418.551\" style=\"stroke:#000000; stroke-width:4; stroke-opacity:1\"/>\n",
       "<circle clip-path=\"url(#clip192)\" cx=\"1698.17\" cy=\"434.551\" r=\"14.4\" fill=\"#ac8d18\" fill-rule=\"evenodd\" fill-opacity=\"1\" stroke=\"#000000\" stroke-opacity=\"1\" stroke-width=\"3.2\"/>\n",
       "<circle clip-path=\"url(#clip192)\" cx=\"1764.5\" cy=\"434.551\" r=\"14.4\" fill=\"#ac8d18\" fill-rule=\"evenodd\" fill-opacity=\"1\" stroke=\"#000000\" stroke-opacity=\"1\" stroke-width=\"3.2\"/>\n",
       "<circle clip-path=\"url(#clip192)\" cx=\"1749.07\" cy=\"434.551\" r=\"14.4\" fill=\"#ac8d18\" fill-rule=\"evenodd\" fill-opacity=\"1\" stroke=\"#000000\" stroke-opacity=\"1\" stroke-width=\"3.2\"/>\n",
       "<circle clip-path=\"url(#clip192)\" cx=\"1766.56\" cy=\"434.551\" r=\"14.4\" fill=\"#ac8d18\" fill-rule=\"evenodd\" fill-opacity=\"1\" stroke=\"#000000\" stroke-opacity=\"1\" stroke-width=\"3.2\"/>\n",
       "<polyline clip-path=\"url(#clip192)\" style=\"stroke:#000000; stroke-linecap:round; stroke-linejoin:round; stroke-width:4; stroke-opacity:1; fill:none\" points=\"2206.95,230.705 2271.47,230.705 \"/>\n",
       "<polyline clip-path=\"url(#clip192)\" style=\"stroke:#000000; stroke-linecap:round; stroke-linejoin:round; stroke-width:4; stroke-opacity:1; fill:none\" points=\"2187.07,230.705 2250.51,230.705 \"/>\n",
       "<polyline clip-path=\"url(#clip192)\" style=\"stroke:#000000; stroke-linecap:round; stroke-linejoin:round; stroke-width:4; stroke-opacity:1; fill:none\" points=\"2118.96,230.705 2180.14,230.705 \"/>\n",
       "<polyline clip-path=\"url(#clip192)\" style=\"stroke:#000000; stroke-linecap:round; stroke-linejoin:round; stroke-width:4; stroke-opacity:1; fill:none\" points=\"2177.11,230.705 2239.27,230.705 \"/>\n",
       "<polyline clip-path=\"url(#clip192)\" style=\"stroke:#000000; stroke-linecap:round; stroke-linejoin:round; stroke-width:4; stroke-opacity:1; fill:none\" points=\"2227.21,230.705 2290.18,230.705 \"/>\n",
       "<line clip-path=\"url(#clip192)\" x1=\"2206.95\" y1=\"246.705\" x2=\"2206.95\" y2=\"214.705\" style=\"stroke:#000000; stroke-width:4; stroke-opacity:1\"/>\n",
       "<line clip-path=\"url(#clip192)\" x1=\"2271.47\" y1=\"246.705\" x2=\"2271.47\" y2=\"214.705\" style=\"stroke:#000000; stroke-width:4; stroke-opacity:1\"/>\n",
       "<line clip-path=\"url(#clip192)\" x1=\"2187.07\" y1=\"246.705\" x2=\"2187.07\" y2=\"214.705\" style=\"stroke:#000000; stroke-width:4; stroke-opacity:1\"/>\n",
       "<line clip-path=\"url(#clip192)\" x1=\"2250.51\" y1=\"246.705\" x2=\"2250.51\" y2=\"214.705\" style=\"stroke:#000000; stroke-width:4; stroke-opacity:1\"/>\n",
       "<line clip-path=\"url(#clip192)\" x1=\"2118.96\" y1=\"246.705\" x2=\"2118.96\" y2=\"214.705\" style=\"stroke:#000000; stroke-width:4; stroke-opacity:1\"/>\n",
       "<line clip-path=\"url(#clip192)\" x1=\"2180.14\" y1=\"246.705\" x2=\"2180.14\" y2=\"214.705\" style=\"stroke:#000000; stroke-width:4; stroke-opacity:1\"/>\n",
       "<line clip-path=\"url(#clip192)\" x1=\"2177.11\" y1=\"246.705\" x2=\"2177.11\" y2=\"214.705\" style=\"stroke:#000000; stroke-width:4; stroke-opacity:1\"/>\n",
       "<line clip-path=\"url(#clip192)\" x1=\"2239.27\" y1=\"246.705\" x2=\"2239.27\" y2=\"214.705\" style=\"stroke:#000000; stroke-width:4; stroke-opacity:1\"/>\n",
       "<line clip-path=\"url(#clip192)\" x1=\"2227.21\" y1=\"246.705\" x2=\"2227.21\" y2=\"214.705\" style=\"stroke:#000000; stroke-width:4; stroke-opacity:1\"/>\n",
       "<line clip-path=\"url(#clip192)\" x1=\"2290.18\" y1=\"246.705\" x2=\"2290.18\" y2=\"214.705\" style=\"stroke:#000000; stroke-width:4; stroke-opacity:1\"/>\n",
       "<circle clip-path=\"url(#clip192)\" cx=\"2239.21\" cy=\"230.705\" r=\"14.4\" fill=\"#00a9ad\" fill-rule=\"evenodd\" fill-opacity=\"1\" stroke=\"#000000\" stroke-opacity=\"1\" stroke-width=\"3.2\"/>\n",
       "<circle clip-path=\"url(#clip192)\" cx=\"2218.79\" cy=\"230.705\" r=\"14.4\" fill=\"#00a9ad\" fill-rule=\"evenodd\" fill-opacity=\"1\" stroke=\"#000000\" stroke-opacity=\"1\" stroke-width=\"3.2\"/>\n",
       "<circle clip-path=\"url(#clip192)\" cx=\"2149.55\" cy=\"230.705\" r=\"14.4\" fill=\"#00a9ad\" fill-rule=\"evenodd\" fill-opacity=\"1\" stroke=\"#000000\" stroke-opacity=\"1\" stroke-width=\"3.2\"/>\n",
       "<circle clip-path=\"url(#clip192)\" cx=\"2208.19\" cy=\"230.705\" r=\"14.4\" fill=\"#00a9ad\" fill-rule=\"evenodd\" fill-opacity=\"1\" stroke=\"#000000\" stroke-opacity=\"1\" stroke-width=\"3.2\"/>\n",
       "<circle clip-path=\"url(#clip192)\" cx=\"2258.7\" cy=\"230.705\" r=\"14.4\" fill=\"#00a9ad\" fill-rule=\"evenodd\" fill-opacity=\"1\" stroke=\"#000000\" stroke-opacity=\"1\" stroke-width=\"3.2\"/>\n",
       "<path clip-path=\"url(#clip190)\" d=\"M215.55 457.688 L490.783 457.688 L490.783 94.8081 L215.55 94.8081  Z\" fill=\"#ffffff\" fill-rule=\"evenodd\" fill-opacity=\"1\"/>\n",
       "<polyline clip-path=\"url(#clip190)\" style=\"stroke:#000000; stroke-linecap:round; stroke-linejoin:round; stroke-width:4; stroke-opacity:1; fill:none\" points=\"215.55,457.688 490.783,457.688 490.783,94.8081 215.55,94.8081 215.55,457.688 \"/>\n",
       "<circle clip-path=\"url(#clip190)\" cx=\"313.812\" cy=\"146.648\" r=\"20.48\" fill=\"#009af9\" fill-rule=\"evenodd\" fill-opacity=\"1\" stroke=\"#000000\" stroke-opacity=\"1\" stroke-width=\"4.55111\"/>\n",
       "<path clip-path=\"url(#clip190)\" d=\"M425.917 166.336 Q424.111 170.965 422.398 172.377 Q420.685 173.789 417.815 173.789 L414.412 173.789 L414.412 170.224 L416.912 170.224 Q418.672 170.224 419.644 169.391 Q420.616 168.558 421.797 165.456 L422.56 163.511 L412.074 138.002 L416.588 138.002 L424.69 158.28 L432.792 138.002 L437.306 138.002 L425.917 166.336 Z\" fill=\"#000000\" fill-rule=\"nonzero\" fill-opacity=\"1\" /><path clip-path=\"url(#clip190)\" d=\"M444.597 159.993 L452.236 159.993 L452.236 133.627 L443.926 135.294 L443.926 131.035 L452.19 129.368 L456.866 129.368 L456.866 159.993 L464.505 159.993 L464.505 163.928 L444.597 163.928 L444.597 159.993 Z\" fill=\"#000000\" fill-rule=\"nonzero\" fill-opacity=\"1\" /><circle clip-path=\"url(#clip190)\" cx=\"313.812\" cy=\"198.488\" r=\"20.48\" fill=\"#e26f46\" fill-rule=\"evenodd\" fill-opacity=\"1\" stroke=\"#000000\" stroke-opacity=\"1\" stroke-width=\"4.55111\"/>\n",
       "<path clip-path=\"url(#clip190)\" d=\"M425.917 218.176 Q424.111 222.805 422.398 224.217 Q420.685 225.629 417.815 225.629 L414.412 225.629 L414.412 222.064 L416.912 222.064 Q418.672 222.064 419.644 221.231 Q420.616 220.398 421.797 217.296 L422.56 215.351 L412.074 189.842 L416.588 189.842 L424.69 210.12 L432.792 189.842 L437.306 189.842 L425.917 218.176 Z\" fill=\"#000000\" fill-rule=\"nonzero\" fill-opacity=\"1\" /><path clip-path=\"url(#clip190)\" d=\"M447.815 211.833 L464.134 211.833 L464.134 215.768 L442.19 215.768 L442.19 211.833 Q444.852 209.078 449.435 204.449 Q454.042 199.796 455.222 198.453 Q457.468 195.93 458.347 194.194 Q459.25 192.435 459.25 190.745 Q459.25 187.99 457.306 186.254 Q455.384 184.518 452.283 184.518 Q450.083 184.518 447.63 185.282 Q445.199 186.046 442.421 187.597 L442.421 182.875 Q445.246 181.741 447.699 181.162 Q450.153 180.583 452.19 180.583 Q457.56 180.583 460.755 183.268 Q463.949 185.953 463.949 190.444 Q463.949 192.574 463.139 194.495 Q462.352 196.393 460.245 198.986 Q459.667 199.657 456.565 202.875 Q453.463 206.069 447.815 211.833 Z\" fill=\"#000000\" fill-rule=\"nonzero\" fill-opacity=\"1\" /><circle clip-path=\"url(#clip190)\" cx=\"313.812\" cy=\"250.328\" r=\"20.48\" fill=\"#3da44d\" fill-rule=\"evenodd\" fill-opacity=\"1\" stroke=\"#000000\" stroke-opacity=\"1\" stroke-width=\"4.55111\"/>\n",
       "<path clip-path=\"url(#clip190)\" d=\"M425.917 270.016 Q424.111 274.645 422.398 276.057 Q420.685 277.469 417.815 277.469 L414.412 277.469 L414.412 273.904 L416.912 273.904 Q418.672 273.904 419.644 273.071 Q420.616 272.238 421.797 269.136 L422.56 267.191 L412.074 241.682 L416.588 241.682 L424.69 261.96 L432.792 241.682 L437.306 241.682 L425.917 270.016 Z\" fill=\"#000000\" fill-rule=\"nonzero\" fill-opacity=\"1\" /><path clip-path=\"url(#clip190)\" d=\"M457.954 248.974 Q461.31 249.692 463.185 251.96 Q465.083 254.229 465.083 257.562 Q465.083 262.678 461.565 265.478 Q458.046 268.279 451.565 268.279 Q449.389 268.279 447.074 267.84 Q444.783 267.423 442.329 266.566 L442.329 262.053 Q444.273 263.187 446.588 263.766 Q448.903 264.344 451.426 264.344 Q455.824 264.344 458.116 262.608 Q460.431 260.872 460.431 257.562 Q460.431 254.506 458.278 252.793 Q456.148 251.057 452.329 251.057 L448.301 251.057 L448.301 247.215 L452.514 247.215 Q455.963 247.215 457.792 245.849 Q459.62 244.46 459.62 241.868 Q459.62 239.205 457.722 237.793 Q455.847 236.358 452.329 236.358 Q450.408 236.358 448.208 236.775 Q446.009 237.192 443.371 238.071 L443.371 233.905 Q446.033 233.164 448.347 232.793 Q450.685 232.423 452.745 232.423 Q458.07 232.423 461.171 234.854 Q464.273 237.261 464.273 241.381 Q464.273 244.252 462.63 246.242 Q460.986 248.21 457.954 248.974 Z\" fill=\"#000000\" fill-rule=\"nonzero\" fill-opacity=\"1\" /><circle clip-path=\"url(#clip190)\" cx=\"313.812\" cy=\"302.168\" r=\"20.48\" fill=\"#c271d2\" fill-rule=\"evenodd\" fill-opacity=\"1\" stroke=\"#000000\" stroke-opacity=\"1\" stroke-width=\"4.55111\"/>\n",
       "<path clip-path=\"url(#clip190)\" d=\"M425.917 321.856 Q424.111 326.485 422.398 327.897 Q420.685 329.309 417.815 329.309 L414.412 329.309 L414.412 325.744 L416.912 325.744 Q418.672 325.744 419.644 324.911 Q420.616 324.078 421.797 320.976 L422.56 319.031 L412.074 293.522 L416.588 293.522 L424.69 313.8 L432.792 293.522 L437.306 293.522 L425.917 321.856 Z\" fill=\"#000000\" fill-rule=\"nonzero\" fill-opacity=\"1\" /><path clip-path=\"url(#clip190)\" d=\"M456.634 288.962 L444.829 307.411 L456.634 307.411 L456.634 288.962 M455.408 284.888 L461.287 284.888 L461.287 307.411 L466.218 307.411 L466.218 311.3 L461.287 311.3 L461.287 319.448 L456.634 319.448 L456.634 311.3 L441.033 311.3 L441.033 306.786 L455.408 284.888 Z\" fill=\"#000000\" fill-rule=\"nonzero\" fill-opacity=\"1\" /><circle clip-path=\"url(#clip190)\" cx=\"313.812\" cy=\"354.008\" r=\"20.48\" fill=\"#ac8d18\" fill-rule=\"evenodd\" fill-opacity=\"1\" stroke=\"#000000\" stroke-opacity=\"1\" stroke-width=\"4.55111\"/>\n",
       "<path clip-path=\"url(#clip190)\" d=\"M425.917 373.696 Q424.111 378.325 422.398 379.737 Q420.685 381.149 417.815 381.149 L414.412 381.149 L414.412 377.584 L416.912 377.584 Q418.672 377.584 419.644 376.751 Q420.616 375.918 421.797 372.816 L422.56 370.871 L412.074 345.362 L416.588 345.362 L424.69 365.64 L432.792 345.362 L437.306 345.362 L425.917 373.696 Z\" fill=\"#000000\" fill-rule=\"nonzero\" fill-opacity=\"1\" /><path clip-path=\"url(#clip190)\" d=\"M443.834 336.728 L462.19 336.728 L462.19 340.663 L448.116 340.663 L448.116 349.135 Q449.134 348.788 450.153 348.626 Q451.171 348.441 452.19 348.441 Q457.977 348.441 461.357 351.612 Q464.736 354.784 464.736 360.2 Q464.736 365.779 461.264 368.881 Q457.792 371.959 451.472 371.959 Q449.296 371.959 447.028 371.589 Q444.783 371.219 442.375 370.478 L442.375 365.779 Q444.459 366.913 446.681 367.469 Q448.903 368.024 451.38 368.024 Q455.384 368.024 457.722 365.918 Q460.06 363.811 460.06 360.2 Q460.06 356.589 457.722 354.483 Q455.384 352.376 451.38 352.376 Q449.505 352.376 447.63 352.793 Q445.778 353.21 443.834 354.089 L443.834 336.728 Z\" fill=\"#000000\" fill-rule=\"nonzero\" fill-opacity=\"1\" /><circle clip-path=\"url(#clip190)\" cx=\"313.812\" cy=\"405.848\" r=\"20.48\" fill=\"#00a9ad\" fill-rule=\"evenodd\" fill-opacity=\"1\" stroke=\"#000000\" stroke-opacity=\"1\" stroke-width=\"4.55111\"/>\n",
       "<path clip-path=\"url(#clip190)\" d=\"M425.917 425.536 Q424.111 430.165 422.398 431.577 Q420.685 432.989 417.815 432.989 L414.412 432.989 L414.412 429.424 L416.912 429.424 Q418.672 429.424 419.644 428.591 Q420.616 427.758 421.797 424.656 L422.56 422.711 L412.074 397.202 L416.588 397.202 L424.69 417.48 L432.792 397.202 L437.306 397.202 L425.917 425.536 Z\" fill=\"#000000\" fill-rule=\"nonzero\" fill-opacity=\"1\" /><path clip-path=\"url(#clip190)\" d=\"M454.366 403.985 Q451.218 403.985 449.366 406.137 Q447.537 408.29 447.537 412.04 Q447.537 415.767 449.366 417.943 Q451.218 420.096 454.366 420.096 Q457.514 420.096 459.343 417.943 Q461.195 415.767 461.195 412.04 Q461.195 408.29 459.343 406.137 Q457.514 403.985 454.366 403.985 M463.648 389.332 L463.648 393.591 Q461.889 392.758 460.083 392.318 Q458.301 391.878 456.542 391.878 Q451.912 391.878 449.458 395.003 Q447.028 398.128 446.681 404.448 Q448.046 402.434 450.107 401.369 Q452.167 400.281 454.644 400.281 Q459.852 400.281 462.861 403.452 Q465.894 406.6 465.894 412.04 Q465.894 417.364 462.745 420.582 Q459.597 423.799 454.366 423.799 Q448.371 423.799 445.199 419.216 Q442.028 414.61 442.028 405.883 Q442.028 397.688 445.917 392.827 Q449.806 387.943 456.357 387.943 Q458.116 387.943 459.898 388.29 Q461.704 388.638 463.648 389.332 Z\" fill=\"#000000\" fill-rule=\"nonzero\" fill-opacity=\"1\" /></svg>\n"
      ],
      "text/html": [
       "<?xml version=\"1.0\" encoding=\"utf-8\"?>\n",
       "<svg xmlns=\"http://www.w3.org/2000/svg\" xmlns:xlink=\"http://www.w3.org/1999/xlink\" width=\"600\" height=\"400\" viewBox=\"0 0 2400 1600\">\n",
       "<defs>\n",
       "  <clipPath id=\"clip240\">\n",
       "    <rect x=\"0\" y=\"0\" width=\"2400\" height=\"1600\"/>\n",
       "  </clipPath>\n",
       "</defs>\n",
       "<path clip-path=\"url(#clip240)\" d=\"M0 1600 L2400 1600 L2400 0 L0 0  Z\" fill=\"#ffffff\" fill-rule=\"evenodd\" fill-opacity=\"1\"/>\n",
       "<defs>\n",
       "  <clipPath id=\"clip241\">\n",
       "    <rect x=\"480\" y=\"0\" width=\"1681\" height=\"1600\"/>\n",
       "  </clipPath>\n",
       "</defs>\n",
       "<path clip-path=\"url(#clip240)\" d=\"M141.853 1474.16 L2352.76 1474.16 L2352.76 47.2441 L141.853 47.2441  Z\" fill=\"#ffffff\" fill-rule=\"evenodd\" fill-opacity=\"1\"/>\n",
       "<defs>\n",
       "  <clipPath id=\"clip242\">\n",
       "    <rect x=\"141\" y=\"47\" width=\"2212\" height=\"1428\"/>\n",
       "  </clipPath>\n",
       "</defs>\n",
       "<polyline clip-path=\"url(#clip242)\" style=\"stroke:#000000; stroke-linecap:round; stroke-linejoin:round; stroke-width:2; stroke-opacity:0.1; fill:none\" points=\"301.874,1474.16 301.874,47.2441 \"/>\n",
       "<polyline clip-path=\"url(#clip242)\" style=\"stroke:#000000; stroke-linecap:round; stroke-linejoin:round; stroke-width:2; stroke-opacity:0.1; fill:none\" points=\"883.049,1474.16 883.049,47.2441 \"/>\n",
       "<polyline clip-path=\"url(#clip242)\" style=\"stroke:#000000; stroke-linecap:round; stroke-linejoin:round; stroke-width:2; stroke-opacity:0.1; fill:none\" points=\"1464.22,1474.16 1464.22,47.2441 \"/>\n",
       "<polyline clip-path=\"url(#clip242)\" style=\"stroke:#000000; stroke-linecap:round; stroke-linejoin:round; stroke-width:2; stroke-opacity:0.1; fill:none\" points=\"2045.4,1474.16 2045.4,47.2441 \"/>\n",
       "<polyline clip-path=\"url(#clip240)\" style=\"stroke:#000000; stroke-linecap:round; stroke-linejoin:round; stroke-width:4; stroke-opacity:1; fill:none\" points=\"141.853,1474.16 2352.76,1474.16 \"/>\n",
       "<polyline clip-path=\"url(#clip240)\" style=\"stroke:#000000; stroke-linecap:round; stroke-linejoin:round; stroke-width:4; stroke-opacity:1; fill:none\" points=\"301.874,1474.16 301.874,1455.27 \"/>\n",
       "<polyline clip-path=\"url(#clip240)\" style=\"stroke:#000000; stroke-linecap:round; stroke-linejoin:round; stroke-width:4; stroke-opacity:1; fill:none\" points=\"883.049,1474.16 883.049,1455.27 \"/>\n",
       "<polyline clip-path=\"url(#clip240)\" style=\"stroke:#000000; stroke-linecap:round; stroke-linejoin:round; stroke-width:4; stroke-opacity:1; fill:none\" points=\"1464.22,1474.16 1464.22,1455.27 \"/>\n",
       "<polyline clip-path=\"url(#clip240)\" style=\"stroke:#000000; stroke-linecap:round; stroke-linejoin:round; stroke-width:4; stroke-opacity:1; fill:none\" points=\"2045.4,1474.16 2045.4,1455.27 \"/>\n",
       "<path clip-path=\"url(#clip240)\" d=\"M185.765 1548.29 L202.085 1548.29 L202.085 1552.22 L180.141 1552.22 L180.141 1548.29 Q182.803 1545.53 187.386 1540.91 Q191.992 1536.25 193.173 1534.91 Q195.418 1532.39 196.298 1530.65 Q197.201 1528.89 197.201 1527.2 Q197.201 1524.45 195.256 1522.71 Q193.335 1520.97 190.233 1520.97 Q188.034 1520.97 185.58 1521.74 Q183.15 1522.5 180.372 1524.05 L180.372 1519.33 Q183.196 1518.2 185.65 1517.62 Q188.103 1517.04 190.14 1517.04 Q195.511 1517.04 198.705 1519.72 Q201.9 1522.41 201.9 1526.9 Q201.9 1529.03 201.089 1530.95 Q200.302 1532.85 198.196 1535.44 Q197.617 1536.11 194.515 1539.33 Q191.414 1542.53 185.765 1548.29 Z\" fill=\"#000000\" fill-rule=\"nonzero\" fill-opacity=\"1\" /><path clip-path=\"url(#clip240)\" d=\"M211.9 1546.35 L216.784 1546.35 L216.784 1552.22 L211.9 1552.22 L211.9 1546.35 Z\" fill=\"#000000\" fill-rule=\"nonzero\" fill-opacity=\"1\" /><path clip-path=\"url(#clip240)\" d=\"M236.969 1520.74 Q233.358 1520.74 231.529 1524.31 Q229.724 1527.85 229.724 1534.98 Q229.724 1542.09 231.529 1545.65 Q233.358 1549.19 236.969 1549.19 Q240.603 1549.19 242.409 1545.65 Q244.237 1542.09 244.237 1534.98 Q244.237 1527.85 242.409 1524.31 Q240.603 1520.74 236.969 1520.74 M236.969 1517.04 Q242.779 1517.04 245.835 1521.65 Q248.913 1526.23 248.913 1534.98 Q248.913 1543.71 245.835 1548.31 Q242.779 1552.9 236.969 1552.9 Q231.159 1552.9 228.08 1548.31 Q225.025 1543.71 225.025 1534.98 Q225.025 1526.23 228.08 1521.65 Q231.159 1517.04 236.969 1517.04 Z\" fill=\"#000000\" fill-rule=\"nonzero\" fill-opacity=\"1\" /><path clip-path=\"url(#clip240)\" d=\"M285.302 1526.76 L274.723 1537.39 L285.302 1547.97 L282.547 1550.77 L271.922 1540.14 L261.297 1550.77 L258.566 1547.97 L269.122 1537.39 L258.566 1526.76 L261.297 1523.96 L271.922 1534.59 L282.547 1523.96 L285.302 1526.76 Z\" fill=\"#000000\" fill-rule=\"nonzero\" fill-opacity=\"1\" /><path clip-path=\"url(#clip240)\" d=\"M297.663 1548.29 L305.302 1548.29 L305.302 1521.92 L296.992 1523.59 L296.992 1519.33 L305.256 1517.66 L309.931 1517.66 L309.931 1548.29 L317.57 1548.29 L317.57 1552.22 L297.663 1552.22 L297.663 1548.29 Z\" fill=\"#000000\" fill-rule=\"nonzero\" fill-opacity=\"1\" /><path clip-path=\"url(#clip240)\" d=\"M337.015 1520.74 Q333.404 1520.74 331.575 1524.31 Q329.769 1527.85 329.769 1534.98 Q329.769 1542.09 331.575 1545.65 Q333.404 1549.19 337.015 1549.19 Q340.649 1549.19 342.454 1545.65 Q344.283 1542.09 344.283 1534.98 Q344.283 1527.85 342.454 1524.31 Q340.649 1520.74 337.015 1520.74 M337.015 1517.04 Q342.825 1517.04 345.88 1521.65 Q348.959 1526.23 348.959 1534.98 Q348.959 1543.71 345.88 1548.31 Q342.825 1552.9 337.015 1552.9 Q331.205 1552.9 328.126 1548.31 Q325.07 1543.71 325.07 1534.98 Q325.07 1526.23 328.126 1521.65 Q331.205 1517.04 337.015 1517.04 Z\" fill=\"#000000\" fill-rule=\"nonzero\" fill-opacity=\"1\" /><path clip-path=\"url(#clip240)\" d=\"M348.959 1511.14 L373.071 1511.14 L373.071 1514.34 L348.959 1514.34 L348.959 1511.14 Z\" fill=\"#000000\" fill-rule=\"nonzero\" fill-opacity=\"1\" /><path clip-path=\"url(#clip240)\" d=\"M381.929 1521.62 L388.136 1521.62 L388.136 1500.19 L381.384 1501.55 L381.384 1498.09 L388.098 1496.73 L391.897 1496.73 L391.897 1521.62 L398.104 1521.62 L398.104 1524.81 L381.929 1524.81 L381.929 1521.62 Z\" fill=\"#000000\" fill-rule=\"nonzero\" fill-opacity=\"1\" /><path clip-path=\"url(#clip240)\" d=\"M413.902 1499.24 Q410.968 1499.24 409.482 1502.13 Q408.015 1505.01 408.015 1510.8 Q408.015 1516.58 409.482 1519.47 Q410.968 1522.35 413.902 1522.35 Q416.855 1522.35 418.322 1519.47 Q419.808 1516.58 419.808 1510.8 Q419.808 1505.01 418.322 1502.13 Q416.855 1499.24 413.902 1499.24 M413.902 1496.23 Q418.623 1496.23 421.106 1499.97 Q423.607 1503.69 423.607 1510.8 Q423.607 1517.89 421.106 1521.64 Q418.623 1525.36 413.902 1525.36 Q409.182 1525.36 406.68 1521.64 Q404.197 1517.89 404.197 1510.8 Q404.197 1503.69 406.68 1499.97 Q409.182 1496.23 413.902 1496.23 Z\" fill=\"#000000\" fill-rule=\"nonzero\" fill-opacity=\"1\" /><path clip-path=\"url(#clip240)\" d=\"M776.339 1521.74 L764.533 1540.19 L776.339 1540.19 L776.339 1521.74 M775.112 1517.66 L780.991 1517.66 L780.991 1540.19 L785.922 1540.19 L785.922 1544.08 L780.991 1544.08 L780.991 1552.22 L776.339 1552.22 L776.339 1544.08 L760.737 1544.08 L760.737 1539.56 L775.112 1517.66 Z\" fill=\"#000000\" fill-rule=\"nonzero\" fill-opacity=\"1\" /><path clip-path=\"url(#clip240)\" d=\"M793.653 1546.35 L798.538 1546.35 L798.538 1552.22 L793.653 1552.22 L793.653 1546.35 Z\" fill=\"#000000\" fill-rule=\"nonzero\" fill-opacity=\"1\" /><path clip-path=\"url(#clip240)\" d=\"M818.723 1520.74 Q815.112 1520.74 813.283 1524.31 Q811.477 1527.85 811.477 1534.98 Q811.477 1542.09 813.283 1545.65 Q815.112 1549.19 818.723 1549.19 Q822.357 1549.19 824.162 1545.65 Q825.991 1542.09 825.991 1534.98 Q825.991 1527.85 824.162 1524.31 Q822.357 1520.74 818.723 1520.74 M818.723 1517.04 Q824.533 1517.04 827.588 1521.65 Q830.667 1526.23 830.667 1534.98 Q830.667 1543.71 827.588 1548.31 Q824.533 1552.9 818.723 1552.9 Q812.912 1552.9 809.834 1548.31 Q806.778 1543.71 806.778 1534.98 Q806.778 1526.23 809.834 1521.65 Q812.912 1517.04 818.723 1517.04 Z\" fill=\"#000000\" fill-rule=\"nonzero\" fill-opacity=\"1\" /><path clip-path=\"url(#clip240)\" d=\"M867.056 1526.76 L856.477 1537.39 L867.056 1547.97 L864.301 1550.77 L853.676 1540.14 L843.051 1550.77 L840.32 1547.97 L850.875 1537.39 L840.32 1526.76 L843.051 1523.96 L853.676 1534.59 L864.301 1523.96 L867.056 1526.76 Z\" fill=\"#000000\" fill-rule=\"nonzero\" fill-opacity=\"1\" /><path clip-path=\"url(#clip240)\" d=\"M879.417 1548.29 L887.056 1548.29 L887.056 1521.92 L878.745 1523.59 L878.745 1519.33 L887.009 1517.66 L891.685 1517.66 L891.685 1548.29 L899.324 1548.29 L899.324 1552.22 L879.417 1552.22 L879.417 1548.29 Z\" fill=\"#000000\" fill-rule=\"nonzero\" fill-opacity=\"1\" /><path clip-path=\"url(#clip240)\" d=\"M918.768 1520.74 Q915.157 1520.74 913.329 1524.31 Q911.523 1527.85 911.523 1534.98 Q911.523 1542.09 913.329 1545.65 Q915.157 1549.19 918.768 1549.19 Q922.403 1549.19 924.208 1545.65 Q926.037 1542.09 926.037 1534.98 Q926.037 1527.85 924.208 1524.31 Q922.403 1520.74 918.768 1520.74 M918.768 1517.04 Q924.579 1517.04 927.634 1521.65 Q930.713 1526.23 930.713 1534.98 Q930.713 1543.71 927.634 1548.31 Q924.579 1552.9 918.768 1552.9 Q912.958 1552.9 909.88 1548.31 Q906.824 1543.71 906.824 1534.98 Q906.824 1526.23 909.88 1521.65 Q912.958 1517.04 918.768 1517.04 Z\" fill=\"#000000\" fill-rule=\"nonzero\" fill-opacity=\"1\" /><path clip-path=\"url(#clip240)\" d=\"M930.713 1511.14 L954.824 1511.14 L954.824 1514.34 L930.713 1514.34 L930.713 1511.14 Z\" fill=\"#000000\" fill-rule=\"nonzero\" fill-opacity=\"1\" /><path clip-path=\"url(#clip240)\" d=\"M963.683 1521.62 L969.889 1521.62 L969.889 1500.19 L963.137 1501.55 L963.137 1498.09 L969.852 1496.73 L973.651 1496.73 L973.651 1521.62 L979.857 1521.62 L979.857 1524.81 L963.683 1524.81 L963.683 1521.62 Z\" fill=\"#000000\" fill-rule=\"nonzero\" fill-opacity=\"1\" /><path clip-path=\"url(#clip240)\" d=\"M995.656 1499.24 Q992.722 1499.24 991.236 1502.13 Q989.769 1505.01 989.769 1510.8 Q989.769 1516.58 991.236 1519.47 Q992.722 1522.35 995.656 1522.35 Q998.609 1522.35 1000.08 1519.47 Q1001.56 1516.58 1001.56 1510.8 Q1001.56 1505.01 1000.08 1502.13 Q998.609 1499.24 995.656 1499.24 M995.656 1496.23 Q1000.38 1496.23 1002.86 1499.97 Q1005.36 1503.69 1005.36 1510.8 Q1005.36 1517.89 1002.86 1521.64 Q1000.38 1525.36 995.656 1525.36 Q990.935 1525.36 988.434 1521.64 Q985.951 1517.89 985.951 1510.8 Q985.951 1503.69 988.434 1499.97 Q990.935 1496.23 995.656 1496.23 Z\" fill=\"#000000\" fill-rule=\"nonzero\" fill-opacity=\"1\" /><path clip-path=\"url(#clip240)\" d=\"M1354.75 1533.08 Q1351.6 1533.08 1349.75 1535.23 Q1347.92 1537.39 1347.92 1541.14 Q1347.92 1544.86 1349.75 1547.04 Q1351.6 1549.19 1354.75 1549.19 Q1357.9 1549.19 1359.72 1547.04 Q1361.58 1544.86 1361.58 1541.14 Q1361.58 1537.39 1359.72 1535.23 Q1357.9 1533.08 1354.75 1533.08 M1364.03 1518.43 L1364.03 1522.69 Q1362.27 1521.85 1360.46 1521.41 Q1358.68 1520.97 1356.92 1520.97 Q1352.29 1520.97 1349.84 1524.1 Q1347.41 1527.22 1347.06 1533.54 Q1348.43 1531.53 1350.49 1530.47 Q1352.55 1529.38 1355.03 1529.38 Q1360.23 1529.38 1363.24 1532.55 Q1366.28 1535.7 1366.28 1541.14 Q1366.28 1546.46 1363.13 1549.68 Q1359.98 1552.9 1354.75 1552.9 Q1348.75 1552.9 1345.58 1548.31 Q1342.41 1543.71 1342.41 1534.98 Q1342.41 1526.78 1346.3 1521.92 Q1350.19 1517.04 1356.74 1517.04 Q1358.5 1517.04 1360.28 1517.39 Q1362.09 1517.73 1364.03 1518.43 Z\" fill=\"#000000\" fill-rule=\"nonzero\" fill-opacity=\"1\" /><path clip-path=\"url(#clip240)\" d=\"M1374.33 1546.35 L1379.21 1546.35 L1379.21 1552.22 L1374.33 1552.22 L1374.33 1546.35 Z\" fill=\"#000000\" fill-rule=\"nonzero\" fill-opacity=\"1\" /><path clip-path=\"url(#clip240)\" d=\"M1399.4 1520.74 Q1395.79 1520.74 1393.96 1524.31 Q1392.15 1527.85 1392.15 1534.98 Q1392.15 1542.09 1393.96 1545.65 Q1395.79 1549.19 1399.4 1549.19 Q1403.03 1549.19 1404.84 1545.65 Q1406.67 1542.09 1406.67 1534.98 Q1406.67 1527.85 1404.84 1524.31 Q1403.03 1520.74 1399.4 1520.74 M1399.4 1517.04 Q1405.21 1517.04 1408.27 1521.65 Q1411.34 1526.23 1411.34 1534.98 Q1411.34 1543.71 1408.27 1548.31 Q1405.21 1552.9 1399.4 1552.9 Q1393.59 1552.9 1390.51 1548.31 Q1387.46 1543.71 1387.46 1534.98 Q1387.46 1526.23 1390.51 1521.65 Q1393.59 1517.04 1399.4 1517.04 Z\" fill=\"#000000\" fill-rule=\"nonzero\" fill-opacity=\"1\" /><path clip-path=\"url(#clip240)\" d=\"M1447.73 1526.76 L1437.15 1537.39 L1447.73 1547.97 L1444.98 1550.77 L1434.35 1540.14 L1423.73 1550.77 L1421 1547.97 L1431.55 1537.39 L1421 1526.76 L1423.73 1523.96 L1434.35 1534.59 L1444.98 1523.96 L1447.73 1526.76 Z\" fill=\"#000000\" fill-rule=\"nonzero\" fill-opacity=\"1\" /><path clip-path=\"url(#clip240)\" d=\"M1460.09 1548.29 L1467.73 1548.29 L1467.73 1521.92 L1459.42 1523.59 L1459.42 1519.33 L1467.69 1517.66 L1472.36 1517.66 L1472.36 1548.29 L1480 1548.29 L1480 1552.22 L1460.09 1552.22 L1460.09 1548.29 Z\" fill=\"#000000\" fill-rule=\"nonzero\" fill-opacity=\"1\" /><path clip-path=\"url(#clip240)\" d=\"M1499.45 1520.74 Q1495.83 1520.74 1494.01 1524.31 Q1492.2 1527.85 1492.2 1534.98 Q1492.2 1542.09 1494.01 1545.65 Q1495.83 1549.19 1499.45 1549.19 Q1503.08 1549.19 1504.89 1545.65 Q1506.71 1542.09 1506.71 1534.98 Q1506.71 1527.85 1504.89 1524.31 Q1503.08 1520.74 1499.45 1520.74 M1499.45 1517.04 Q1505.26 1517.04 1508.31 1521.65 Q1511.39 1526.23 1511.39 1534.98 Q1511.39 1543.71 1508.31 1548.31 Q1505.26 1552.9 1499.45 1552.9 Q1493.64 1552.9 1490.56 1548.31 Q1487.5 1543.71 1487.5 1534.98 Q1487.5 1526.23 1490.56 1521.65 Q1493.64 1517.04 1499.45 1517.04 Z\" fill=\"#000000\" fill-rule=\"nonzero\" fill-opacity=\"1\" /><path clip-path=\"url(#clip240)\" d=\"M1511.39 1511.14 L1535.5 1511.14 L1535.5 1514.34 L1511.39 1514.34 L1511.39 1511.14 Z\" fill=\"#000000\" fill-rule=\"nonzero\" fill-opacity=\"1\" /><path clip-path=\"url(#clip240)\" d=\"M1544.36 1521.62 L1550.57 1521.62 L1550.57 1500.19 L1543.81 1501.55 L1543.81 1498.09 L1550.53 1496.73 L1554.33 1496.73 L1554.33 1521.62 L1560.53 1521.62 L1560.53 1524.81 L1544.36 1524.81 L1544.36 1521.62 Z\" fill=\"#000000\" fill-rule=\"nonzero\" fill-opacity=\"1\" /><path clip-path=\"url(#clip240)\" d=\"M1576.33 1499.24 Q1573.4 1499.24 1571.91 1502.13 Q1570.45 1505.01 1570.45 1510.8 Q1570.45 1516.58 1571.91 1519.47 Q1573.4 1522.35 1576.33 1522.35 Q1579.29 1522.35 1580.75 1519.47 Q1582.24 1516.58 1582.24 1510.8 Q1582.24 1505.01 1580.75 1502.13 Q1579.29 1499.24 1576.33 1499.24 M1576.33 1496.23 Q1581.05 1496.23 1583.54 1499.97 Q1586.04 1503.69 1586.04 1510.8 Q1586.04 1517.89 1583.54 1521.64 Q1581.05 1525.36 1576.33 1525.36 Q1571.61 1525.36 1569.11 1521.64 Q1566.63 1517.89 1566.63 1510.8 Q1566.63 1503.69 1569.11 1499.97 Q1571.61 1496.23 1576.33 1496.23 Z\" fill=\"#000000\" fill-rule=\"nonzero\" fill-opacity=\"1\" /><path clip-path=\"url(#clip240)\" d=\"M1935.39 1535.81 Q1932.06 1535.81 1930.14 1537.6 Q1928.24 1539.38 1928.24 1542.5 Q1928.24 1545.63 1930.14 1547.41 Q1932.06 1549.19 1935.39 1549.19 Q1938.72 1549.19 1940.64 1547.41 Q1942.57 1545.6 1942.57 1542.5 Q1942.57 1539.38 1940.64 1537.6 Q1938.75 1535.81 1935.39 1535.81 M1930.71 1533.82 Q1927.7 1533.08 1926.02 1531.02 Q1924.35 1528.96 1924.35 1526 Q1924.35 1521.85 1927.29 1519.45 Q1930.25 1517.04 1935.39 1517.04 Q1940.55 1517.04 1943.49 1519.45 Q1946.43 1521.85 1946.43 1526 Q1946.43 1528.96 1944.74 1531.02 Q1943.08 1533.08 1940.09 1533.82 Q1943.47 1534.61 1945.34 1536.9 Q1947.24 1539.19 1947.24 1542.5 Q1947.24 1547.53 1944.16 1550.21 Q1941.11 1552.9 1935.39 1552.9 Q1929.67 1552.9 1926.59 1550.21 Q1923.54 1547.53 1923.54 1542.5 Q1923.54 1539.19 1925.44 1536.9 Q1927.33 1534.61 1930.71 1533.82 M1929 1526.44 Q1929 1529.12 1930.67 1530.63 Q1932.36 1532.13 1935.39 1532.13 Q1938.4 1532.13 1940.09 1530.63 Q1941.8 1529.12 1941.8 1526.44 Q1941.8 1523.75 1940.09 1522.25 Q1938.4 1520.74 1935.39 1520.74 Q1932.36 1520.74 1930.67 1522.25 Q1929 1523.75 1929 1526.44 Z\" fill=\"#000000\" fill-rule=\"nonzero\" fill-opacity=\"1\" /><path clip-path=\"url(#clip240)\" d=\"M1955.55 1546.35 L1960.44 1546.35 L1960.44 1552.22 L1955.55 1552.22 L1955.55 1546.35 Z\" fill=\"#000000\" fill-rule=\"nonzero\" fill-opacity=\"1\" /><path clip-path=\"url(#clip240)\" d=\"M1980.62 1520.74 Q1977.01 1520.74 1975.18 1524.31 Q1973.38 1527.85 1973.38 1534.98 Q1973.38 1542.09 1975.18 1545.65 Q1977.01 1549.19 1980.62 1549.19 Q1984.26 1549.19 1986.06 1545.65 Q1987.89 1542.09 1987.89 1534.98 Q1987.89 1527.85 1986.06 1524.31 Q1984.26 1520.74 1980.62 1520.74 M1980.62 1517.04 Q1986.43 1517.04 1989.49 1521.65 Q1992.57 1526.23 1992.57 1534.98 Q1992.57 1543.71 1989.49 1548.31 Q1986.43 1552.9 1980.62 1552.9 Q1974.81 1552.9 1971.73 1548.31 Q1968.68 1543.71 1968.68 1534.98 Q1968.68 1526.23 1971.73 1521.65 Q1974.81 1517.04 1980.62 1517.04 Z\" fill=\"#000000\" fill-rule=\"nonzero\" fill-opacity=\"1\" /><path clip-path=\"url(#clip240)\" d=\"M2028.95 1526.76 L2018.38 1537.39 L2028.95 1547.97 L2026.2 1550.77 L2015.57 1540.14 L2004.95 1550.77 L2002.22 1547.97 L2012.77 1537.39 L2002.22 1526.76 L2004.95 1523.96 L2015.57 1534.59 L2026.2 1523.96 L2028.95 1526.76 Z\" fill=\"#000000\" fill-rule=\"nonzero\" fill-opacity=\"1\" /><path clip-path=\"url(#clip240)\" d=\"M2041.32 1548.29 L2048.95 1548.29 L2048.95 1521.92 L2040.64 1523.59 L2040.64 1519.33 L2048.91 1517.66 L2053.58 1517.66 L2053.58 1548.29 L2061.22 1548.29 L2061.22 1552.22 L2041.32 1552.22 L2041.32 1548.29 Z\" fill=\"#000000\" fill-rule=\"nonzero\" fill-opacity=\"1\" /><path clip-path=\"url(#clip240)\" d=\"M2080.67 1520.74 Q2077.06 1520.74 2075.23 1524.31 Q2073.42 1527.85 2073.42 1534.98 Q2073.42 1542.09 2075.23 1545.65 Q2077.06 1549.19 2080.67 1549.19 Q2084.3 1549.19 2086.11 1545.65 Q2087.94 1542.09 2087.94 1534.98 Q2087.94 1527.85 2086.11 1524.31 Q2084.3 1520.74 2080.67 1520.74 M2080.67 1517.04 Q2086.48 1517.04 2089.53 1521.65 Q2092.61 1526.23 2092.61 1534.98 Q2092.61 1543.71 2089.53 1548.31 Q2086.48 1552.9 2080.67 1552.9 Q2074.86 1552.9 2071.78 1548.31 Q2068.72 1543.71 2068.72 1534.98 Q2068.72 1526.23 2071.78 1521.65 Q2074.86 1517.04 2080.67 1517.04 Z\" fill=\"#000000\" fill-rule=\"nonzero\" fill-opacity=\"1\" /><path clip-path=\"url(#clip240)\" d=\"M2092.61 1511.14 L2116.72 1511.14 L2116.72 1514.34 L2092.61 1514.34 L2092.61 1511.14 Z\" fill=\"#000000\" fill-rule=\"nonzero\" fill-opacity=\"1\" /><path clip-path=\"url(#clip240)\" d=\"M2125.58 1521.62 L2131.79 1521.62 L2131.79 1500.19 L2125.04 1501.55 L2125.04 1498.09 L2131.75 1496.73 L2135.55 1496.73 L2135.55 1521.62 L2141.76 1521.62 L2141.76 1524.81 L2125.58 1524.81 L2125.58 1521.62 Z\" fill=\"#000000\" fill-rule=\"nonzero\" fill-opacity=\"1\" /><path clip-path=\"url(#clip240)\" d=\"M2157.55 1499.24 Q2154.62 1499.24 2153.13 1502.13 Q2151.67 1505.01 2151.67 1510.8 Q2151.67 1516.58 2153.13 1519.47 Q2154.62 1522.35 2157.55 1522.35 Q2160.51 1522.35 2161.97 1519.47 Q2163.46 1516.58 2163.46 1510.8 Q2163.46 1505.01 2161.97 1502.13 Q2160.51 1499.24 2157.55 1499.24 M2157.55 1496.23 Q2162.28 1496.23 2164.76 1499.97 Q2167.26 1503.69 2167.26 1510.8 Q2167.26 1517.89 2164.76 1521.64 Q2162.28 1525.36 2157.55 1525.36 Q2152.83 1525.36 2150.33 1521.64 Q2147.85 1517.89 2147.85 1510.8 Q2147.85 1503.69 2150.33 1499.97 Q2152.83 1496.23 2157.55 1496.23 Z\" fill=\"#000000\" fill-rule=\"nonzero\" fill-opacity=\"1\" /><polyline clip-path=\"url(#clip242)\" style=\"stroke:#000000; stroke-linecap:round; stroke-linejoin:round; stroke-width:2; stroke-opacity:0.1; fill:none\" points=\"141.853,1474.16 2352.76,1474.16 \"/>\n",
       "<polyline clip-path=\"url(#clip242)\" style=\"stroke:#000000; stroke-linecap:round; stroke-linejoin:round; stroke-width:2; stroke-opacity:0.1; fill:none\" points=\"141.853,1270.32 2352.76,1270.32 \"/>\n",
       "<polyline clip-path=\"url(#clip242)\" style=\"stroke:#000000; stroke-linecap:round; stroke-linejoin:round; stroke-width:2; stroke-opacity:0.1; fill:none\" points=\"141.853,1066.47 2352.76,1066.47 \"/>\n",
       "<polyline clip-path=\"url(#clip242)\" style=\"stroke:#000000; stroke-linecap:round; stroke-linejoin:round; stroke-width:2; stroke-opacity:0.1; fill:none\" points=\"141.853,862.627 2352.76,862.627 \"/>\n",
       "<polyline clip-path=\"url(#clip242)\" style=\"stroke:#000000; stroke-linecap:round; stroke-linejoin:round; stroke-width:2; stroke-opacity:0.1; fill:none\" points=\"141.853,658.781 2352.76,658.781 \"/>\n",
       "<polyline clip-path=\"url(#clip242)\" style=\"stroke:#000000; stroke-linecap:round; stroke-linejoin:round; stroke-width:2; stroke-opacity:0.1; fill:none\" points=\"141.853,454.936 2352.76,454.936 \"/>\n",
       "<polyline clip-path=\"url(#clip242)\" style=\"stroke:#000000; stroke-linecap:round; stroke-linejoin:round; stroke-width:2; stroke-opacity:0.1; fill:none\" points=\"141.853,251.09 2352.76,251.09 \"/>\n",
       "<polyline clip-path=\"url(#clip242)\" style=\"stroke:#000000; stroke-linecap:round; stroke-linejoin:round; stroke-width:2; stroke-opacity:0.1; fill:none\" points=\"141.853,47.2441 2352.76,47.2441 \"/>\n",
       "<polyline clip-path=\"url(#clip240)\" style=\"stroke:#000000; stroke-linecap:round; stroke-linejoin:round; stroke-width:4; stroke-opacity:1; fill:none\" points=\"141.853,1474.16 141.853,47.2441 \"/>\n",
       "<polyline clip-path=\"url(#clip240)\" style=\"stroke:#000000; stroke-linecap:round; stroke-linejoin:round; stroke-width:4; stroke-opacity:1; fill:none\" points=\"141.853,1474.16 160.751,1474.16 \"/>\n",
       "<polyline clip-path=\"url(#clip240)\" style=\"stroke:#000000; stroke-linecap:round; stroke-linejoin:round; stroke-width:4; stroke-opacity:1; fill:none\" points=\"141.853,1270.32 160.751,1270.32 \"/>\n",
       "<polyline clip-path=\"url(#clip240)\" style=\"stroke:#000000; stroke-linecap:round; stroke-linejoin:round; stroke-width:4; stroke-opacity:1; fill:none\" points=\"141.853,1066.47 160.751,1066.47 \"/>\n",
       "<polyline clip-path=\"url(#clip240)\" style=\"stroke:#000000; stroke-linecap:round; stroke-linejoin:round; stroke-width:4; stroke-opacity:1; fill:none\" points=\"141.853,862.627 160.751,862.627 \"/>\n",
       "<polyline clip-path=\"url(#clip240)\" style=\"stroke:#000000; stroke-linecap:round; stroke-linejoin:round; stroke-width:4; stroke-opacity:1; fill:none\" points=\"141.853,658.781 160.751,658.781 \"/>\n",
       "<polyline clip-path=\"url(#clip240)\" style=\"stroke:#000000; stroke-linecap:round; stroke-linejoin:round; stroke-width:4; stroke-opacity:1; fill:none\" points=\"141.853,454.936 160.751,454.936 \"/>\n",
       "<polyline clip-path=\"url(#clip240)\" style=\"stroke:#000000; stroke-linecap:round; stroke-linejoin:round; stroke-width:4; stroke-opacity:1; fill:none\" points=\"141.853,251.09 160.751,251.09 \"/>\n",
       "<polyline clip-path=\"url(#clip240)\" style=\"stroke:#000000; stroke-linecap:round; stroke-linejoin:round; stroke-width:4; stroke-opacity:1; fill:none\" points=\"141.853,47.2441 160.751,47.2441 \"/>\n",
       "<path clip-path=\"url(#clip240)\" d=\"M93.9086 1459.96 Q90.2975 1459.96 88.4688 1463.53 Q86.6632 1467.07 86.6632 1474.2 Q86.6632 1481.31 88.4688 1484.87 Q90.2975 1488.41 93.9086 1488.41 Q97.5428 1488.41 99.3483 1484.87 Q101.177 1481.31 101.177 1474.2 Q101.177 1467.07 99.3483 1463.53 Q97.5428 1459.96 93.9086 1459.96 M93.9086 1456.26 Q99.7187 1456.26 102.774 1460.87 Q105.853 1465.45 105.853 1474.2 Q105.853 1482.93 102.774 1487.53 Q99.7187 1492.12 93.9086 1492.12 Q88.0984 1492.12 85.0197 1487.53 Q81.9642 1482.93 81.9642 1474.2 Q81.9642 1465.45 85.0197 1460.87 Q88.0984 1456.26 93.9086 1456.26 Z\" fill=\"#000000\" fill-rule=\"nonzero\" fill-opacity=\"1\" /><path clip-path=\"url(#clip240)\" d=\"M54.5569 1283.66 L62.1958 1283.66 L62.1958 1257.3 L53.8856 1258.96 L53.8856 1254.71 L62.1495 1253.04 L66.8254 1253.04 L66.8254 1283.66 L74.4642 1283.66 L74.4642 1287.6 L54.5569 1287.6 L54.5569 1283.66 Z\" fill=\"#000000\" fill-rule=\"nonzero\" fill-opacity=\"1\" /><path clip-path=\"url(#clip240)\" d=\"M93.9086 1256.12 Q90.2975 1256.12 88.4688 1259.68 Q86.6632 1263.22 86.6632 1270.35 Q86.6632 1277.46 88.4688 1281.02 Q90.2975 1284.57 93.9086 1284.57 Q97.5428 1284.57 99.3483 1281.02 Q101.177 1277.46 101.177 1270.35 Q101.177 1263.22 99.3483 1259.68 Q97.5428 1256.12 93.9086 1256.12 M93.9086 1252.41 Q99.7187 1252.41 102.774 1257.02 Q105.853 1261.6 105.853 1270.35 Q105.853 1279.08 102.774 1283.69 Q99.7187 1288.27 93.9086 1288.27 Q88.0984 1288.27 85.0197 1283.69 Q81.9642 1279.08 81.9642 1270.35 Q81.9642 1261.6 85.0197 1257.02 Q88.0984 1252.41 93.9086 1252.41 Z\" fill=\"#000000\" fill-rule=\"nonzero\" fill-opacity=\"1\" /><path clip-path=\"url(#clip240)\" d=\"M57.7745 1079.82 L74.0939 1079.82 L74.0939 1083.75 L52.1495 1083.75 L52.1495 1079.82 Q54.8115 1077.06 59.3949 1072.43 Q64.0013 1067.78 65.1819 1066.44 Q67.4272 1063.92 68.3068 1062.18 Q69.2096 1060.42 69.2096 1058.73 Q69.2096 1055.98 67.2652 1054.24 Q65.3439 1052.5 62.2421 1052.5 Q60.043 1052.5 57.5893 1053.27 Q55.1588 1054.03 52.381 1055.58 L52.381 1050.86 Q55.2051 1049.73 57.6588 1049.15 Q60.1124 1048.57 62.1495 1048.57 Q67.5198 1048.57 70.7142 1051.25 Q73.9087 1053.94 73.9087 1058.43 Q73.9087 1060.56 73.0985 1062.48 Q72.3115 1064.38 70.205 1066.97 Q69.6263 1067.64 66.5245 1070.86 Q63.4226 1074.05 57.7745 1079.82 Z\" fill=\"#000000\" fill-rule=\"nonzero\" fill-opacity=\"1\" /><path clip-path=\"url(#clip240)\" d=\"M93.9086 1052.27 Q90.2975 1052.27 88.4688 1055.84 Q86.6632 1059.38 86.6632 1066.51 Q86.6632 1073.61 88.4688 1077.18 Q90.2975 1080.72 93.9086 1080.72 Q97.5428 1080.72 99.3483 1077.18 Q101.177 1073.61 101.177 1066.51 Q101.177 1059.38 99.3483 1055.84 Q97.5428 1052.27 93.9086 1052.27 M93.9086 1048.57 Q99.7187 1048.57 102.774 1053.17 Q105.853 1057.76 105.853 1066.51 Q105.853 1075.23 102.774 1079.84 Q99.7187 1084.42 93.9086 1084.42 Q88.0984 1084.42 85.0197 1079.84 Q81.9642 1075.23 81.9642 1066.51 Q81.9642 1057.76 85.0197 1053.17 Q88.0984 1048.57 93.9086 1048.57 Z\" fill=\"#000000\" fill-rule=\"nonzero\" fill-opacity=\"1\" /><path clip-path=\"url(#clip240)\" d=\"M67.9133 861.273 Q71.2698 861.991 73.1448 864.259 Q75.0429 866.528 75.0429 869.861 Q75.0429 874.977 71.5244 877.778 Q68.0059 880.579 61.5245 880.579 Q59.3486 880.579 57.0338 880.139 Q54.7421 879.722 52.2884 878.866 L52.2884 874.352 Q54.2328 875.486 56.5477 876.065 Q58.8625 876.643 61.3856 876.643 Q65.7837 876.643 68.0754 874.907 Q70.3902 873.171 70.3902 869.861 Q70.3902 866.806 68.2374 865.093 Q66.1078 863.356 62.2884 863.356 L58.2606 863.356 L58.2606 859.514 L62.4735 859.514 Q65.9226 859.514 67.7513 858.148 Q69.58 856.759 69.58 854.167 Q69.58 851.505 67.6819 850.093 Q65.8069 848.657 62.2884 848.657 Q60.3671 848.657 58.168 849.074 Q55.969 849.491 53.3301 850.37 L53.3301 846.204 Q55.9921 845.463 58.3069 845.093 Q60.6449 844.722 62.705 844.722 Q68.0291 844.722 71.1309 847.153 Q74.2327 849.56 74.2327 853.681 Q74.2327 856.551 72.5892 858.542 Q70.9457 860.509 67.9133 861.273 Z\" fill=\"#000000\" fill-rule=\"nonzero\" fill-opacity=\"1\" /><path clip-path=\"url(#clip240)\" d=\"M93.9086 848.426 Q90.2975 848.426 88.4688 851.991 Q86.6632 855.532 86.6632 862.662 Q86.6632 869.768 88.4688 873.333 Q90.2975 876.875 93.9086 876.875 Q97.5428 876.875 99.3483 873.333 Q101.177 869.768 101.177 862.662 Q101.177 855.532 99.3483 851.991 Q97.5428 848.426 93.9086 848.426 M93.9086 844.722 Q99.7187 844.722 102.774 849.329 Q105.853 853.912 105.853 862.662 Q105.853 871.389 102.774 875.995 Q99.7187 880.579 93.9086 880.579 Q88.0984 880.579 85.0197 875.995 Q81.9642 871.389 81.9642 862.662 Q81.9642 853.912 85.0197 849.329 Q88.0984 844.722 93.9086 844.722 Z\" fill=\"#000000\" fill-rule=\"nonzero\" fill-opacity=\"1\" /><path clip-path=\"url(#clip240)\" d=\"M66.5939 645.576 L54.7884 664.025 L66.5939 664.025 L66.5939 645.576 M65.367 641.501 L71.2466 641.501 L71.2466 664.025 L76.1772 664.025 L76.1772 667.913 L71.2466 667.913 L71.2466 676.061 L66.5939 676.061 L66.5939 667.913 L50.9921 667.913 L50.9921 663.4 L65.367 641.501 Z\" fill=\"#000000\" fill-rule=\"nonzero\" fill-opacity=\"1\" /><path clip-path=\"url(#clip240)\" d=\"M93.9086 644.58 Q90.2975 644.58 88.4688 648.145 Q86.6632 651.687 86.6632 658.816 Q86.6632 665.923 88.4688 669.487 Q90.2975 673.029 93.9086 673.029 Q97.5428 673.029 99.3483 669.487 Q101.177 665.923 101.177 658.816 Q101.177 651.687 99.3483 648.145 Q97.5428 644.58 93.9086 644.58 M93.9086 640.876 Q99.7187 640.876 102.774 645.483 Q105.853 650.066 105.853 658.816 Q105.853 667.543 102.774 672.149 Q99.7187 676.733 93.9086 676.733 Q88.0984 676.733 85.0197 672.149 Q81.9642 667.543 81.9642 658.816 Q81.9642 650.066 85.0197 645.483 Q88.0984 640.876 93.9086 640.876 Z\" fill=\"#000000\" fill-rule=\"nonzero\" fill-opacity=\"1\" /><path clip-path=\"url(#clip240)\" d=\"M53.793 437.656 L72.1494 437.656 L72.1494 441.591 L58.0754 441.591 L58.0754 450.063 Q59.0939 449.716 60.1124 449.554 Q61.131 449.369 62.1495 449.369 Q67.9365 449.369 71.3161 452.54 Q74.6957 455.711 74.6957 461.128 Q74.6957 466.706 71.2235 469.808 Q67.7513 472.887 61.4319 472.887 Q59.256 472.887 56.9875 472.517 Q54.7421 472.146 52.3347 471.406 L52.3347 466.706 Q54.418 467.841 56.6402 468.396 Q58.8625 468.952 61.3393 468.952 Q65.3439 468.952 67.6819 466.845 Q70.0198 464.739 70.0198 461.128 Q70.0198 457.517 67.6819 455.41 Q65.3439 453.304 61.3393 453.304 Q59.4643 453.304 57.5893 453.72 Q55.7375 454.137 53.793 455.017 L53.793 437.656 Z\" fill=\"#000000\" fill-rule=\"nonzero\" fill-opacity=\"1\" /><path clip-path=\"url(#clip240)\" d=\"M93.9086 440.734 Q90.2975 440.734 88.4688 444.299 Q86.6632 447.841 86.6632 454.97 Q86.6632 462.077 88.4688 465.642 Q90.2975 469.183 93.9086 469.183 Q97.5428 469.183 99.3483 465.642 Q101.177 462.077 101.177 454.97 Q101.177 447.841 99.3483 444.299 Q97.5428 440.734 93.9086 440.734 M93.9086 437.031 Q99.7187 437.031 102.774 441.637 Q105.853 446.22 105.853 454.97 Q105.853 463.697 102.774 468.304 Q99.7187 472.887 93.9086 472.887 Q88.0984 472.887 85.0197 468.304 Q81.9642 463.697 81.9642 454.97 Q81.9642 446.22 85.0197 441.637 Q88.0984 437.031 93.9086 437.031 Z\" fill=\"#000000\" fill-rule=\"nonzero\" fill-opacity=\"1\" /><path clip-path=\"url(#clip240)\" d=\"M64.3254 249.226 Q61.1773 249.226 59.3254 251.379 Q57.4967 253.532 57.4967 257.282 Q57.4967 261.009 59.3254 263.185 Q61.1773 265.338 64.3254 265.338 Q67.4735 265.338 69.3022 263.185 Q71.1541 261.009 71.1541 257.282 Q71.1541 253.532 69.3022 251.379 Q67.4735 249.226 64.3254 249.226 M73.6077 234.574 L73.6077 238.833 Q71.8485 238 70.0429 237.56 Q68.2606 237.12 66.5013 237.12 Q61.8717 237.12 59.418 240.245 Q56.9875 243.37 56.6402 249.689 Q58.006 247.676 60.0662 246.611 Q62.1263 245.523 64.6032 245.523 Q69.8115 245.523 72.8207 248.694 Q75.8531 251.842 75.8531 257.282 Q75.8531 262.606 72.705 265.824 Q69.5568 269.041 64.3254 269.041 Q58.33 269.041 55.1588 264.458 Q51.9875 259.851 51.9875 251.125 Q51.9875 242.93 55.8764 238.069 Q59.7652 233.185 66.3161 233.185 Q68.0754 233.185 69.8578 233.532 Q71.6633 233.879 73.6077 234.574 Z\" fill=\"#000000\" fill-rule=\"nonzero\" fill-opacity=\"1\" /><path clip-path=\"url(#clip240)\" d=\"M93.9086 236.889 Q90.2975 236.889 88.4688 240.453 Q86.6632 243.995 86.6632 251.125 Q86.6632 258.231 88.4688 261.796 Q90.2975 265.338 93.9086 265.338 Q97.5428 265.338 99.3483 261.796 Q101.177 258.231 101.177 251.125 Q101.177 243.995 99.3483 240.453 Q97.5428 236.889 93.9086 236.889 M93.9086 233.185 Q99.7187 233.185 102.774 237.791 Q105.853 242.375 105.853 251.125 Q105.853 259.851 102.774 264.458 Q99.7187 269.041 93.9086 269.041 Q88.0984 269.041 85.0197 264.458 Q81.9642 259.851 81.9642 251.125 Q81.9642 242.375 85.0197 237.791 Q88.0984 233.185 93.9086 233.185 Z\" fill=\"#000000\" fill-rule=\"nonzero\" fill-opacity=\"1\" /><path clip-path=\"url(#clip240)\" d=\"M52.5662 29.9641 L74.7883 29.9641 L74.7883 31.9548 L62.2421 64.5241 L57.3578 64.5241 L69.1633 33.8993 L52.5662 33.8993 L52.5662 29.9641 Z\" fill=\"#000000\" fill-rule=\"nonzero\" fill-opacity=\"1\" /><path clip-path=\"url(#clip240)\" d=\"M93.9086 33.0428 Q90.2975 33.0428 88.4688 36.6076 Q86.6632 40.1492 86.6632 47.2788 Q86.6632 54.3853 88.4688 57.9501 Q90.2975 61.4917 93.9086 61.4917 Q97.5428 61.4917 99.3483 57.9501 Q101.177 54.3853 101.177 47.2788 Q101.177 40.1492 99.3483 36.6076 Q97.5428 33.0428 93.9086 33.0428 M93.9086 29.3391 Q99.7187 29.3391 102.774 33.9456 Q105.853 38.5289 105.853 47.2788 Q105.853 56.0056 102.774 60.6121 Q99.7187 65.1954 93.9086 65.1954 Q88.0984 65.1954 85.0197 60.6121 Q81.9642 56.0056 81.9642 47.2788 Q81.9642 38.5289 85.0197 33.9456 Q88.0984 29.3391 93.9086 29.3391 Z\" fill=\"#000000\" fill-rule=\"nonzero\" fill-opacity=\"1\" /><polyline clip-path=\"url(#clip242)\" style=\"stroke:#000000; stroke-linecap:round; stroke-linejoin:round; stroke-width:4; stroke-opacity:1; fill:none\" points=\"842.386,842.243 872.398,842.243 \"/>\n",
       "<polyline clip-path=\"url(#clip242)\" style=\"stroke:#000000; stroke-linecap:round; stroke-linejoin:round; stroke-width:4; stroke-opacity:1; fill:none\" points=\"868.504,842.243 898.727,842.243 \"/>\n",
       "<polyline clip-path=\"url(#clip242)\" style=\"stroke:#000000; stroke-linecap:round; stroke-linejoin:round; stroke-width:4; stroke-opacity:1; fill:none\" points=\"859.707,842.243 889.288,842.243 \"/>\n",
       "<polyline clip-path=\"url(#clip242)\" style=\"stroke:#000000; stroke-linecap:round; stroke-linejoin:round; stroke-width:4; stroke-opacity:1; fill:none\" points=\"900.254,842.243 930.493,842.243 \"/>\n",
       "<polyline clip-path=\"url(#clip242)\" style=\"stroke:#000000; stroke-linecap:round; stroke-linejoin:round; stroke-width:4; stroke-opacity:1; fill:none\" points=\"910.907,842.243 941.086,842.243 \"/>\n",
       "<line clip-path=\"url(#clip242)\" x1=\"842.386\" y1=\"858.243\" x2=\"842.386\" y2=\"826.243\" style=\"stroke:#000000; stroke-width:4; stroke-opacity:1\"/>\n",
       "<line clip-path=\"url(#clip242)\" x1=\"872.398\" y1=\"858.243\" x2=\"872.398\" y2=\"826.243\" style=\"stroke:#000000; stroke-width:4; stroke-opacity:1\"/>\n",
       "<line clip-path=\"url(#clip242)\" x1=\"868.504\" y1=\"858.243\" x2=\"868.504\" y2=\"826.243\" style=\"stroke:#000000; stroke-width:4; stroke-opacity:1\"/>\n",
       "<line clip-path=\"url(#clip242)\" x1=\"898.727\" y1=\"858.243\" x2=\"898.727\" y2=\"826.243\" style=\"stroke:#000000; stroke-width:4; stroke-opacity:1\"/>\n",
       "<line clip-path=\"url(#clip242)\" x1=\"859.707\" y1=\"858.243\" x2=\"859.707\" y2=\"826.243\" style=\"stroke:#000000; stroke-width:4; stroke-opacity:1\"/>\n",
       "<line clip-path=\"url(#clip242)\" x1=\"889.288\" y1=\"858.243\" x2=\"889.288\" y2=\"826.243\" style=\"stroke:#000000; stroke-width:4; stroke-opacity:1\"/>\n",
       "<line clip-path=\"url(#clip242)\" x1=\"900.254\" y1=\"858.243\" x2=\"900.254\" y2=\"826.243\" style=\"stroke:#000000; stroke-width:4; stroke-opacity:1\"/>\n",
       "<line clip-path=\"url(#clip242)\" x1=\"930.493\" y1=\"858.243\" x2=\"930.493\" y2=\"826.243\" style=\"stroke:#000000; stroke-width:4; stroke-opacity:1\"/>\n",
       "<line clip-path=\"url(#clip242)\" x1=\"910.907\" y1=\"858.243\" x2=\"910.907\" y2=\"826.243\" style=\"stroke:#000000; stroke-width:4; stroke-opacity:1\"/>\n",
       "<line clip-path=\"url(#clip242)\" x1=\"941.086\" y1=\"858.243\" x2=\"941.086\" y2=\"826.243\" style=\"stroke:#000000; stroke-width:4; stroke-opacity:1\"/>\n",
       "<circle clip-path=\"url(#clip242)\" cx=\"857.392\" cy=\"842.243\" r=\"14.4\" fill=\"#009af9\" fill-rule=\"evenodd\" fill-opacity=\"1\" stroke=\"#000000\" stroke-opacity=\"1\" stroke-width=\"3.2\"/>\n",
       "<circle clip-path=\"url(#clip242)\" cx=\"883.615\" cy=\"842.243\" r=\"14.4\" fill=\"#009af9\" fill-rule=\"evenodd\" fill-opacity=\"1\" stroke=\"#000000\" stroke-opacity=\"1\" stroke-width=\"3.2\"/>\n",
       "<circle clip-path=\"url(#clip242)\" cx=\"874.498\" cy=\"842.243\" r=\"14.4\" fill=\"#009af9\" fill-rule=\"evenodd\" fill-opacity=\"1\" stroke=\"#000000\" stroke-opacity=\"1\" stroke-width=\"3.2\"/>\n",
       "<circle clip-path=\"url(#clip242)\" cx=\"915.374\" cy=\"842.243\" r=\"14.4\" fill=\"#009af9\" fill-rule=\"evenodd\" fill-opacity=\"1\" stroke=\"#000000\" stroke-opacity=\"1\" stroke-width=\"3.2\"/>\n",
       "<circle clip-path=\"url(#clip242)\" cx=\"925.996\" cy=\"842.243\" r=\"14.4\" fill=\"#009af9\" fill-rule=\"evenodd\" fill-opacity=\"1\" stroke=\"#000000\" stroke-opacity=\"1\" stroke-width=\"3.2\"/>\n",
       "<polyline clip-path=\"url(#clip242)\" style=\"stroke:#000000; stroke-linecap:round; stroke-linejoin:round; stroke-width:4; stroke-opacity:1; fill:none\" points=\"253.754,1217.32 269.235,1217.32 \"/>\n",
       "<polyline clip-path=\"url(#clip242)\" style=\"stroke:#000000; stroke-linecap:round; stroke-linejoin:round; stroke-width:4; stroke-opacity:1; fill:none\" points=\"241.159,1217.32 255.814,1217.32 \"/>\n",
       "<polyline clip-path=\"url(#clip242)\" style=\"stroke:#000000; stroke-linecap:round; stroke-linejoin:round; stroke-width:4; stroke-opacity:1; fill:none\" points=\"204.426,1217.32 217.744,1217.32 \"/>\n",
       "<polyline clip-path=\"url(#clip242)\" style=\"stroke:#000000; stroke-linecap:round; stroke-linejoin:round; stroke-width:4; stroke-opacity:1; fill:none\" points=\"220.563,1217.32 233.882,1217.32 \"/>\n",
       "<line clip-path=\"url(#clip242)\" x1=\"253.754\" y1=\"1233.32\" x2=\"253.754\" y2=\"1201.32\" style=\"stroke:#000000; stroke-width:4; stroke-opacity:1\"/>\n",
       "<line clip-path=\"url(#clip242)\" x1=\"269.235\" y1=\"1233.32\" x2=\"269.235\" y2=\"1201.32\" style=\"stroke:#000000; stroke-width:4; stroke-opacity:1\"/>\n",
       "<line clip-path=\"url(#clip242)\" x1=\"241.159\" y1=\"1233.32\" x2=\"241.159\" y2=\"1201.32\" style=\"stroke:#000000; stroke-width:4; stroke-opacity:1\"/>\n",
       "<line clip-path=\"url(#clip242)\" x1=\"255.814\" y1=\"1233.32\" x2=\"255.814\" y2=\"1201.32\" style=\"stroke:#000000; stroke-width:4; stroke-opacity:1\"/>\n",
       "<line clip-path=\"url(#clip242)\" x1=\"204.426\" y1=\"1233.32\" x2=\"204.426\" y2=\"1201.32\" style=\"stroke:#000000; stroke-width:4; stroke-opacity:1\"/>\n",
       "<line clip-path=\"url(#clip242)\" x1=\"217.744\" y1=\"1233.32\" x2=\"217.744\" y2=\"1201.32\" style=\"stroke:#000000; stroke-width:4; stroke-opacity:1\"/>\n",
       "<line clip-path=\"url(#clip242)\" x1=\"220.563\" y1=\"1233.32\" x2=\"220.563\" y2=\"1201.32\" style=\"stroke:#000000; stroke-width:4; stroke-opacity:1\"/>\n",
       "<line clip-path=\"url(#clip242)\" x1=\"233.882\" y1=\"1233.32\" x2=\"233.882\" y2=\"1201.32\" style=\"stroke:#000000; stroke-width:4; stroke-opacity:1\"/>\n",
       "<circle clip-path=\"url(#clip242)\" cx=\"261.494\" cy=\"1217.32\" r=\"14.4\" fill=\"#e26f46\" fill-rule=\"evenodd\" fill-opacity=\"1\" stroke=\"#000000\" stroke-opacity=\"1\" stroke-width=\"3.2\"/>\n",
       "<circle clip-path=\"url(#clip242)\" cx=\"248.487\" cy=\"1217.32\" r=\"14.4\" fill=\"#e26f46\" fill-rule=\"evenodd\" fill-opacity=\"1\" stroke=\"#000000\" stroke-opacity=\"1\" stroke-width=\"3.2\"/>\n",
       "<circle clip-path=\"url(#clip242)\" cx=\"211.085\" cy=\"1217.32\" r=\"14.4\" fill=\"#e26f46\" fill-rule=\"evenodd\" fill-opacity=\"1\" stroke=\"#000000\" stroke-opacity=\"1\" stroke-width=\"3.2\"/>\n",
       "<circle clip-path=\"url(#clip242)\" cx=\"227.222\" cy=\"1217.32\" r=\"14.4\" fill=\"#e26f46\" fill-rule=\"evenodd\" fill-opacity=\"1\" stroke=\"#000000\" stroke-opacity=\"1\" stroke-width=\"3.2\"/>\n",
       "<polyline clip-path=\"url(#clip242)\" style=\"stroke:#000000; stroke-linecap:round; stroke-linejoin:round; stroke-width:4; stroke-opacity:1; fill:none\" points=\"485.904,1046.09 507.179,1046.09 \"/>\n",
       "<polyline clip-path=\"url(#clip242)\" style=\"stroke:#000000; stroke-linecap:round; stroke-linejoin:round; stroke-width:4; stroke-opacity:1; fill:none\" points=\"505.619,1046.09 526.851,1046.09 \"/>\n",
       "<polyline clip-path=\"url(#clip242)\" style=\"stroke:#000000; stroke-linecap:round; stroke-linejoin:round; stroke-width:4; stroke-opacity:1; fill:none\" points=\"523.395,1046.09 544.629,1046.09 \"/>\n",
       "<line clip-path=\"url(#clip242)\" x1=\"485.904\" y1=\"1062.09\" x2=\"485.904\" y2=\"1030.09\" style=\"stroke:#000000; stroke-width:4; stroke-opacity:1\"/>\n",
       "<line clip-path=\"url(#clip242)\" x1=\"507.179\" y1=\"1062.09\" x2=\"507.179\" y2=\"1030.09\" style=\"stroke:#000000; stroke-width:4; stroke-opacity:1\"/>\n",
       "<line clip-path=\"url(#clip242)\" x1=\"505.619\" y1=\"1062.09\" x2=\"505.619\" y2=\"1030.09\" style=\"stroke:#000000; stroke-width:4; stroke-opacity:1\"/>\n",
       "<line clip-path=\"url(#clip242)\" x1=\"526.851\" y1=\"1062.09\" x2=\"526.851\" y2=\"1030.09\" style=\"stroke:#000000; stroke-width:4; stroke-opacity:1\"/>\n",
       "<line clip-path=\"url(#clip242)\" x1=\"523.395\" y1=\"1062.09\" x2=\"523.395\" y2=\"1030.09\" style=\"stroke:#000000; stroke-width:4; stroke-opacity:1\"/>\n",
       "<line clip-path=\"url(#clip242)\" x1=\"544.629\" y1=\"1062.09\" x2=\"544.629\" y2=\"1030.09\" style=\"stroke:#000000; stroke-width:4; stroke-opacity:1\"/>\n",
       "<circle clip-path=\"url(#clip242)\" cx=\"496.541\" cy=\"1046.09\" r=\"14.4\" fill=\"#3da44d\" fill-rule=\"evenodd\" fill-opacity=\"1\" stroke=\"#000000\" stroke-opacity=\"1\" stroke-width=\"3.2\"/>\n",
       "<circle clip-path=\"url(#clip242)\" cx=\"516.235\" cy=\"1046.09\" r=\"14.4\" fill=\"#3da44d\" fill-rule=\"evenodd\" fill-opacity=\"1\" stroke=\"#000000\" stroke-opacity=\"1\" stroke-width=\"3.2\"/>\n",
       "<circle clip-path=\"url(#clip242)\" cx=\"534.012\" cy=\"1046.09\" r=\"14.4\" fill=\"#3da44d\" fill-rule=\"evenodd\" fill-opacity=\"1\" stroke=\"#000000\" stroke-opacity=\"1\" stroke-width=\"3.2\"/>\n",
       "<polyline clip-path=\"url(#clip242)\" style=\"stroke:#000000; stroke-linecap:round; stroke-linejoin:round; stroke-width:4; stroke-opacity:1; fill:none\" points=\"1158.49,638.397 1197.03,638.397 \"/>\n",
       "<polyline clip-path=\"url(#clip242)\" style=\"stroke:#000000; stroke-linecap:round; stroke-linejoin:round; stroke-width:4; stroke-opacity:1; fill:none\" points=\"1212.24,638.397 1251.54,638.397 \"/>\n",
       "<polyline clip-path=\"url(#clip242)\" style=\"stroke:#000000; stroke-linecap:round; stroke-linejoin:round; stroke-width:4; stroke-opacity:1; fill:none\" points=\"1179.44,638.397 1217.38,638.397 \"/>\n",
       "<polyline clip-path=\"url(#clip242)\" style=\"stroke:#000000; stroke-linecap:round; stroke-linejoin:round; stroke-width:4; stroke-opacity:1; fill:none\" points=\"1203.22,638.397 1241.28,638.397 \"/>\n",
       "<polyline clip-path=\"url(#clip242)\" style=\"stroke:#000000; stroke-linecap:round; stroke-linejoin:round; stroke-width:4; stroke-opacity:1; fill:none\" points=\"1268.51,638.397 1307.77,638.397 \"/>\n",
       "<line clip-path=\"url(#clip242)\" x1=\"1158.49\" y1=\"654.397\" x2=\"1158.49\" y2=\"622.397\" style=\"stroke:#000000; stroke-width:4; stroke-opacity:1\"/>\n",
       "<line clip-path=\"url(#clip242)\" x1=\"1197.03\" y1=\"654.397\" x2=\"1197.03\" y2=\"622.397\" style=\"stroke:#000000; stroke-width:4; stroke-opacity:1\"/>\n",
       "<line clip-path=\"url(#clip242)\" x1=\"1212.24\" y1=\"654.397\" x2=\"1212.24\" y2=\"622.397\" style=\"stroke:#000000; stroke-width:4; stroke-opacity:1\"/>\n",
       "<line clip-path=\"url(#clip242)\" x1=\"1251.54\" y1=\"654.397\" x2=\"1251.54\" y2=\"622.397\" style=\"stroke:#000000; stroke-width:4; stroke-opacity:1\"/>\n",
       "<line clip-path=\"url(#clip242)\" x1=\"1179.44\" y1=\"654.397\" x2=\"1179.44\" y2=\"622.397\" style=\"stroke:#000000; stroke-width:4; stroke-opacity:1\"/>\n",
       "<line clip-path=\"url(#clip242)\" x1=\"1217.38\" y1=\"654.397\" x2=\"1217.38\" y2=\"622.397\" style=\"stroke:#000000; stroke-width:4; stroke-opacity:1\"/>\n",
       "<line clip-path=\"url(#clip242)\" x1=\"1203.22\" y1=\"654.397\" x2=\"1203.22\" y2=\"622.397\" style=\"stroke:#000000; stroke-width:4; stroke-opacity:1\"/>\n",
       "<line clip-path=\"url(#clip242)\" x1=\"1241.28\" y1=\"654.397\" x2=\"1241.28\" y2=\"622.397\" style=\"stroke:#000000; stroke-width:4; stroke-opacity:1\"/>\n",
       "<line clip-path=\"url(#clip242)\" x1=\"1268.51\" y1=\"654.397\" x2=\"1268.51\" y2=\"622.397\" style=\"stroke:#000000; stroke-width:4; stroke-opacity:1\"/>\n",
       "<line clip-path=\"url(#clip242)\" x1=\"1307.77\" y1=\"654.397\" x2=\"1307.77\" y2=\"622.397\" style=\"stroke:#000000; stroke-width:4; stroke-opacity:1\"/>\n",
       "<circle clip-path=\"url(#clip242)\" cx=\"1177.76\" cy=\"638.397\" r=\"14.4\" fill=\"#c271d2\" fill-rule=\"evenodd\" fill-opacity=\"1\" stroke=\"#000000\" stroke-opacity=\"1\" stroke-width=\"3.2\"/>\n",
       "<circle clip-path=\"url(#clip242)\" cx=\"1231.89\" cy=\"638.397\" r=\"14.4\" fill=\"#c271d2\" fill-rule=\"evenodd\" fill-opacity=\"1\" stroke=\"#000000\" stroke-opacity=\"1\" stroke-width=\"3.2\"/>\n",
       "<circle clip-path=\"url(#clip242)\" cx=\"1198.41\" cy=\"638.397\" r=\"14.4\" fill=\"#c271d2\" fill-rule=\"evenodd\" fill-opacity=\"1\" stroke=\"#000000\" stroke-opacity=\"1\" stroke-width=\"3.2\"/>\n",
       "<circle clip-path=\"url(#clip242)\" cx=\"1222.25\" cy=\"638.397\" r=\"14.4\" fill=\"#c271d2\" fill-rule=\"evenodd\" fill-opacity=\"1\" stroke=\"#000000\" stroke-opacity=\"1\" stroke-width=\"3.2\"/>\n",
       "<circle clip-path=\"url(#clip242)\" cx=\"1288.14\" cy=\"638.397\" r=\"14.4\" fill=\"#c271d2\" fill-rule=\"evenodd\" fill-opacity=\"1\" stroke=\"#000000\" stroke-opacity=\"1\" stroke-width=\"3.2\"/>\n",
       "<polyline clip-path=\"url(#clip242)\" style=\"stroke:#000000; stroke-linecap:round; stroke-linejoin:round; stroke-width:4; stroke-opacity:1; fill:none\" points=\"1672.53,434.551 1723.81,434.551 \"/>\n",
       "<polyline clip-path=\"url(#clip242)\" style=\"stroke:#000000; stroke-linecap:round; stroke-linejoin:round; stroke-width:4; stroke-opacity:1; fill:none\" points=\"1738.33,434.551 1790.67,434.551 \"/>\n",
       "<polyline clip-path=\"url(#clip242)\" style=\"stroke:#000000; stroke-linecap:round; stroke-linejoin:round; stroke-width:4; stroke-opacity:1; fill:none\" points=\"1723.37,434.551 1774.77,434.551 \"/>\n",
       "<polyline clip-path=\"url(#clip242)\" style=\"stroke:#000000; stroke-linecap:round; stroke-linejoin:round; stroke-width:4; stroke-opacity:1; fill:none\" points=\"1741.08,434.551 1792.03,434.551 \"/>\n",
       "<line clip-path=\"url(#clip242)\" x1=\"1672.53\" y1=\"450.551\" x2=\"1672.53\" y2=\"418.551\" style=\"stroke:#000000; stroke-width:4; stroke-opacity:1\"/>\n",
       "<line clip-path=\"url(#clip242)\" x1=\"1723.81\" y1=\"450.551\" x2=\"1723.81\" y2=\"418.551\" style=\"stroke:#000000; stroke-width:4; stroke-opacity:1\"/>\n",
       "<line clip-path=\"url(#clip242)\" x1=\"1738.33\" y1=\"450.551\" x2=\"1738.33\" y2=\"418.551\" style=\"stroke:#000000; stroke-width:4; stroke-opacity:1\"/>\n",
       "<line clip-path=\"url(#clip242)\" x1=\"1790.67\" y1=\"450.551\" x2=\"1790.67\" y2=\"418.551\" style=\"stroke:#000000; stroke-width:4; stroke-opacity:1\"/>\n",
       "<line clip-path=\"url(#clip242)\" x1=\"1723.37\" y1=\"450.551\" x2=\"1723.37\" y2=\"418.551\" style=\"stroke:#000000; stroke-width:4; stroke-opacity:1\"/>\n",
       "<line clip-path=\"url(#clip242)\" x1=\"1774.77\" y1=\"450.551\" x2=\"1774.77\" y2=\"418.551\" style=\"stroke:#000000; stroke-width:4; stroke-opacity:1\"/>\n",
       "<line clip-path=\"url(#clip242)\" x1=\"1741.08\" y1=\"450.551\" x2=\"1741.08\" y2=\"418.551\" style=\"stroke:#000000; stroke-width:4; stroke-opacity:1\"/>\n",
       "<line clip-path=\"url(#clip242)\" x1=\"1792.03\" y1=\"450.551\" x2=\"1792.03\" y2=\"418.551\" style=\"stroke:#000000; stroke-width:4; stroke-opacity:1\"/>\n",
       "<circle clip-path=\"url(#clip242)\" cx=\"1698.17\" cy=\"434.551\" r=\"14.4\" fill=\"#ac8d18\" fill-rule=\"evenodd\" fill-opacity=\"1\" stroke=\"#000000\" stroke-opacity=\"1\" stroke-width=\"3.2\"/>\n",
       "<circle clip-path=\"url(#clip242)\" cx=\"1764.5\" cy=\"434.551\" r=\"14.4\" fill=\"#ac8d18\" fill-rule=\"evenodd\" fill-opacity=\"1\" stroke=\"#000000\" stroke-opacity=\"1\" stroke-width=\"3.2\"/>\n",
       "<circle clip-path=\"url(#clip242)\" cx=\"1749.07\" cy=\"434.551\" r=\"14.4\" fill=\"#ac8d18\" fill-rule=\"evenodd\" fill-opacity=\"1\" stroke=\"#000000\" stroke-opacity=\"1\" stroke-width=\"3.2\"/>\n",
       "<circle clip-path=\"url(#clip242)\" cx=\"1766.56\" cy=\"434.551\" r=\"14.4\" fill=\"#ac8d18\" fill-rule=\"evenodd\" fill-opacity=\"1\" stroke=\"#000000\" stroke-opacity=\"1\" stroke-width=\"3.2\"/>\n",
       "<polyline clip-path=\"url(#clip242)\" style=\"stroke:#000000; stroke-linecap:round; stroke-linejoin:round; stroke-width:4; stroke-opacity:1; fill:none\" points=\"2206.95,230.705 2271.47,230.705 \"/>\n",
       "<polyline clip-path=\"url(#clip242)\" style=\"stroke:#000000; stroke-linecap:round; stroke-linejoin:round; stroke-width:4; stroke-opacity:1; fill:none\" points=\"2187.07,230.705 2250.51,230.705 \"/>\n",
       "<polyline clip-path=\"url(#clip242)\" style=\"stroke:#000000; stroke-linecap:round; stroke-linejoin:round; stroke-width:4; stroke-opacity:1; fill:none\" points=\"2118.96,230.705 2180.14,230.705 \"/>\n",
       "<polyline clip-path=\"url(#clip242)\" style=\"stroke:#000000; stroke-linecap:round; stroke-linejoin:round; stroke-width:4; stroke-opacity:1; fill:none\" points=\"2177.11,230.705 2239.27,230.705 \"/>\n",
       "<polyline clip-path=\"url(#clip242)\" style=\"stroke:#000000; stroke-linecap:round; stroke-linejoin:round; stroke-width:4; stroke-opacity:1; fill:none\" points=\"2227.21,230.705 2290.18,230.705 \"/>\n",
       "<line clip-path=\"url(#clip242)\" x1=\"2206.95\" y1=\"246.705\" x2=\"2206.95\" y2=\"214.705\" style=\"stroke:#000000; stroke-width:4; stroke-opacity:1\"/>\n",
       "<line clip-path=\"url(#clip242)\" x1=\"2271.47\" y1=\"246.705\" x2=\"2271.47\" y2=\"214.705\" style=\"stroke:#000000; stroke-width:4; stroke-opacity:1\"/>\n",
       "<line clip-path=\"url(#clip242)\" x1=\"2187.07\" y1=\"246.705\" x2=\"2187.07\" y2=\"214.705\" style=\"stroke:#000000; stroke-width:4; stroke-opacity:1\"/>\n",
       "<line clip-path=\"url(#clip242)\" x1=\"2250.51\" y1=\"246.705\" x2=\"2250.51\" y2=\"214.705\" style=\"stroke:#000000; stroke-width:4; stroke-opacity:1\"/>\n",
       "<line clip-path=\"url(#clip242)\" x1=\"2118.96\" y1=\"246.705\" x2=\"2118.96\" y2=\"214.705\" style=\"stroke:#000000; stroke-width:4; stroke-opacity:1\"/>\n",
       "<line clip-path=\"url(#clip242)\" x1=\"2180.14\" y1=\"246.705\" x2=\"2180.14\" y2=\"214.705\" style=\"stroke:#000000; stroke-width:4; stroke-opacity:1\"/>\n",
       "<line clip-path=\"url(#clip242)\" x1=\"2177.11\" y1=\"246.705\" x2=\"2177.11\" y2=\"214.705\" style=\"stroke:#000000; stroke-width:4; stroke-opacity:1\"/>\n",
       "<line clip-path=\"url(#clip242)\" x1=\"2239.27\" y1=\"246.705\" x2=\"2239.27\" y2=\"214.705\" style=\"stroke:#000000; stroke-width:4; stroke-opacity:1\"/>\n",
       "<line clip-path=\"url(#clip242)\" x1=\"2227.21\" y1=\"246.705\" x2=\"2227.21\" y2=\"214.705\" style=\"stroke:#000000; stroke-width:4; stroke-opacity:1\"/>\n",
       "<line clip-path=\"url(#clip242)\" x1=\"2290.18\" y1=\"246.705\" x2=\"2290.18\" y2=\"214.705\" style=\"stroke:#000000; stroke-width:4; stroke-opacity:1\"/>\n",
       "<circle clip-path=\"url(#clip242)\" cx=\"2239.21\" cy=\"230.705\" r=\"14.4\" fill=\"#00a9ad\" fill-rule=\"evenodd\" fill-opacity=\"1\" stroke=\"#000000\" stroke-opacity=\"1\" stroke-width=\"3.2\"/>\n",
       "<circle clip-path=\"url(#clip242)\" cx=\"2218.79\" cy=\"230.705\" r=\"14.4\" fill=\"#00a9ad\" fill-rule=\"evenodd\" fill-opacity=\"1\" stroke=\"#000000\" stroke-opacity=\"1\" stroke-width=\"3.2\"/>\n",
       "<circle clip-path=\"url(#clip242)\" cx=\"2149.55\" cy=\"230.705\" r=\"14.4\" fill=\"#00a9ad\" fill-rule=\"evenodd\" fill-opacity=\"1\" stroke=\"#000000\" stroke-opacity=\"1\" stroke-width=\"3.2\"/>\n",
       "<circle clip-path=\"url(#clip242)\" cx=\"2208.19\" cy=\"230.705\" r=\"14.4\" fill=\"#00a9ad\" fill-rule=\"evenodd\" fill-opacity=\"1\" stroke=\"#000000\" stroke-opacity=\"1\" stroke-width=\"3.2\"/>\n",
       "<circle clip-path=\"url(#clip242)\" cx=\"2258.7\" cy=\"230.705\" r=\"14.4\" fill=\"#00a9ad\" fill-rule=\"evenodd\" fill-opacity=\"1\" stroke=\"#000000\" stroke-opacity=\"1\" stroke-width=\"3.2\"/>\n",
       "<path clip-path=\"url(#clip240)\" d=\"M215.55 457.688 L490.783 457.688 L490.783 94.8081 L215.55 94.8081  Z\" fill=\"#ffffff\" fill-rule=\"evenodd\" fill-opacity=\"1\"/>\n",
       "<polyline clip-path=\"url(#clip240)\" style=\"stroke:#000000; stroke-linecap:round; stroke-linejoin:round; stroke-width:4; stroke-opacity:1; fill:none\" points=\"215.55,457.688 490.783,457.688 490.783,94.8081 215.55,94.8081 215.55,457.688 \"/>\n",
       "<circle clip-path=\"url(#clip240)\" cx=\"313.812\" cy=\"146.648\" r=\"20.48\" fill=\"#009af9\" fill-rule=\"evenodd\" fill-opacity=\"1\" stroke=\"#000000\" stroke-opacity=\"1\" stroke-width=\"4.55111\"/>\n",
       "<path clip-path=\"url(#clip240)\" d=\"M425.917 166.336 Q424.111 170.965 422.398 172.377 Q420.685 173.789 417.815 173.789 L414.412 173.789 L414.412 170.224 L416.912 170.224 Q418.672 170.224 419.644 169.391 Q420.616 168.558 421.797 165.456 L422.56 163.511 L412.074 138.002 L416.588 138.002 L424.69 158.28 L432.792 138.002 L437.306 138.002 L425.917 166.336 Z\" fill=\"#000000\" fill-rule=\"nonzero\" fill-opacity=\"1\" /><path clip-path=\"url(#clip240)\" d=\"M444.597 159.993 L452.236 159.993 L452.236 133.627 L443.926 135.294 L443.926 131.035 L452.19 129.368 L456.866 129.368 L456.866 159.993 L464.505 159.993 L464.505 163.928 L444.597 163.928 L444.597 159.993 Z\" fill=\"#000000\" fill-rule=\"nonzero\" fill-opacity=\"1\" /><circle clip-path=\"url(#clip240)\" cx=\"313.812\" cy=\"198.488\" r=\"20.48\" fill=\"#e26f46\" fill-rule=\"evenodd\" fill-opacity=\"1\" stroke=\"#000000\" stroke-opacity=\"1\" stroke-width=\"4.55111\"/>\n",
       "<path clip-path=\"url(#clip240)\" d=\"M425.917 218.176 Q424.111 222.805 422.398 224.217 Q420.685 225.629 417.815 225.629 L414.412 225.629 L414.412 222.064 L416.912 222.064 Q418.672 222.064 419.644 221.231 Q420.616 220.398 421.797 217.296 L422.56 215.351 L412.074 189.842 L416.588 189.842 L424.69 210.12 L432.792 189.842 L437.306 189.842 L425.917 218.176 Z\" fill=\"#000000\" fill-rule=\"nonzero\" fill-opacity=\"1\" /><path clip-path=\"url(#clip240)\" d=\"M447.815 211.833 L464.134 211.833 L464.134 215.768 L442.19 215.768 L442.19 211.833 Q444.852 209.078 449.435 204.449 Q454.042 199.796 455.222 198.453 Q457.468 195.93 458.347 194.194 Q459.25 192.435 459.25 190.745 Q459.25 187.99 457.306 186.254 Q455.384 184.518 452.283 184.518 Q450.083 184.518 447.63 185.282 Q445.199 186.046 442.421 187.597 L442.421 182.875 Q445.246 181.741 447.699 181.162 Q450.153 180.583 452.19 180.583 Q457.56 180.583 460.755 183.268 Q463.949 185.953 463.949 190.444 Q463.949 192.574 463.139 194.495 Q462.352 196.393 460.245 198.986 Q459.667 199.657 456.565 202.875 Q453.463 206.069 447.815 211.833 Z\" fill=\"#000000\" fill-rule=\"nonzero\" fill-opacity=\"1\" /><circle clip-path=\"url(#clip240)\" cx=\"313.812\" cy=\"250.328\" r=\"20.48\" fill=\"#3da44d\" fill-rule=\"evenodd\" fill-opacity=\"1\" stroke=\"#000000\" stroke-opacity=\"1\" stroke-width=\"4.55111\"/>\n",
       "<path clip-path=\"url(#clip240)\" d=\"M425.917 270.016 Q424.111 274.645 422.398 276.057 Q420.685 277.469 417.815 277.469 L414.412 277.469 L414.412 273.904 L416.912 273.904 Q418.672 273.904 419.644 273.071 Q420.616 272.238 421.797 269.136 L422.56 267.191 L412.074 241.682 L416.588 241.682 L424.69 261.96 L432.792 241.682 L437.306 241.682 L425.917 270.016 Z\" fill=\"#000000\" fill-rule=\"nonzero\" fill-opacity=\"1\" /><path clip-path=\"url(#clip240)\" d=\"M457.954 248.974 Q461.31 249.692 463.185 251.96 Q465.083 254.229 465.083 257.562 Q465.083 262.678 461.565 265.478 Q458.046 268.279 451.565 268.279 Q449.389 268.279 447.074 267.84 Q444.783 267.423 442.329 266.566 L442.329 262.053 Q444.273 263.187 446.588 263.766 Q448.903 264.344 451.426 264.344 Q455.824 264.344 458.116 262.608 Q460.431 260.872 460.431 257.562 Q460.431 254.506 458.278 252.793 Q456.148 251.057 452.329 251.057 L448.301 251.057 L448.301 247.215 L452.514 247.215 Q455.963 247.215 457.792 245.849 Q459.62 244.46 459.62 241.868 Q459.62 239.205 457.722 237.793 Q455.847 236.358 452.329 236.358 Q450.408 236.358 448.208 236.775 Q446.009 237.192 443.371 238.071 L443.371 233.905 Q446.033 233.164 448.347 232.793 Q450.685 232.423 452.745 232.423 Q458.07 232.423 461.171 234.854 Q464.273 237.261 464.273 241.381 Q464.273 244.252 462.63 246.242 Q460.986 248.21 457.954 248.974 Z\" fill=\"#000000\" fill-rule=\"nonzero\" fill-opacity=\"1\" /><circle clip-path=\"url(#clip240)\" cx=\"313.812\" cy=\"302.168\" r=\"20.48\" fill=\"#c271d2\" fill-rule=\"evenodd\" fill-opacity=\"1\" stroke=\"#000000\" stroke-opacity=\"1\" stroke-width=\"4.55111\"/>\n",
       "<path clip-path=\"url(#clip240)\" d=\"M425.917 321.856 Q424.111 326.485 422.398 327.897 Q420.685 329.309 417.815 329.309 L414.412 329.309 L414.412 325.744 L416.912 325.744 Q418.672 325.744 419.644 324.911 Q420.616 324.078 421.797 320.976 L422.56 319.031 L412.074 293.522 L416.588 293.522 L424.69 313.8 L432.792 293.522 L437.306 293.522 L425.917 321.856 Z\" fill=\"#000000\" fill-rule=\"nonzero\" fill-opacity=\"1\" /><path clip-path=\"url(#clip240)\" d=\"M456.634 288.962 L444.829 307.411 L456.634 307.411 L456.634 288.962 M455.408 284.888 L461.287 284.888 L461.287 307.411 L466.218 307.411 L466.218 311.3 L461.287 311.3 L461.287 319.448 L456.634 319.448 L456.634 311.3 L441.033 311.3 L441.033 306.786 L455.408 284.888 Z\" fill=\"#000000\" fill-rule=\"nonzero\" fill-opacity=\"1\" /><circle clip-path=\"url(#clip240)\" cx=\"313.812\" cy=\"354.008\" r=\"20.48\" fill=\"#ac8d18\" fill-rule=\"evenodd\" fill-opacity=\"1\" stroke=\"#000000\" stroke-opacity=\"1\" stroke-width=\"4.55111\"/>\n",
       "<path clip-path=\"url(#clip240)\" d=\"M425.917 373.696 Q424.111 378.325 422.398 379.737 Q420.685 381.149 417.815 381.149 L414.412 381.149 L414.412 377.584 L416.912 377.584 Q418.672 377.584 419.644 376.751 Q420.616 375.918 421.797 372.816 L422.56 370.871 L412.074 345.362 L416.588 345.362 L424.69 365.64 L432.792 345.362 L437.306 345.362 L425.917 373.696 Z\" fill=\"#000000\" fill-rule=\"nonzero\" fill-opacity=\"1\" /><path clip-path=\"url(#clip240)\" d=\"M443.834 336.728 L462.19 336.728 L462.19 340.663 L448.116 340.663 L448.116 349.135 Q449.134 348.788 450.153 348.626 Q451.171 348.441 452.19 348.441 Q457.977 348.441 461.357 351.612 Q464.736 354.784 464.736 360.2 Q464.736 365.779 461.264 368.881 Q457.792 371.959 451.472 371.959 Q449.296 371.959 447.028 371.589 Q444.783 371.219 442.375 370.478 L442.375 365.779 Q444.459 366.913 446.681 367.469 Q448.903 368.024 451.38 368.024 Q455.384 368.024 457.722 365.918 Q460.06 363.811 460.06 360.2 Q460.06 356.589 457.722 354.483 Q455.384 352.376 451.38 352.376 Q449.505 352.376 447.63 352.793 Q445.778 353.21 443.834 354.089 L443.834 336.728 Z\" fill=\"#000000\" fill-rule=\"nonzero\" fill-opacity=\"1\" /><circle clip-path=\"url(#clip240)\" cx=\"313.812\" cy=\"405.848\" r=\"20.48\" fill=\"#00a9ad\" fill-rule=\"evenodd\" fill-opacity=\"1\" stroke=\"#000000\" stroke-opacity=\"1\" stroke-width=\"4.55111\"/>\n",
       "<path clip-path=\"url(#clip240)\" d=\"M425.917 425.536 Q424.111 430.165 422.398 431.577 Q420.685 432.989 417.815 432.989 L414.412 432.989 L414.412 429.424 L416.912 429.424 Q418.672 429.424 419.644 428.591 Q420.616 427.758 421.797 424.656 L422.56 422.711 L412.074 397.202 L416.588 397.202 L424.69 417.48 L432.792 397.202 L437.306 397.202 L425.917 425.536 Z\" fill=\"#000000\" fill-rule=\"nonzero\" fill-opacity=\"1\" /><path clip-path=\"url(#clip240)\" d=\"M454.366 403.985 Q451.218 403.985 449.366 406.137 Q447.537 408.29 447.537 412.04 Q447.537 415.767 449.366 417.943 Q451.218 420.096 454.366 420.096 Q457.514 420.096 459.343 417.943 Q461.195 415.767 461.195 412.04 Q461.195 408.29 459.343 406.137 Q457.514 403.985 454.366 403.985 M463.648 389.332 L463.648 393.591 Q461.889 392.758 460.083 392.318 Q458.301 391.878 456.542 391.878 Q451.912 391.878 449.458 395.003 Q447.028 398.128 446.681 404.448 Q448.046 402.434 450.107 401.369 Q452.167 400.281 454.644 400.281 Q459.852 400.281 462.861 403.452 Q465.894 406.6 465.894 412.04 Q465.894 417.364 462.745 420.582 Q459.597 423.799 454.366 423.799 Q448.371 423.799 445.199 419.216 Q442.028 414.61 442.028 405.883 Q442.028 397.688 445.917 392.827 Q449.806 387.943 456.357 387.943 Q458.116 387.943 459.898 388.29 Q461.704 388.638 463.648 389.332 Z\" fill=\"#000000\" fill-rule=\"nonzero\" fill-opacity=\"1\" /></svg>\n"
      ]
     },
     "metadata": {},
     "output_type": "display_data"
    }
   ],
   "source": [
    "scatter(x1,y1, ylim=(0, 70))\n",
    "scatter!(x2,y2, ylim=(0, 70))\n",
    "scatter!(x3,y3, ylim=(0, 70))\n",
    "scatter!(x4,y4, ylim=(0, 70))\n",
    "scatter!(x5,y5, ylim=(0, 70))\n",
    "scatter!(x6,y6, ylim=(0, 70))"
   ]
  },
  {
   "cell_type": "code",
   "execution_count": 168,
   "id": "95b54b71-b13f-4ab9-ac60-9e2e3e988d45",
   "metadata": {},
   "outputs": [
    {
     "data": {
      "image/png": "[encoded data removed]",
      "image/svg+xml": [
       "<?xml version=\"1.0\" encoding=\"utf-8\"?>\n",
       "<svg xmlns=\"http://www.w3.org/2000/svg\" xmlns:xlink=\"http://www.w3.org/1999/xlink\" width=\"600\" height=\"400\" viewBox=\"0 0 2400 1600\">\n",
       "<defs>\n",
       "  <clipPath id=\"clip280\">\n",
       "    <rect x=\"0\" y=\"0\" width=\"2400\" height=\"1600\"/>\n",
       "  </clipPath>\n",
       "</defs>\n",
       "<path clip-path=\"url(#clip280)\" d=\"M0 1600 L2400 1600 L2400 0 L0 0  Z\" fill=\"#ffffff\" fill-rule=\"evenodd\" fill-opacity=\"1\"/>\n",
       "<defs>\n",
       "  <clipPath id=\"clip281\">\n",
       "    <rect x=\"480\" y=\"0\" width=\"1681\" height=\"1600\"/>\n",
       "  </clipPath>\n",
       "</defs>\n",
       "<path clip-path=\"url(#clip280)\" d=\"M141.853 1474.16 L2352.76 1474.16 L2352.76 47.2441 L141.853 47.2441  Z\" fill=\"#ffffff\" fill-rule=\"evenodd\" fill-opacity=\"1\"/>\n",
       "<defs>\n",
       "  <clipPath id=\"clip282\">\n",
       "    <rect x=\"141\" y=\"47\" width=\"2212\" height=\"1428\"/>\n",
       "  </clipPath>\n",
       "</defs>\n",
       "<polyline clip-path=\"url(#clip282)\" style=\"stroke:#000000; stroke-linecap:round; stroke-linejoin:round; stroke-width:2; stroke-opacity:0.1; fill:none\" points=\"301.874,1474.16 301.874,47.2441 \"/>\n",
       "<polyline clip-path=\"url(#clip282)\" style=\"stroke:#000000; stroke-linecap:round; stroke-linejoin:round; stroke-width:2; stroke-opacity:0.1; fill:none\" points=\"883.049,1474.16 883.049,47.2441 \"/>\n",
       "<polyline clip-path=\"url(#clip282)\" style=\"stroke:#000000; stroke-linecap:round; stroke-linejoin:round; stroke-width:2; stroke-opacity:0.1; fill:none\" points=\"1464.22,1474.16 1464.22,47.2441 \"/>\n",
       "<polyline clip-path=\"url(#clip282)\" style=\"stroke:#000000; stroke-linecap:round; stroke-linejoin:round; stroke-width:2; stroke-opacity:0.1; fill:none\" points=\"2045.4,1474.16 2045.4,47.2441 \"/>\n",
       "<polyline clip-path=\"url(#clip280)\" style=\"stroke:#000000; stroke-linecap:round; stroke-linejoin:round; stroke-width:4; stroke-opacity:1; fill:none\" points=\"141.853,1474.16 2352.76,1474.16 \"/>\n",
       "<polyline clip-path=\"url(#clip280)\" style=\"stroke:#000000; stroke-linecap:round; stroke-linejoin:round; stroke-width:4; stroke-opacity:1; fill:none\" points=\"301.874,1474.16 301.874,1455.27 \"/>\n",
       "<polyline clip-path=\"url(#clip280)\" style=\"stroke:#000000; stroke-linecap:round; stroke-linejoin:round; stroke-width:4; stroke-opacity:1; fill:none\" points=\"883.049,1474.16 883.049,1455.27 \"/>\n",
       "<polyline clip-path=\"url(#clip280)\" style=\"stroke:#000000; stroke-linecap:round; stroke-linejoin:round; stroke-width:4; stroke-opacity:1; fill:none\" points=\"1464.22,1474.16 1464.22,1455.27 \"/>\n",
       "<polyline clip-path=\"url(#clip280)\" style=\"stroke:#000000; stroke-linecap:round; stroke-linejoin:round; stroke-width:4; stroke-opacity:1; fill:none\" points=\"2045.4,1474.16 2045.4,1455.27 \"/>\n",
       "<path clip-path=\"url(#clip280)\" d=\"M185.765 1548.29 L202.085 1548.29 L202.085 1552.22 L180.141 1552.22 L180.141 1548.29 Q182.803 1545.53 187.386 1540.91 Q191.992 1536.25 193.173 1534.91 Q195.418 1532.39 196.298 1530.65 Q197.201 1528.89 197.201 1527.2 Q197.201 1524.45 195.256 1522.71 Q193.335 1520.97 190.233 1520.97 Q188.034 1520.97 185.58 1521.74 Q183.15 1522.5 180.372 1524.05 L180.372 1519.33 Q183.196 1518.2 185.65 1517.62 Q188.103 1517.04 190.14 1517.04 Q195.511 1517.04 198.705 1519.72 Q201.9 1522.41 201.9 1526.9 Q201.9 1529.03 201.089 1530.95 Q200.302 1532.85 198.196 1535.44 Q197.617 1536.11 194.515 1539.33 Q191.414 1542.53 185.765 1548.29 Z\" fill=\"#000000\" fill-rule=\"nonzero\" fill-opacity=\"1\" /><path clip-path=\"url(#clip280)\" d=\"M211.9 1546.35 L216.784 1546.35 L216.784 1552.22 L211.9 1552.22 L211.9 1546.35 Z\" fill=\"#000000\" fill-rule=\"nonzero\" fill-opacity=\"1\" /><path clip-path=\"url(#clip280)\" d=\"M236.969 1520.74 Q233.358 1520.74 231.529 1524.31 Q229.724 1527.85 229.724 1534.98 Q229.724 1542.09 231.529 1545.65 Q233.358 1549.19 236.969 1549.19 Q240.603 1549.19 242.409 1545.65 Q244.237 1542.09 244.237 1534.98 Q244.237 1527.85 242.409 1524.31 Q240.603 1520.74 236.969 1520.74 M236.969 1517.04 Q242.779 1517.04 245.835 1521.65 Q248.913 1526.23 248.913 1534.98 Q248.913 1543.71 245.835 1548.31 Q242.779 1552.9 236.969 1552.9 Q231.159 1552.9 228.08 1548.31 Q225.025 1543.71 225.025 1534.98 Q225.025 1526.23 228.08 1521.65 Q231.159 1517.04 236.969 1517.04 Z\" fill=\"#000000\" fill-rule=\"nonzero\" fill-opacity=\"1\" /><path clip-path=\"url(#clip280)\" d=\"M285.302 1526.76 L274.723 1537.39 L285.302 1547.97 L282.547 1550.77 L271.922 1540.14 L261.297 1550.77 L258.566 1547.97 L269.122 1537.39 L258.566 1526.76 L261.297 1523.96 L271.922 1534.59 L282.547 1523.96 L285.302 1526.76 Z\" fill=\"#000000\" fill-rule=\"nonzero\" fill-opacity=\"1\" /><path clip-path=\"url(#clip280)\" d=\"M297.663 1548.29 L305.302 1548.29 L305.302 1521.92 L296.992 1523.59 L296.992 1519.33 L305.256 1517.66 L309.931 1517.66 L309.931 1548.29 L317.57 1548.29 L317.57 1552.22 L297.663 1552.22 L297.663 1548.29 Z\" fill=\"#000000\" fill-rule=\"nonzero\" fill-opacity=\"1\" /><path clip-path=\"url(#clip280)\" d=\"M337.015 1520.74 Q333.404 1520.74 331.575 1524.31 Q329.769 1527.85 329.769 1534.98 Q329.769 1542.09 331.575 1545.65 Q333.404 1549.19 337.015 1549.19 Q340.649 1549.19 342.454 1545.65 Q344.283 1542.09 344.283 1534.98 Q344.283 1527.85 342.454 1524.31 Q340.649 1520.74 337.015 1520.74 M337.015 1517.04 Q342.825 1517.04 345.88 1521.65 Q348.959 1526.23 348.959 1534.98 Q348.959 1543.71 345.88 1548.31 Q342.825 1552.9 337.015 1552.9 Q331.205 1552.9 328.126 1548.31 Q325.07 1543.71 325.07 1534.98 Q325.07 1526.23 328.126 1521.65 Q331.205 1517.04 337.015 1517.04 Z\" fill=\"#000000\" fill-rule=\"nonzero\" fill-opacity=\"1\" /><path clip-path=\"url(#clip280)\" d=\"M348.959 1511.14 L373.071 1511.14 L373.071 1514.34 L348.959 1514.34 L348.959 1511.14 Z\" fill=\"#000000\" fill-rule=\"nonzero\" fill-opacity=\"1\" /><path clip-path=\"url(#clip280)\" d=\"M381.929 1521.62 L388.136 1521.62 L388.136 1500.19 L381.384 1501.55 L381.384 1498.09 L388.098 1496.73 L391.897 1496.73 L391.897 1521.62 L398.104 1521.62 L398.104 1524.81 L381.929 1524.81 L381.929 1521.62 Z\" fill=\"#000000\" fill-rule=\"nonzero\" fill-opacity=\"1\" /><path clip-path=\"url(#clip280)\" d=\"M413.902 1499.24 Q410.968 1499.24 409.482 1502.13 Q408.015 1505.01 408.015 1510.8 Q408.015 1516.58 409.482 1519.47 Q410.968 1522.35 413.902 1522.35 Q416.855 1522.35 418.322 1519.47 Q419.808 1516.58 419.808 1510.8 Q419.808 1505.01 418.322 1502.13 Q416.855 1499.24 413.902 1499.24 M413.902 1496.23 Q418.623 1496.23 421.106 1499.97 Q423.607 1503.69 423.607 1510.8 Q423.607 1517.89 421.106 1521.64 Q418.623 1525.36 413.902 1525.36 Q409.182 1525.36 406.68 1521.64 Q404.197 1517.89 404.197 1510.8 Q404.197 1503.69 406.68 1499.97 Q409.182 1496.23 413.902 1496.23 Z\" fill=\"#000000\" fill-rule=\"nonzero\" fill-opacity=\"1\" /><path clip-path=\"url(#clip280)\" d=\"M776.339 1521.74 L764.533 1540.19 L776.339 1540.19 L776.339 1521.74 M775.112 1517.66 L780.991 1517.66 L780.991 1540.19 L785.922 1540.19 L785.922 1544.08 L780.991 1544.08 L780.991 1552.22 L776.339 1552.22 L776.339 1544.08 L760.737 1544.08 L760.737 1539.56 L775.112 1517.66 Z\" fill=\"#000000\" fill-rule=\"nonzero\" fill-opacity=\"1\" /><path clip-path=\"url(#clip280)\" d=\"M793.653 1546.35 L798.538 1546.35 L798.538 1552.22 L793.653 1552.22 L793.653 1546.35 Z\" fill=\"#000000\" fill-rule=\"nonzero\" fill-opacity=\"1\" /><path clip-path=\"url(#clip280)\" d=\"M818.723 1520.74 Q815.112 1520.74 813.283 1524.31 Q811.477 1527.85 811.477 1534.98 Q811.477 1542.09 813.283 1545.65 Q815.112 1549.19 818.723 1549.19 Q822.357 1549.19 824.162 1545.65 Q825.991 1542.09 825.991 1534.98 Q825.991 1527.85 824.162 1524.31 Q822.357 1520.74 818.723 1520.74 M818.723 1517.04 Q824.533 1517.04 827.588 1521.65 Q830.667 1526.23 830.667 1534.98 Q830.667 1543.71 827.588 1548.31 Q824.533 1552.9 818.723 1552.9 Q812.912 1552.9 809.834 1548.31 Q806.778 1543.71 806.778 1534.98 Q806.778 1526.23 809.834 1521.65 Q812.912 1517.04 818.723 1517.04 Z\" fill=\"#000000\" fill-rule=\"nonzero\" fill-opacity=\"1\" /><path clip-path=\"url(#clip280)\" d=\"M867.056 1526.76 L856.477 1537.39 L867.056 1547.97 L864.301 1550.77 L853.676 1540.14 L843.051 1550.77 L840.32 1547.97 L850.875 1537.39 L840.32 1526.76 L843.051 1523.96 L853.676 1534.59 L864.301 1523.96 L867.056 1526.76 Z\" fill=\"#000000\" fill-rule=\"nonzero\" fill-opacity=\"1\" /><path clip-path=\"url(#clip280)\" d=\"M879.417 1548.29 L887.056 1548.29 L887.056 1521.92 L878.745 1523.59 L878.745 1519.33 L887.009 1517.66 L891.685 1517.66 L891.685 1548.29 L899.324 1548.29 L899.324 1552.22 L879.417 1552.22 L879.417 1548.29 Z\" fill=\"#000000\" fill-rule=\"nonzero\" fill-opacity=\"1\" /><path clip-path=\"url(#clip280)\" d=\"M918.768 1520.74 Q915.157 1520.74 913.329 1524.31 Q911.523 1527.85 911.523 1534.98 Q911.523 1542.09 913.329 1545.65 Q915.157 1549.19 918.768 1549.19 Q922.403 1549.19 924.208 1545.65 Q926.037 1542.09 926.037 1534.98 Q926.037 1527.85 924.208 1524.31 Q922.403 1520.74 918.768 1520.74 M918.768 1517.04 Q924.579 1517.04 927.634 1521.65 Q930.713 1526.23 930.713 1534.98 Q930.713 1543.71 927.634 1548.31 Q924.579 1552.9 918.768 1552.9 Q912.958 1552.9 909.88 1548.31 Q906.824 1543.71 906.824 1534.98 Q906.824 1526.23 909.88 1521.65 Q912.958 1517.04 918.768 1517.04 Z\" fill=\"#000000\" fill-rule=\"nonzero\" fill-opacity=\"1\" /><path clip-path=\"url(#clip280)\" d=\"M930.713 1511.14 L954.824 1511.14 L954.824 1514.34 L930.713 1514.34 L930.713 1511.14 Z\" fill=\"#000000\" fill-rule=\"nonzero\" fill-opacity=\"1\" /><path clip-path=\"url(#clip280)\" d=\"M963.683 1521.62 L969.889 1521.62 L969.889 1500.19 L963.137 1501.55 L963.137 1498.09 L969.852 1496.73 L973.651 1496.73 L973.651 1521.62 L979.857 1521.62 L979.857 1524.81 L963.683 1524.81 L963.683 1521.62 Z\" fill=\"#000000\" fill-rule=\"nonzero\" fill-opacity=\"1\" /><path clip-path=\"url(#clip280)\" d=\"M995.656 1499.24 Q992.722 1499.24 991.236 1502.13 Q989.769 1505.01 989.769 1510.8 Q989.769 1516.58 991.236 1519.47 Q992.722 1522.35 995.656 1522.35 Q998.609 1522.35 1000.08 1519.47 Q1001.56 1516.58 1001.56 1510.8 Q1001.56 1505.01 1000.08 1502.13 Q998.609 1499.24 995.656 1499.24 M995.656 1496.23 Q1000.38 1496.23 1002.86 1499.97 Q1005.36 1503.69 1005.36 1510.8 Q1005.36 1517.89 1002.86 1521.64 Q1000.38 1525.36 995.656 1525.36 Q990.935 1525.36 988.434 1521.64 Q985.951 1517.89 985.951 1510.8 Q985.951 1503.69 988.434 1499.97 Q990.935 1496.23 995.656 1496.23 Z\" fill=\"#000000\" fill-rule=\"nonzero\" fill-opacity=\"1\" /><path clip-path=\"url(#clip280)\" d=\"M1354.75 1533.08 Q1351.6 1533.08 1349.75 1535.23 Q1347.92 1537.39 1347.92 1541.14 Q1347.92 1544.86 1349.75 1547.04 Q1351.6 1549.19 1354.75 1549.19 Q1357.9 1549.19 1359.72 1547.04 Q1361.58 1544.86 1361.58 1541.14 Q1361.58 1537.39 1359.72 1535.23 Q1357.9 1533.08 1354.75 1533.08 M1364.03 1518.43 L1364.03 1522.69 Q1362.27 1521.85 1360.46 1521.41 Q1358.68 1520.97 1356.92 1520.97 Q1352.29 1520.97 1349.84 1524.1 Q1347.41 1527.22 1347.06 1533.54 Q1348.43 1531.53 1350.49 1530.47 Q1352.55 1529.38 1355.03 1529.38 Q1360.23 1529.38 1363.24 1532.55 Q1366.28 1535.7 1366.28 1541.14 Q1366.28 1546.46 1363.13 1549.68 Q1359.98 1552.9 1354.75 1552.9 Q1348.75 1552.9 1345.58 1548.31 Q1342.41 1543.71 1342.41 1534.98 Q1342.41 1526.78 1346.3 1521.92 Q1350.19 1517.04 1356.74 1517.04 Q1358.5 1517.04 1360.28 1517.39 Q1362.09 1517.73 1364.03 1518.43 Z\" fill=\"#000000\" fill-rule=\"nonzero\" fill-opacity=\"1\" /><path clip-path=\"url(#clip280)\" d=\"M1374.33 1546.35 L1379.21 1546.35 L1379.21 1552.22 L1374.33 1552.22 L1374.33 1546.35 Z\" fill=\"#000000\" fill-rule=\"nonzero\" fill-opacity=\"1\" /><path clip-path=\"url(#clip280)\" d=\"M1399.4 1520.74 Q1395.79 1520.74 1393.96 1524.31 Q1392.15 1527.85 1392.15 1534.98 Q1392.15 1542.09 1393.96 1545.65 Q1395.79 1549.19 1399.4 1549.19 Q1403.03 1549.19 1404.84 1545.65 Q1406.67 1542.09 1406.67 1534.98 Q1406.67 1527.85 1404.84 1524.31 Q1403.03 1520.74 1399.4 1520.74 M1399.4 1517.04 Q1405.21 1517.04 1408.27 1521.65 Q1411.34 1526.23 1411.34 1534.98 Q1411.34 1543.71 1408.27 1548.31 Q1405.21 1552.9 1399.4 1552.9 Q1393.59 1552.9 1390.51 1548.31 Q1387.46 1543.71 1387.46 1534.98 Q1387.46 1526.23 1390.51 1521.65 Q1393.59 1517.04 1399.4 1517.04 Z\" fill=\"#000000\" fill-rule=\"nonzero\" fill-opacity=\"1\" /><path clip-path=\"url(#clip280)\" d=\"M1447.73 1526.76 L1437.15 1537.39 L1447.73 1547.97 L1444.98 1550.77 L1434.35 1540.14 L1423.73 1550.77 L1421 1547.97 L1431.55 1537.39 L1421 1526.76 L1423.73 1523.96 L1434.35 1534.59 L1444.98 1523.96 L1447.73 1526.76 Z\" fill=\"#000000\" fill-rule=\"nonzero\" fill-opacity=\"1\" /><path clip-path=\"url(#clip280)\" d=\"M1460.09 1548.29 L1467.73 1548.29 L1467.73 1521.92 L1459.42 1523.59 L1459.42 1519.33 L1467.69 1517.66 L1472.36 1517.66 L1472.36 1548.29 L1480 1548.29 L1480 1552.22 L1460.09 1552.22 L1460.09 1548.29 Z\" fill=\"#000000\" fill-rule=\"nonzero\" fill-opacity=\"1\" /><path clip-path=\"url(#clip280)\" d=\"M1499.45 1520.74 Q1495.83 1520.74 1494.01 1524.31 Q1492.2 1527.85 1492.2 1534.98 Q1492.2 1542.09 1494.01 1545.65 Q1495.83 1549.19 1499.45 1549.19 Q1503.08 1549.19 1504.89 1545.65 Q1506.71 1542.09 1506.71 1534.98 Q1506.71 1527.85 1504.89 1524.31 Q1503.08 1520.74 1499.45 1520.74 M1499.45 1517.04 Q1505.26 1517.04 1508.31 1521.65 Q1511.39 1526.23 1511.39 1534.98 Q1511.39 1543.71 1508.31 1548.31 Q1505.26 1552.9 1499.45 1552.9 Q1493.64 1552.9 1490.56 1548.31 Q1487.5 1543.71 1487.5 1534.98 Q1487.5 1526.23 1490.56 1521.65 Q1493.64 1517.04 1499.45 1517.04 Z\" fill=\"#000000\" fill-rule=\"nonzero\" fill-opacity=\"1\" /><path clip-path=\"url(#clip280)\" d=\"M1511.39 1511.14 L1535.5 1511.14 L1535.5 1514.34 L1511.39 1514.34 L1511.39 1511.14 Z\" fill=\"#000000\" fill-rule=\"nonzero\" fill-opacity=\"1\" /><path clip-path=\"url(#clip280)\" d=\"M1544.36 1521.62 L1550.57 1521.62 L1550.57 1500.19 L1543.81 1501.55 L1543.81 1498.09 L1550.53 1496.73 L1554.33 1496.73 L1554.33 1521.62 L1560.53 1521.62 L1560.53 1524.81 L1544.36 1524.81 L1544.36 1521.62 Z\" fill=\"#000000\" fill-rule=\"nonzero\" fill-opacity=\"1\" /><path clip-path=\"url(#clip280)\" d=\"M1576.33 1499.24 Q1573.4 1499.24 1571.91 1502.13 Q1570.45 1505.01 1570.45 1510.8 Q1570.45 1516.58 1571.91 1519.47 Q1573.4 1522.35 1576.33 1522.35 Q1579.29 1522.35 1580.75 1519.47 Q1582.24 1516.58 1582.24 1510.8 Q1582.24 1505.01 1580.75 1502.13 Q1579.29 1499.24 1576.33 1499.24 M1576.33 1496.23 Q1581.05 1496.23 1583.54 1499.97 Q1586.04 1503.69 1586.04 1510.8 Q1586.04 1517.89 1583.54 1521.64 Q1581.05 1525.36 1576.33 1525.36 Q1571.61 1525.36 1569.11 1521.64 Q1566.63 1517.89 1566.63 1510.8 Q1566.63 1503.69 1569.11 1499.97 Q1571.61 1496.23 1576.33 1496.23 Z\" fill=\"#000000\" fill-rule=\"nonzero\" fill-opacity=\"1\" /><path clip-path=\"url(#clip280)\" d=\"M1935.39 1535.81 Q1932.06 1535.81 1930.14 1537.6 Q1928.24 1539.38 1928.24 1542.5 Q1928.24 1545.63 1930.14 1547.41 Q1932.06 1549.19 1935.39 1549.19 Q1938.72 1549.19 1940.64 1547.41 Q1942.57 1545.6 1942.57 1542.5 Q1942.57 1539.38 1940.64 1537.6 Q1938.75 1535.81 1935.39 1535.81 M1930.71 1533.82 Q1927.7 1533.08 1926.02 1531.02 Q1924.35 1528.96 1924.35 1526 Q1924.35 1521.85 1927.29 1519.45 Q1930.25 1517.04 1935.39 1517.04 Q1940.55 1517.04 1943.49 1519.45 Q1946.43 1521.85 1946.43 1526 Q1946.43 1528.96 1944.74 1531.02 Q1943.08 1533.08 1940.09 1533.82 Q1943.47 1534.61 1945.34 1536.9 Q1947.24 1539.19 1947.24 1542.5 Q1947.24 1547.53 1944.16 1550.21 Q1941.11 1552.9 1935.39 1552.9 Q1929.67 1552.9 1926.59 1550.21 Q1923.54 1547.53 1923.54 1542.5 Q1923.54 1539.19 1925.44 1536.9 Q1927.33 1534.61 1930.71 1533.82 M1929 1526.44 Q1929 1529.12 1930.67 1530.63 Q1932.36 1532.13 1935.39 1532.13 Q1938.4 1532.13 1940.09 1530.63 Q1941.8 1529.12 1941.8 1526.44 Q1941.8 1523.75 1940.09 1522.25 Q1938.4 1520.74 1935.39 1520.74 Q1932.36 1520.74 1930.67 1522.25 Q1929 1523.75 1929 1526.44 Z\" fill=\"#000000\" fill-rule=\"nonzero\" fill-opacity=\"1\" /><path clip-path=\"url(#clip280)\" d=\"M1955.55 1546.35 L1960.44 1546.35 L1960.44 1552.22 L1955.55 1552.22 L1955.55 1546.35 Z\" fill=\"#000000\" fill-rule=\"nonzero\" fill-opacity=\"1\" /><path clip-path=\"url(#clip280)\" d=\"M1980.62 1520.74 Q1977.01 1520.74 1975.18 1524.31 Q1973.38 1527.85 1973.38 1534.98 Q1973.38 1542.09 1975.18 1545.65 Q1977.01 1549.19 1980.62 1549.19 Q1984.26 1549.19 1986.06 1545.65 Q1987.89 1542.09 1987.89 1534.98 Q1987.89 1527.85 1986.06 1524.31 Q1984.26 1520.74 1980.62 1520.74 M1980.62 1517.04 Q1986.43 1517.04 1989.49 1521.65 Q1992.57 1526.23 1992.57 1534.98 Q1992.57 1543.71 1989.49 1548.31 Q1986.43 1552.9 1980.62 1552.9 Q1974.81 1552.9 1971.73 1548.31 Q1968.68 1543.71 1968.68 1534.98 Q1968.68 1526.23 1971.73 1521.65 Q1974.81 1517.04 1980.62 1517.04 Z\" fill=\"#000000\" fill-rule=\"nonzero\" fill-opacity=\"1\" /><path clip-path=\"url(#clip280)\" d=\"M2028.95 1526.76 L2018.38 1537.39 L2028.95 1547.97 L2026.2 1550.77 L2015.57 1540.14 L2004.95 1550.77 L2002.22 1547.97 L2012.77 1537.39 L2002.22 1526.76 L2004.95 1523.96 L2015.57 1534.59 L2026.2 1523.96 L2028.95 1526.76 Z\" fill=\"#000000\" fill-rule=\"nonzero\" fill-opacity=\"1\" /><path clip-path=\"url(#clip280)\" d=\"M2041.32 1548.29 L2048.95 1548.29 L2048.95 1521.92 L2040.64 1523.59 L2040.64 1519.33 L2048.91 1517.66 L2053.58 1517.66 L2053.58 1548.29 L2061.22 1548.29 L2061.22 1552.22 L2041.32 1552.22 L2041.32 1548.29 Z\" fill=\"#000000\" fill-rule=\"nonzero\" fill-opacity=\"1\" /><path clip-path=\"url(#clip280)\" d=\"M2080.67 1520.74 Q2077.06 1520.74 2075.23 1524.31 Q2073.42 1527.85 2073.42 1534.98 Q2073.42 1542.09 2075.23 1545.65 Q2077.06 1549.19 2080.67 1549.19 Q2084.3 1549.19 2086.11 1545.65 Q2087.94 1542.09 2087.94 1534.98 Q2087.94 1527.85 2086.11 1524.31 Q2084.3 1520.74 2080.67 1520.74 M2080.67 1517.04 Q2086.48 1517.04 2089.53 1521.65 Q2092.61 1526.23 2092.61 1534.98 Q2092.61 1543.71 2089.53 1548.31 Q2086.48 1552.9 2080.67 1552.9 Q2074.86 1552.9 2071.78 1548.31 Q2068.72 1543.71 2068.72 1534.98 Q2068.72 1526.23 2071.78 1521.65 Q2074.86 1517.04 2080.67 1517.04 Z\" fill=\"#000000\" fill-rule=\"nonzero\" fill-opacity=\"1\" /><path clip-path=\"url(#clip280)\" d=\"M2092.61 1511.14 L2116.72 1511.14 L2116.72 1514.34 L2092.61 1514.34 L2092.61 1511.14 Z\" fill=\"#000000\" fill-rule=\"nonzero\" fill-opacity=\"1\" /><path clip-path=\"url(#clip280)\" d=\"M2125.58 1521.62 L2131.79 1521.62 L2131.79 1500.19 L2125.04 1501.55 L2125.04 1498.09 L2131.75 1496.73 L2135.55 1496.73 L2135.55 1521.62 L2141.76 1521.62 L2141.76 1524.81 L2125.58 1524.81 L2125.58 1521.62 Z\" fill=\"#000000\" fill-rule=\"nonzero\" fill-opacity=\"1\" /><path clip-path=\"url(#clip280)\" d=\"M2157.55 1499.24 Q2154.62 1499.24 2153.13 1502.13 Q2151.67 1505.01 2151.67 1510.8 Q2151.67 1516.58 2153.13 1519.47 Q2154.62 1522.35 2157.55 1522.35 Q2160.51 1522.35 2161.97 1519.47 Q2163.46 1516.58 2163.46 1510.8 Q2163.46 1505.01 2161.97 1502.13 Q2160.51 1499.24 2157.55 1499.24 M2157.55 1496.23 Q2162.28 1496.23 2164.76 1499.97 Q2167.26 1503.69 2167.26 1510.8 Q2167.26 1517.89 2164.76 1521.64 Q2162.28 1525.36 2157.55 1525.36 Q2152.83 1525.36 2150.33 1521.64 Q2147.85 1517.89 2147.85 1510.8 Q2147.85 1503.69 2150.33 1499.97 Q2152.83 1496.23 2157.55 1496.23 Z\" fill=\"#000000\" fill-rule=\"nonzero\" fill-opacity=\"1\" /><polyline clip-path=\"url(#clip282)\" style=\"stroke:#000000; stroke-linecap:round; stroke-linejoin:round; stroke-width:2; stroke-opacity:0.1; fill:none\" points=\"141.853,1474.16 2352.76,1474.16 \"/>\n",
       "<polyline clip-path=\"url(#clip282)\" style=\"stroke:#000000; stroke-linecap:round; stroke-linejoin:round; stroke-width:2; stroke-opacity:0.1; fill:none\" points=\"141.853,1270.32 2352.76,1270.32 \"/>\n",
       "<polyline clip-path=\"url(#clip282)\" style=\"stroke:#000000; stroke-linecap:round; stroke-linejoin:round; stroke-width:2; stroke-opacity:0.1; fill:none\" points=\"141.853,1066.47 2352.76,1066.47 \"/>\n",
       "<polyline clip-path=\"url(#clip282)\" style=\"stroke:#000000; stroke-linecap:round; stroke-linejoin:round; stroke-width:2; stroke-opacity:0.1; fill:none\" points=\"141.853,862.627 2352.76,862.627 \"/>\n",
       "<polyline clip-path=\"url(#clip282)\" style=\"stroke:#000000; stroke-linecap:round; stroke-linejoin:round; stroke-width:2; stroke-opacity:0.1; fill:none\" points=\"141.853,658.781 2352.76,658.781 \"/>\n",
       "<polyline clip-path=\"url(#clip282)\" style=\"stroke:#000000; stroke-linecap:round; stroke-linejoin:round; stroke-width:2; stroke-opacity:0.1; fill:none\" points=\"141.853,454.936 2352.76,454.936 \"/>\n",
       "<polyline clip-path=\"url(#clip282)\" style=\"stroke:#000000; stroke-linecap:round; stroke-linejoin:round; stroke-width:2; stroke-opacity:0.1; fill:none\" points=\"141.853,251.09 2352.76,251.09 \"/>\n",
       "<polyline clip-path=\"url(#clip282)\" style=\"stroke:#000000; stroke-linecap:round; stroke-linejoin:round; stroke-width:2; stroke-opacity:0.1; fill:none\" points=\"141.853,47.2441 2352.76,47.2441 \"/>\n",
       "<polyline clip-path=\"url(#clip280)\" style=\"stroke:#000000; stroke-linecap:round; stroke-linejoin:round; stroke-width:4; stroke-opacity:1; fill:none\" points=\"141.853,1474.16 141.853,47.2441 \"/>\n",
       "<polyline clip-path=\"url(#clip280)\" style=\"stroke:#000000; stroke-linecap:round; stroke-linejoin:round; stroke-width:4; stroke-opacity:1; fill:none\" points=\"141.853,1474.16 160.751,1474.16 \"/>\n",
       "<polyline clip-path=\"url(#clip280)\" style=\"stroke:#000000; stroke-linecap:round; stroke-linejoin:round; stroke-width:4; stroke-opacity:1; fill:none\" points=\"141.853,1270.32 160.751,1270.32 \"/>\n",
       "<polyline clip-path=\"url(#clip280)\" style=\"stroke:#000000; stroke-linecap:round; stroke-linejoin:round; stroke-width:4; stroke-opacity:1; fill:none\" points=\"141.853,1066.47 160.751,1066.47 \"/>\n",
       "<polyline clip-path=\"url(#clip280)\" style=\"stroke:#000000; stroke-linecap:round; stroke-linejoin:round; stroke-width:4; stroke-opacity:1; fill:none\" points=\"141.853,862.627 160.751,862.627 \"/>\n",
       "<polyline clip-path=\"url(#clip280)\" style=\"stroke:#000000; stroke-linecap:round; stroke-linejoin:round; stroke-width:4; stroke-opacity:1; fill:none\" points=\"141.853,658.781 160.751,658.781 \"/>\n",
       "<polyline clip-path=\"url(#clip280)\" style=\"stroke:#000000; stroke-linecap:round; stroke-linejoin:round; stroke-width:4; stroke-opacity:1; fill:none\" points=\"141.853,454.936 160.751,454.936 \"/>\n",
       "<polyline clip-path=\"url(#clip280)\" style=\"stroke:#000000; stroke-linecap:round; stroke-linejoin:round; stroke-width:4; stroke-opacity:1; fill:none\" points=\"141.853,251.09 160.751,251.09 \"/>\n",
       "<polyline clip-path=\"url(#clip280)\" style=\"stroke:#000000; stroke-linecap:round; stroke-linejoin:round; stroke-width:4; stroke-opacity:1; fill:none\" points=\"141.853,47.2441 160.751,47.2441 \"/>\n",
       "<path clip-path=\"url(#clip280)\" d=\"M93.9086 1459.96 Q90.2975 1459.96 88.4688 1463.53 Q86.6632 1467.07 86.6632 1474.2 Q86.6632 1481.31 88.4688 1484.87 Q90.2975 1488.41 93.9086 1488.41 Q97.5428 1488.41 99.3483 1484.87 Q101.177 1481.31 101.177 1474.2 Q101.177 1467.07 99.3483 1463.53 Q97.5428 1459.96 93.9086 1459.96 M93.9086 1456.26 Q99.7187 1456.26 102.774 1460.87 Q105.853 1465.45 105.853 1474.2 Q105.853 1482.93 102.774 1487.53 Q99.7187 1492.12 93.9086 1492.12 Q88.0984 1492.12 85.0197 1487.53 Q81.9642 1482.93 81.9642 1474.2 Q81.9642 1465.45 85.0197 1460.87 Q88.0984 1456.26 93.9086 1456.26 Z\" fill=\"#000000\" fill-rule=\"nonzero\" fill-opacity=\"1\" /><path clip-path=\"url(#clip280)\" d=\"M54.5569 1283.66 L62.1958 1283.66 L62.1958 1257.3 L53.8856 1258.96 L53.8856 1254.71 L62.1495 1253.04 L66.8254 1253.04 L66.8254 1283.66 L74.4642 1283.66 L74.4642 1287.6 L54.5569 1287.6 L54.5569 1283.66 Z\" fill=\"#000000\" fill-rule=\"nonzero\" fill-opacity=\"1\" /><path clip-path=\"url(#clip280)\" d=\"M93.9086 1256.12 Q90.2975 1256.12 88.4688 1259.68 Q86.6632 1263.22 86.6632 1270.35 Q86.6632 1277.46 88.4688 1281.02 Q90.2975 1284.57 93.9086 1284.57 Q97.5428 1284.57 99.3483 1281.02 Q101.177 1277.46 101.177 1270.35 Q101.177 1263.22 99.3483 1259.68 Q97.5428 1256.12 93.9086 1256.12 M93.9086 1252.41 Q99.7187 1252.41 102.774 1257.02 Q105.853 1261.6 105.853 1270.35 Q105.853 1279.08 102.774 1283.69 Q99.7187 1288.27 93.9086 1288.27 Q88.0984 1288.27 85.0197 1283.69 Q81.9642 1279.08 81.9642 1270.35 Q81.9642 1261.6 85.0197 1257.02 Q88.0984 1252.41 93.9086 1252.41 Z\" fill=\"#000000\" fill-rule=\"nonzero\" fill-opacity=\"1\" /><path clip-path=\"url(#clip280)\" d=\"M57.7745 1079.82 L74.0939 1079.82 L74.0939 1083.75 L52.1495 1083.75 L52.1495 1079.82 Q54.8115 1077.06 59.3949 1072.43 Q64.0013 1067.78 65.1819 1066.44 Q67.4272 1063.92 68.3068 1062.18 Q69.2096 1060.42 69.2096 1058.73 Q69.2096 1055.98 67.2652 1054.24 Q65.3439 1052.5 62.2421 1052.5 Q60.043 1052.5 57.5893 1053.27 Q55.1588 1054.03 52.381 1055.58 L52.381 1050.86 Q55.2051 1049.73 57.6588 1049.15 Q60.1124 1048.57 62.1495 1048.57 Q67.5198 1048.57 70.7142 1051.25 Q73.9087 1053.94 73.9087 1058.43 Q73.9087 1060.56 73.0985 1062.48 Q72.3115 1064.38 70.205 1066.97 Q69.6263 1067.64 66.5245 1070.86 Q63.4226 1074.05 57.7745 1079.82 Z\" fill=\"#000000\" fill-rule=\"nonzero\" fill-opacity=\"1\" /><path clip-path=\"url(#clip280)\" d=\"M93.9086 1052.27 Q90.2975 1052.27 88.4688 1055.84 Q86.6632 1059.38 86.6632 1066.51 Q86.6632 1073.61 88.4688 1077.18 Q90.2975 1080.72 93.9086 1080.72 Q97.5428 1080.72 99.3483 1077.18 Q101.177 1073.61 101.177 1066.51 Q101.177 1059.38 99.3483 1055.84 Q97.5428 1052.27 93.9086 1052.27 M93.9086 1048.57 Q99.7187 1048.57 102.774 1053.17 Q105.853 1057.76 105.853 1066.51 Q105.853 1075.23 102.774 1079.84 Q99.7187 1084.42 93.9086 1084.42 Q88.0984 1084.42 85.0197 1079.84 Q81.9642 1075.23 81.9642 1066.51 Q81.9642 1057.76 85.0197 1053.17 Q88.0984 1048.57 93.9086 1048.57 Z\" fill=\"#000000\" fill-rule=\"nonzero\" fill-opacity=\"1\" /><path clip-path=\"url(#clip280)\" d=\"M67.9133 861.273 Q71.2698 861.991 73.1448 864.259 Q75.0429 866.528 75.0429 869.861 Q75.0429 874.977 71.5244 877.778 Q68.0059 880.579 61.5245 880.579 Q59.3486 880.579 57.0338 880.139 Q54.7421 879.722 52.2884 878.866 L52.2884 874.352 Q54.2328 875.486 56.5477 876.065 Q58.8625 876.643 61.3856 876.643 Q65.7837 876.643 68.0754 874.907 Q70.3902 873.171 70.3902 869.861 Q70.3902 866.806 68.2374 865.093 Q66.1078 863.356 62.2884 863.356 L58.2606 863.356 L58.2606 859.514 L62.4735 859.514 Q65.9226 859.514 67.7513 858.148 Q69.58 856.759 69.58 854.167 Q69.58 851.505 67.6819 850.093 Q65.8069 848.657 62.2884 848.657 Q60.3671 848.657 58.168 849.074 Q55.969 849.491 53.3301 850.37 L53.3301 846.204 Q55.9921 845.463 58.3069 845.093 Q60.6449 844.722 62.705 844.722 Q68.0291 844.722 71.1309 847.153 Q74.2327 849.56 74.2327 853.681 Q74.2327 856.551 72.5892 858.542 Q70.9457 860.509 67.9133 861.273 Z\" fill=\"#000000\" fill-rule=\"nonzero\" fill-opacity=\"1\" /><path clip-path=\"url(#clip280)\" d=\"M93.9086 848.426 Q90.2975 848.426 88.4688 851.991 Q86.6632 855.532 86.6632 862.662 Q86.6632 869.768 88.4688 873.333 Q90.2975 876.875 93.9086 876.875 Q97.5428 876.875 99.3483 873.333 Q101.177 869.768 101.177 862.662 Q101.177 855.532 99.3483 851.991 Q97.5428 848.426 93.9086 848.426 M93.9086 844.722 Q99.7187 844.722 102.774 849.329 Q105.853 853.912 105.853 862.662 Q105.853 871.389 102.774 875.995 Q99.7187 880.579 93.9086 880.579 Q88.0984 880.579 85.0197 875.995 Q81.9642 871.389 81.9642 862.662 Q81.9642 853.912 85.0197 849.329 Q88.0984 844.722 93.9086 844.722 Z\" fill=\"#000000\" fill-rule=\"nonzero\" fill-opacity=\"1\" /><path clip-path=\"url(#clip280)\" d=\"M66.5939 645.576 L54.7884 664.025 L66.5939 664.025 L66.5939 645.576 M65.367 641.501 L71.2466 641.501 L71.2466 664.025 L76.1772 664.025 L76.1772 667.913 L71.2466 667.913 L71.2466 676.061 L66.5939 676.061 L66.5939 667.913 L50.9921 667.913 L50.9921 663.4 L65.367 641.501 Z\" fill=\"#000000\" fill-rule=\"nonzero\" fill-opacity=\"1\" /><path clip-path=\"url(#clip280)\" d=\"M93.9086 644.58 Q90.2975 644.58 88.4688 648.145 Q86.6632 651.687 86.6632 658.816 Q86.6632 665.923 88.4688 669.487 Q90.2975 673.029 93.9086 673.029 Q97.5428 673.029 99.3483 669.487 Q101.177 665.923 101.177 658.816 Q101.177 651.687 99.3483 648.145 Q97.5428 644.58 93.9086 644.58 M93.9086 640.876 Q99.7187 640.876 102.774 645.483 Q105.853 650.066 105.853 658.816 Q105.853 667.543 102.774 672.149 Q99.7187 676.733 93.9086 676.733 Q88.0984 676.733 85.0197 672.149 Q81.9642 667.543 81.9642 658.816 Q81.9642 650.066 85.0197 645.483 Q88.0984 640.876 93.9086 640.876 Z\" fill=\"#000000\" fill-rule=\"nonzero\" fill-opacity=\"1\" /><path clip-path=\"url(#clip280)\" d=\"M53.793 437.656 L72.1494 437.656 L72.1494 441.591 L58.0754 441.591 L58.0754 450.063 Q59.0939 449.716 60.1124 449.554 Q61.131 449.369 62.1495 449.369 Q67.9365 449.369 71.3161 452.54 Q74.6957 455.711 74.6957 461.128 Q74.6957 466.706 71.2235 469.808 Q67.7513 472.887 61.4319 472.887 Q59.256 472.887 56.9875 472.517 Q54.7421 472.146 52.3347 471.406 L52.3347 466.706 Q54.418 467.841 56.6402 468.396 Q58.8625 468.952 61.3393 468.952 Q65.3439 468.952 67.6819 466.845 Q70.0198 464.739 70.0198 461.128 Q70.0198 457.517 67.6819 455.41 Q65.3439 453.304 61.3393 453.304 Q59.4643 453.304 57.5893 453.72 Q55.7375 454.137 53.793 455.017 L53.793 437.656 Z\" fill=\"#000000\" fill-rule=\"nonzero\" fill-opacity=\"1\" /><path clip-path=\"url(#clip280)\" d=\"M93.9086 440.734 Q90.2975 440.734 88.4688 444.299 Q86.6632 447.841 86.6632 454.97 Q86.6632 462.077 88.4688 465.642 Q90.2975 469.183 93.9086 469.183 Q97.5428 469.183 99.3483 465.642 Q101.177 462.077 101.177 454.97 Q101.177 447.841 99.3483 444.299 Q97.5428 440.734 93.9086 440.734 M93.9086 437.031 Q99.7187 437.031 102.774 441.637 Q105.853 446.22 105.853 454.97 Q105.853 463.697 102.774 468.304 Q99.7187 472.887 93.9086 472.887 Q88.0984 472.887 85.0197 468.304 Q81.9642 463.697 81.9642 454.97 Q81.9642 446.22 85.0197 441.637 Q88.0984 437.031 93.9086 437.031 Z\" fill=\"#000000\" fill-rule=\"nonzero\" fill-opacity=\"1\" /><path clip-path=\"url(#clip280)\" d=\"M64.3254 249.226 Q61.1773 249.226 59.3254 251.379 Q57.4967 253.532 57.4967 257.282 Q57.4967 261.009 59.3254 263.185 Q61.1773 265.338 64.3254 265.338 Q67.4735 265.338 69.3022 263.185 Q71.1541 261.009 71.1541 257.282 Q71.1541 253.532 69.3022 251.379 Q67.4735 249.226 64.3254 249.226 M73.6077 234.574 L73.6077 238.833 Q71.8485 238 70.0429 237.56 Q68.2606 237.12 66.5013 237.12 Q61.8717 237.12 59.418 240.245 Q56.9875 243.37 56.6402 249.689 Q58.006 247.676 60.0662 246.611 Q62.1263 245.523 64.6032 245.523 Q69.8115 245.523 72.8207 248.694 Q75.8531 251.842 75.8531 257.282 Q75.8531 262.606 72.705 265.824 Q69.5568 269.041 64.3254 269.041 Q58.33 269.041 55.1588 264.458 Q51.9875 259.851 51.9875 251.125 Q51.9875 242.93 55.8764 238.069 Q59.7652 233.185 66.3161 233.185 Q68.0754 233.185 69.8578 233.532 Q71.6633 233.879 73.6077 234.574 Z\" fill=\"#000000\" fill-rule=\"nonzero\" fill-opacity=\"1\" /><path clip-path=\"url(#clip280)\" d=\"M93.9086 236.889 Q90.2975 236.889 88.4688 240.453 Q86.6632 243.995 86.6632 251.125 Q86.6632 258.231 88.4688 261.796 Q90.2975 265.338 93.9086 265.338 Q97.5428 265.338 99.3483 261.796 Q101.177 258.231 101.177 251.125 Q101.177 243.995 99.3483 240.453 Q97.5428 236.889 93.9086 236.889 M93.9086 233.185 Q99.7187 233.185 102.774 237.791 Q105.853 242.375 105.853 251.125 Q105.853 259.851 102.774 264.458 Q99.7187 269.041 93.9086 269.041 Q88.0984 269.041 85.0197 264.458 Q81.9642 259.851 81.9642 251.125 Q81.9642 242.375 85.0197 237.791 Q88.0984 233.185 93.9086 233.185 Z\" fill=\"#000000\" fill-rule=\"nonzero\" fill-opacity=\"1\" /><path clip-path=\"url(#clip280)\" d=\"M52.5662 29.9641 L74.7883 29.9641 L74.7883 31.9548 L62.2421 64.5241 L57.3578 64.5241 L69.1633 33.8993 L52.5662 33.8993 L52.5662 29.9641 Z\" fill=\"#000000\" fill-rule=\"nonzero\" fill-opacity=\"1\" /><path clip-path=\"url(#clip280)\" d=\"M93.9086 33.0428 Q90.2975 33.0428 88.4688 36.6076 Q86.6632 40.1492 86.6632 47.2788 Q86.6632 54.3853 88.4688 57.9501 Q90.2975 61.4917 93.9086 61.4917 Q97.5428 61.4917 99.3483 57.9501 Q101.177 54.3853 101.177 47.2788 Q101.177 40.1492 99.3483 36.6076 Q97.5428 33.0428 93.9086 33.0428 M93.9086 29.3391 Q99.7187 29.3391 102.774 33.9456 Q105.853 38.5289 105.853 47.2788 Q105.853 56.0056 102.774 60.6121 Q99.7187 65.1954 93.9086 65.1954 Q88.0984 65.1954 85.0197 60.6121 Q81.9642 56.0056 81.9642 47.2788 Q81.9642 38.5289 85.0197 33.9456 Q88.0984 29.3391 93.9086 29.3391 Z\" fill=\"#000000\" fill-rule=\"nonzero\" fill-opacity=\"1\" /><polyline clip-path=\"url(#clip282)\" style=\"stroke:#000000; stroke-linecap:round; stroke-linejoin:round; stroke-width:4; stroke-opacity:1; fill:none\" points=\"842.386,842.243 872.398,842.243 \"/>\n",
       "<polyline clip-path=\"url(#clip282)\" style=\"stroke:#000000; stroke-linecap:round; stroke-linejoin:round; stroke-width:4; stroke-opacity:1; fill:none\" points=\"868.504,842.243 898.727,842.243 \"/>\n",
       "<polyline clip-path=\"url(#clip282)\" style=\"stroke:#000000; stroke-linecap:round; stroke-linejoin:round; stroke-width:4; stroke-opacity:1; fill:none\" points=\"859.707,842.243 889.288,842.243 \"/>\n",
       "<polyline clip-path=\"url(#clip282)\" style=\"stroke:#000000; stroke-linecap:round; stroke-linejoin:round; stroke-width:4; stroke-opacity:1; fill:none\" points=\"900.254,842.243 930.493,842.243 \"/>\n",
       "<polyline clip-path=\"url(#clip282)\" style=\"stroke:#000000; stroke-linecap:round; stroke-linejoin:round; stroke-width:4; stroke-opacity:1; fill:none\" points=\"910.907,842.243 941.086,842.243 \"/>\n",
       "<line clip-path=\"url(#clip282)\" x1=\"842.386\" y1=\"858.243\" x2=\"842.386\" y2=\"826.243\" style=\"stroke:#000000; stroke-width:4; stroke-opacity:1\"/>\n",
       "<line clip-path=\"url(#clip282)\" x1=\"872.398\" y1=\"858.243\" x2=\"872.398\" y2=\"826.243\" style=\"stroke:#000000; stroke-width:4; stroke-opacity:1\"/>\n",
       "<line clip-path=\"url(#clip282)\" x1=\"868.504\" y1=\"858.243\" x2=\"868.504\" y2=\"826.243\" style=\"stroke:#000000; stroke-width:4; stroke-opacity:1\"/>\n",
       "<line clip-path=\"url(#clip282)\" x1=\"898.727\" y1=\"858.243\" x2=\"898.727\" y2=\"826.243\" style=\"stroke:#000000; stroke-width:4; stroke-opacity:1\"/>\n",
       "<line clip-path=\"url(#clip282)\" x1=\"859.707\" y1=\"858.243\" x2=\"859.707\" y2=\"826.243\" style=\"stroke:#000000; stroke-width:4; stroke-opacity:1\"/>\n",
       "<line clip-path=\"url(#clip282)\" x1=\"889.288\" y1=\"858.243\" x2=\"889.288\" y2=\"826.243\" style=\"stroke:#000000; stroke-width:4; stroke-opacity:1\"/>\n",
       "<line clip-path=\"url(#clip282)\" x1=\"900.254\" y1=\"858.243\" x2=\"900.254\" y2=\"826.243\" style=\"stroke:#000000; stroke-width:4; stroke-opacity:1\"/>\n",
       "<line clip-path=\"url(#clip282)\" x1=\"930.493\" y1=\"858.243\" x2=\"930.493\" y2=\"826.243\" style=\"stroke:#000000; stroke-width:4; stroke-opacity:1\"/>\n",
       "<line clip-path=\"url(#clip282)\" x1=\"910.907\" y1=\"858.243\" x2=\"910.907\" y2=\"826.243\" style=\"stroke:#000000; stroke-width:4; stroke-opacity:1\"/>\n",
       "<line clip-path=\"url(#clip282)\" x1=\"941.086\" y1=\"858.243\" x2=\"941.086\" y2=\"826.243\" style=\"stroke:#000000; stroke-width:4; stroke-opacity:1\"/>\n",
       "<circle clip-path=\"url(#clip282)\" cx=\"857.392\" cy=\"842.243\" r=\"14.4\" fill=\"#009af9\" fill-rule=\"evenodd\" fill-opacity=\"1\" stroke=\"#000000\" stroke-opacity=\"1\" stroke-width=\"3.2\"/>\n",
       "<circle clip-path=\"url(#clip282)\" cx=\"883.615\" cy=\"842.243\" r=\"14.4\" fill=\"#009af9\" fill-rule=\"evenodd\" fill-opacity=\"1\" stroke=\"#000000\" stroke-opacity=\"1\" stroke-width=\"3.2\"/>\n",
       "<circle clip-path=\"url(#clip282)\" cx=\"874.498\" cy=\"842.243\" r=\"14.4\" fill=\"#009af9\" fill-rule=\"evenodd\" fill-opacity=\"1\" stroke=\"#000000\" stroke-opacity=\"1\" stroke-width=\"3.2\"/>\n",
       "<circle clip-path=\"url(#clip282)\" cx=\"915.374\" cy=\"842.243\" r=\"14.4\" fill=\"#009af9\" fill-rule=\"evenodd\" fill-opacity=\"1\" stroke=\"#000000\" stroke-opacity=\"1\" stroke-width=\"3.2\"/>\n",
       "<circle clip-path=\"url(#clip282)\" cx=\"925.996\" cy=\"842.243\" r=\"14.4\" fill=\"#009af9\" fill-rule=\"evenodd\" fill-opacity=\"1\" stroke=\"#000000\" stroke-opacity=\"1\" stroke-width=\"3.2\"/>\n",
       "<polyline clip-path=\"url(#clip282)\" style=\"stroke:#000000; stroke-linecap:round; stroke-linejoin:round; stroke-width:4; stroke-opacity:1; fill:none\" points=\"253.754,1217.32 269.235,1217.32 \"/>\n",
       "<polyline clip-path=\"url(#clip282)\" style=\"stroke:#000000; stroke-linecap:round; stroke-linejoin:round; stroke-width:4; stroke-opacity:1; fill:none\" points=\"241.159,1217.32 255.814,1217.32 \"/>\n",
       "<polyline clip-path=\"url(#clip282)\" style=\"stroke:#000000; stroke-linecap:round; stroke-linejoin:round; stroke-width:4; stroke-opacity:1; fill:none\" points=\"204.426,1217.32 217.744,1217.32 \"/>\n",
       "<polyline clip-path=\"url(#clip282)\" style=\"stroke:#000000; stroke-linecap:round; stroke-linejoin:round; stroke-width:4; stroke-opacity:1; fill:none\" points=\"220.563,1217.32 233.882,1217.32 \"/>\n",
       "<line clip-path=\"url(#clip282)\" x1=\"253.754\" y1=\"1233.32\" x2=\"253.754\" y2=\"1201.32\" style=\"stroke:#000000; stroke-width:4; stroke-opacity:1\"/>\n",
       "<line clip-path=\"url(#clip282)\" x1=\"269.235\" y1=\"1233.32\" x2=\"269.235\" y2=\"1201.32\" style=\"stroke:#000000; stroke-width:4; stroke-opacity:1\"/>\n",
       "<line clip-path=\"url(#clip282)\" x1=\"241.159\" y1=\"1233.32\" x2=\"241.159\" y2=\"1201.32\" style=\"stroke:#000000; stroke-width:4; stroke-opacity:1\"/>\n",
       "<line clip-path=\"url(#clip282)\" x1=\"255.814\" y1=\"1233.32\" x2=\"255.814\" y2=\"1201.32\" style=\"stroke:#000000; stroke-width:4; stroke-opacity:1\"/>\n",
       "<line clip-path=\"url(#clip282)\" x1=\"204.426\" y1=\"1233.32\" x2=\"204.426\" y2=\"1201.32\" style=\"stroke:#000000; stroke-width:4; stroke-opacity:1\"/>\n",
       "<line clip-path=\"url(#clip282)\" x1=\"217.744\" y1=\"1233.32\" x2=\"217.744\" y2=\"1201.32\" style=\"stroke:#000000; stroke-width:4; stroke-opacity:1\"/>\n",
       "<line clip-path=\"url(#clip282)\" x1=\"220.563\" y1=\"1233.32\" x2=\"220.563\" y2=\"1201.32\" style=\"stroke:#000000; stroke-width:4; stroke-opacity:1\"/>\n",
       "<line clip-path=\"url(#clip282)\" x1=\"233.882\" y1=\"1233.32\" x2=\"233.882\" y2=\"1201.32\" style=\"stroke:#000000; stroke-width:4; stroke-opacity:1\"/>\n",
       "<circle clip-path=\"url(#clip282)\" cx=\"261.494\" cy=\"1217.32\" r=\"14.4\" fill=\"#e26f46\" fill-rule=\"evenodd\" fill-opacity=\"1\" stroke=\"#000000\" stroke-opacity=\"1\" stroke-width=\"3.2\"/>\n",
       "<circle clip-path=\"url(#clip282)\" cx=\"248.487\" cy=\"1217.32\" r=\"14.4\" fill=\"#e26f46\" fill-rule=\"evenodd\" fill-opacity=\"1\" stroke=\"#000000\" stroke-opacity=\"1\" stroke-width=\"3.2\"/>\n",
       "<circle clip-path=\"url(#clip282)\" cx=\"211.085\" cy=\"1217.32\" r=\"14.4\" fill=\"#e26f46\" fill-rule=\"evenodd\" fill-opacity=\"1\" stroke=\"#000000\" stroke-opacity=\"1\" stroke-width=\"3.2\"/>\n",
       "<circle clip-path=\"url(#clip282)\" cx=\"227.222\" cy=\"1217.32\" r=\"14.4\" fill=\"#e26f46\" fill-rule=\"evenodd\" fill-opacity=\"1\" stroke=\"#000000\" stroke-opacity=\"1\" stroke-width=\"3.2\"/>\n",
       "<polyline clip-path=\"url(#clip282)\" style=\"stroke:#000000; stroke-linecap:round; stroke-linejoin:round; stroke-width:4; stroke-opacity:1; fill:none\" points=\"485.904,1046.09 507.179,1046.09 \"/>\n",
       "<polyline clip-path=\"url(#clip282)\" style=\"stroke:#000000; stroke-linecap:round; stroke-linejoin:round; stroke-width:4; stroke-opacity:1; fill:none\" points=\"505.619,1046.09 526.851,1046.09 \"/>\n",
       "<polyline clip-path=\"url(#clip282)\" style=\"stroke:#000000; stroke-linecap:round; stroke-linejoin:round; stroke-width:4; stroke-opacity:1; fill:none\" points=\"523.395,1046.09 544.629,1046.09 \"/>\n",
       "<line clip-path=\"url(#clip282)\" x1=\"485.904\" y1=\"1062.09\" x2=\"485.904\" y2=\"1030.09\" style=\"stroke:#000000; stroke-width:4; stroke-opacity:1\"/>\n",
       "<line clip-path=\"url(#clip282)\" x1=\"507.179\" y1=\"1062.09\" x2=\"507.179\" y2=\"1030.09\" style=\"stroke:#000000; stroke-width:4; stroke-opacity:1\"/>\n",
       "<line clip-path=\"url(#clip282)\" x1=\"505.619\" y1=\"1062.09\" x2=\"505.619\" y2=\"1030.09\" style=\"stroke:#000000; stroke-width:4; stroke-opacity:1\"/>\n",
       "<line clip-path=\"url(#clip282)\" x1=\"526.851\" y1=\"1062.09\" x2=\"526.851\" y2=\"1030.09\" style=\"stroke:#000000; stroke-width:4; stroke-opacity:1\"/>\n",
       "<line clip-path=\"url(#clip282)\" x1=\"523.395\" y1=\"1062.09\" x2=\"523.395\" y2=\"1030.09\" style=\"stroke:#000000; stroke-width:4; stroke-opacity:1\"/>\n",
       "<line clip-path=\"url(#clip282)\" x1=\"544.629\" y1=\"1062.09\" x2=\"544.629\" y2=\"1030.09\" style=\"stroke:#000000; stroke-width:4; stroke-opacity:1\"/>\n",
       "<circle clip-path=\"url(#clip282)\" cx=\"496.541\" cy=\"1046.09\" r=\"14.4\" fill=\"#3da44d\" fill-rule=\"evenodd\" fill-opacity=\"1\" stroke=\"#000000\" stroke-opacity=\"1\" stroke-width=\"3.2\"/>\n",
       "<circle clip-path=\"url(#clip282)\" cx=\"516.235\" cy=\"1046.09\" r=\"14.4\" fill=\"#3da44d\" fill-rule=\"evenodd\" fill-opacity=\"1\" stroke=\"#000000\" stroke-opacity=\"1\" stroke-width=\"3.2\"/>\n",
       "<circle clip-path=\"url(#clip282)\" cx=\"534.012\" cy=\"1046.09\" r=\"14.4\" fill=\"#3da44d\" fill-rule=\"evenodd\" fill-opacity=\"1\" stroke=\"#000000\" stroke-opacity=\"1\" stroke-width=\"3.2\"/>\n",
       "<polyline clip-path=\"url(#clip282)\" style=\"stroke:#000000; stroke-linecap:round; stroke-linejoin:round; stroke-width:4; stroke-opacity:1; fill:none\" points=\"1158.49,638.397 1197.03,638.397 \"/>\n",
       "<polyline clip-path=\"url(#clip282)\" style=\"stroke:#000000; stroke-linecap:round; stroke-linejoin:round; stroke-width:4; stroke-opacity:1; fill:none\" points=\"1212.24,638.397 1251.54,638.397 \"/>\n",
       "<polyline clip-path=\"url(#clip282)\" style=\"stroke:#000000; stroke-linecap:round; stroke-linejoin:round; stroke-width:4; stroke-opacity:1; fill:none\" points=\"1179.44,638.397 1217.38,638.397 \"/>\n",
       "<polyline clip-path=\"url(#clip282)\" style=\"stroke:#000000; stroke-linecap:round; stroke-linejoin:round; stroke-width:4; stroke-opacity:1; fill:none\" points=\"1203.22,638.397 1241.28,638.397 \"/>\n",
       "<polyline clip-path=\"url(#clip282)\" style=\"stroke:#000000; stroke-linecap:round; stroke-linejoin:round; stroke-width:4; stroke-opacity:1; fill:none\" points=\"1268.51,638.397 1307.77,638.397 \"/>\n",
       "<line clip-path=\"url(#clip282)\" x1=\"1158.49\" y1=\"654.397\" x2=\"1158.49\" y2=\"622.397\" style=\"stroke:#000000; stroke-width:4; stroke-opacity:1\"/>\n",
       "<line clip-path=\"url(#clip282)\" x1=\"1197.03\" y1=\"654.397\" x2=\"1197.03\" y2=\"622.397\" style=\"stroke:#000000; stroke-width:4; stroke-opacity:1\"/>\n",
       "<line clip-path=\"url(#clip282)\" x1=\"1212.24\" y1=\"654.397\" x2=\"1212.24\" y2=\"622.397\" style=\"stroke:#000000; stroke-width:4; stroke-opacity:1\"/>\n",
       "<line clip-path=\"url(#clip282)\" x1=\"1251.54\" y1=\"654.397\" x2=\"1251.54\" y2=\"622.397\" style=\"stroke:#000000; stroke-width:4; stroke-opacity:1\"/>\n",
       "<line clip-path=\"url(#clip282)\" x1=\"1179.44\" y1=\"654.397\" x2=\"1179.44\" y2=\"622.397\" style=\"stroke:#000000; stroke-width:4; stroke-opacity:1\"/>\n",
       "<line clip-path=\"url(#clip282)\" x1=\"1217.38\" y1=\"654.397\" x2=\"1217.38\" y2=\"622.397\" style=\"stroke:#000000; stroke-width:4; stroke-opacity:1\"/>\n",
       "<line clip-path=\"url(#clip282)\" x1=\"1203.22\" y1=\"654.397\" x2=\"1203.22\" y2=\"622.397\" style=\"stroke:#000000; stroke-width:4; stroke-opacity:1\"/>\n",
       "<line clip-path=\"url(#clip282)\" x1=\"1241.28\" y1=\"654.397\" x2=\"1241.28\" y2=\"622.397\" style=\"stroke:#000000; stroke-width:4; stroke-opacity:1\"/>\n",
       "<line clip-path=\"url(#clip282)\" x1=\"1268.51\" y1=\"654.397\" x2=\"1268.51\" y2=\"622.397\" style=\"stroke:#000000; stroke-width:4; stroke-opacity:1\"/>\n",
       "<line clip-path=\"url(#clip282)\" x1=\"1307.77\" y1=\"654.397\" x2=\"1307.77\" y2=\"622.397\" style=\"stroke:#000000; stroke-width:4; stroke-opacity:1\"/>\n",
       "<circle clip-path=\"url(#clip282)\" cx=\"1177.76\" cy=\"638.397\" r=\"14.4\" fill=\"#c271d2\" fill-rule=\"evenodd\" fill-opacity=\"1\" stroke=\"#000000\" stroke-opacity=\"1\" stroke-width=\"3.2\"/>\n",
       "<circle clip-path=\"url(#clip282)\" cx=\"1231.89\" cy=\"638.397\" r=\"14.4\" fill=\"#c271d2\" fill-rule=\"evenodd\" fill-opacity=\"1\" stroke=\"#000000\" stroke-opacity=\"1\" stroke-width=\"3.2\"/>\n",
       "<circle clip-path=\"url(#clip282)\" cx=\"1198.41\" cy=\"638.397\" r=\"14.4\" fill=\"#c271d2\" fill-rule=\"evenodd\" fill-opacity=\"1\" stroke=\"#000000\" stroke-opacity=\"1\" stroke-width=\"3.2\"/>\n",
       "<circle clip-path=\"url(#clip282)\" cx=\"1222.25\" cy=\"638.397\" r=\"14.4\" fill=\"#c271d2\" fill-rule=\"evenodd\" fill-opacity=\"1\" stroke=\"#000000\" stroke-opacity=\"1\" stroke-width=\"3.2\"/>\n",
       "<circle clip-path=\"url(#clip282)\" cx=\"1288.14\" cy=\"638.397\" r=\"14.4\" fill=\"#c271d2\" fill-rule=\"evenodd\" fill-opacity=\"1\" stroke=\"#000000\" stroke-opacity=\"1\" stroke-width=\"3.2\"/>\n",
       "<polyline clip-path=\"url(#clip282)\" style=\"stroke:#000000; stroke-linecap:round; stroke-linejoin:round; stroke-width:4; stroke-opacity:1; fill:none\" points=\"1672.53,434.551 1723.81,434.551 \"/>\n",
       "<polyline clip-path=\"url(#clip282)\" style=\"stroke:#000000; stroke-linecap:round; stroke-linejoin:round; stroke-width:4; stroke-opacity:1; fill:none\" points=\"1738.33,434.551 1790.67,434.551 \"/>\n",
       "<polyline clip-path=\"url(#clip282)\" style=\"stroke:#000000; stroke-linecap:round; stroke-linejoin:round; stroke-width:4; stroke-opacity:1; fill:none\" points=\"1723.37,434.551 1774.77,434.551 \"/>\n",
       "<polyline clip-path=\"url(#clip282)\" style=\"stroke:#000000; stroke-linecap:round; stroke-linejoin:round; stroke-width:4; stroke-opacity:1; fill:none\" points=\"1741.08,434.551 1792.03,434.551 \"/>\n",
       "<line clip-path=\"url(#clip282)\" x1=\"1672.53\" y1=\"450.551\" x2=\"1672.53\" y2=\"418.551\" style=\"stroke:#000000; stroke-width:4; stroke-opacity:1\"/>\n",
       "<line clip-path=\"url(#clip282)\" x1=\"1723.81\" y1=\"450.551\" x2=\"1723.81\" y2=\"418.551\" style=\"stroke:#000000; stroke-width:4; stroke-opacity:1\"/>\n",
       "<line clip-path=\"url(#clip282)\" x1=\"1738.33\" y1=\"450.551\" x2=\"1738.33\" y2=\"418.551\" style=\"stroke:#000000; stroke-width:4; stroke-opacity:1\"/>\n",
       "<line clip-path=\"url(#clip282)\" x1=\"1790.67\" y1=\"450.551\" x2=\"1790.67\" y2=\"418.551\" style=\"stroke:#000000; stroke-width:4; stroke-opacity:1\"/>\n",
       "<line clip-path=\"url(#clip282)\" x1=\"1723.37\" y1=\"450.551\" x2=\"1723.37\" y2=\"418.551\" style=\"stroke:#000000; stroke-width:4; stroke-opacity:1\"/>\n",
       "<line clip-path=\"url(#clip282)\" x1=\"1774.77\" y1=\"450.551\" x2=\"1774.77\" y2=\"418.551\" style=\"stroke:#000000; stroke-width:4; stroke-opacity:1\"/>\n",
       "<line clip-path=\"url(#clip282)\" x1=\"1741.08\" y1=\"450.551\" x2=\"1741.08\" y2=\"418.551\" style=\"stroke:#000000; stroke-width:4; stroke-opacity:1\"/>\n",
       "<line clip-path=\"url(#clip282)\" x1=\"1792.03\" y1=\"450.551\" x2=\"1792.03\" y2=\"418.551\" style=\"stroke:#000000; stroke-width:4; stroke-opacity:1\"/>\n",
       "<circle clip-path=\"url(#clip282)\" cx=\"1698.17\" cy=\"434.551\" r=\"14.4\" fill=\"#ac8d18\" fill-rule=\"evenodd\" fill-opacity=\"1\" stroke=\"#000000\" stroke-opacity=\"1\" stroke-width=\"3.2\"/>\n",
       "<circle clip-path=\"url(#clip282)\" cx=\"1764.5\" cy=\"434.551\" r=\"14.4\" fill=\"#ac8d18\" fill-rule=\"evenodd\" fill-opacity=\"1\" stroke=\"#000000\" stroke-opacity=\"1\" stroke-width=\"3.2\"/>\n",
       "<circle clip-path=\"url(#clip282)\" cx=\"1749.07\" cy=\"434.551\" r=\"14.4\" fill=\"#ac8d18\" fill-rule=\"evenodd\" fill-opacity=\"1\" stroke=\"#000000\" stroke-opacity=\"1\" stroke-width=\"3.2\"/>\n",
       "<circle clip-path=\"url(#clip282)\" cx=\"1766.56\" cy=\"434.551\" r=\"14.4\" fill=\"#ac8d18\" fill-rule=\"evenodd\" fill-opacity=\"1\" stroke=\"#000000\" stroke-opacity=\"1\" stroke-width=\"3.2\"/>\n",
       "<polyline clip-path=\"url(#clip282)\" style=\"stroke:#000000; stroke-linecap:round; stroke-linejoin:round; stroke-width:4; stroke-opacity:1; fill:none\" points=\"2206.95,230.705 2271.47,230.705 \"/>\n",
       "<polyline clip-path=\"url(#clip282)\" style=\"stroke:#000000; stroke-linecap:round; stroke-linejoin:round; stroke-width:4; stroke-opacity:1; fill:none\" points=\"2187.07,230.705 2250.51,230.705 \"/>\n",
       "<polyline clip-path=\"url(#clip282)\" style=\"stroke:#000000; stroke-linecap:round; stroke-linejoin:round; stroke-width:4; stroke-opacity:1; fill:none\" points=\"2118.96,230.705 2180.14,230.705 \"/>\n",
       "<polyline clip-path=\"url(#clip282)\" style=\"stroke:#000000; stroke-linecap:round; stroke-linejoin:round; stroke-width:4; stroke-opacity:1; fill:none\" points=\"2177.11,230.705 2239.27,230.705 \"/>\n",
       "<polyline clip-path=\"url(#clip282)\" style=\"stroke:#000000; stroke-linecap:round; stroke-linejoin:round; stroke-width:4; stroke-opacity:1; fill:none\" points=\"2227.21,230.705 2290.18,230.705 \"/>\n",
       "<line clip-path=\"url(#clip282)\" x1=\"2206.95\" y1=\"246.705\" x2=\"2206.95\" y2=\"214.705\" style=\"stroke:#000000; stroke-width:4; stroke-opacity:1\"/>\n",
       "<line clip-path=\"url(#clip282)\" x1=\"2271.47\" y1=\"246.705\" x2=\"2271.47\" y2=\"214.705\" style=\"stroke:#000000; stroke-width:4; stroke-opacity:1\"/>\n",
       "<line clip-path=\"url(#clip282)\" x1=\"2187.07\" y1=\"246.705\" x2=\"2187.07\" y2=\"214.705\" style=\"stroke:#000000; stroke-width:4; stroke-opacity:1\"/>\n",
       "<line clip-path=\"url(#clip282)\" x1=\"2250.51\" y1=\"246.705\" x2=\"2250.51\" y2=\"214.705\" style=\"stroke:#000000; stroke-width:4; stroke-opacity:1\"/>\n",
       "<line clip-path=\"url(#clip282)\" x1=\"2118.96\" y1=\"246.705\" x2=\"2118.96\" y2=\"214.705\" style=\"stroke:#000000; stroke-width:4; stroke-opacity:1\"/>\n",
       "<line clip-path=\"url(#clip282)\" x1=\"2180.14\" y1=\"246.705\" x2=\"2180.14\" y2=\"214.705\" style=\"stroke:#000000; stroke-width:4; stroke-opacity:1\"/>\n",
       "<line clip-path=\"url(#clip282)\" x1=\"2177.11\" y1=\"246.705\" x2=\"2177.11\" y2=\"214.705\" style=\"stroke:#000000; stroke-width:4; stroke-opacity:1\"/>\n",
       "<line clip-path=\"url(#clip282)\" x1=\"2239.27\" y1=\"246.705\" x2=\"2239.27\" y2=\"214.705\" style=\"stroke:#000000; stroke-width:4; stroke-opacity:1\"/>\n",
       "<line clip-path=\"url(#clip282)\" x1=\"2227.21\" y1=\"246.705\" x2=\"2227.21\" y2=\"214.705\" style=\"stroke:#000000; stroke-width:4; stroke-opacity:1\"/>\n",
       "<line clip-path=\"url(#clip282)\" x1=\"2290.18\" y1=\"246.705\" x2=\"2290.18\" y2=\"214.705\" style=\"stroke:#000000; stroke-width:4; stroke-opacity:1\"/>\n",
       "<circle clip-path=\"url(#clip282)\" cx=\"2239.21\" cy=\"230.705\" r=\"14.4\" fill=\"#00a9ad\" fill-rule=\"evenodd\" fill-opacity=\"1\" stroke=\"#000000\" stroke-opacity=\"1\" stroke-width=\"3.2\"/>\n",
       "<circle clip-path=\"url(#clip282)\" cx=\"2218.79\" cy=\"230.705\" r=\"14.4\" fill=\"#00a9ad\" fill-rule=\"evenodd\" fill-opacity=\"1\" stroke=\"#000000\" stroke-opacity=\"1\" stroke-width=\"3.2\"/>\n",
       "<circle clip-path=\"url(#clip282)\" cx=\"2149.55\" cy=\"230.705\" r=\"14.4\" fill=\"#00a9ad\" fill-rule=\"evenodd\" fill-opacity=\"1\" stroke=\"#000000\" stroke-opacity=\"1\" stroke-width=\"3.2\"/>\n",
       "<circle clip-path=\"url(#clip282)\" cx=\"2208.19\" cy=\"230.705\" r=\"14.4\" fill=\"#00a9ad\" fill-rule=\"evenodd\" fill-opacity=\"1\" stroke=\"#000000\" stroke-opacity=\"1\" stroke-width=\"3.2\"/>\n",
       "<circle clip-path=\"url(#clip282)\" cx=\"2258.7\" cy=\"230.705\" r=\"14.4\" fill=\"#00a9ad\" fill-rule=\"evenodd\" fill-opacity=\"1\" stroke=\"#000000\" stroke-opacity=\"1\" stroke-width=\"3.2\"/>\n",
       "<path clip-path=\"url(#clip280)\" d=\"M215.55 457.688 L490.783 457.688 L490.783 94.8081 L215.55 94.8081  Z\" fill=\"#ffffff\" fill-rule=\"evenodd\" fill-opacity=\"1\"/>\n",
       "<polyline clip-path=\"url(#clip280)\" style=\"stroke:#000000; stroke-linecap:round; stroke-linejoin:round; stroke-width:4; stroke-opacity:1; fill:none\" points=\"215.55,457.688 490.783,457.688 490.783,94.8081 215.55,94.8081 215.55,457.688 \"/>\n",
       "<circle clip-path=\"url(#clip280)\" cx=\"313.812\" cy=\"146.648\" r=\"20.48\" fill=\"#009af9\" fill-rule=\"evenodd\" fill-opacity=\"1\" stroke=\"#000000\" stroke-opacity=\"1\" stroke-width=\"4.55111\"/>\n",
       "<path clip-path=\"url(#clip280)\" d=\"M425.917 166.336 Q424.111 170.965 422.398 172.377 Q420.685 173.789 417.815 173.789 L414.412 173.789 L414.412 170.224 L416.912 170.224 Q418.672 170.224 419.644 169.391 Q420.616 168.558 421.797 165.456 L422.56 163.511 L412.074 138.002 L416.588 138.002 L424.69 158.28 L432.792 138.002 L437.306 138.002 L425.917 166.336 Z\" fill=\"#000000\" fill-rule=\"nonzero\" fill-opacity=\"1\" /><path clip-path=\"url(#clip280)\" d=\"M444.597 159.993 L452.236 159.993 L452.236 133.627 L443.926 135.294 L443.926 131.035 L452.19 129.368 L456.866 129.368 L456.866 159.993 L464.505 159.993 L464.505 163.928 L444.597 163.928 L444.597 159.993 Z\" fill=\"#000000\" fill-rule=\"nonzero\" fill-opacity=\"1\" /><circle clip-path=\"url(#clip280)\" cx=\"313.812\" cy=\"198.488\" r=\"20.48\" fill=\"#e26f46\" fill-rule=\"evenodd\" fill-opacity=\"1\" stroke=\"#000000\" stroke-opacity=\"1\" stroke-width=\"4.55111\"/>\n",
       "<path clip-path=\"url(#clip280)\" d=\"M425.917 218.176 Q424.111 222.805 422.398 224.217 Q420.685 225.629 417.815 225.629 L414.412 225.629 L414.412 222.064 L416.912 222.064 Q418.672 222.064 419.644 221.231 Q420.616 220.398 421.797 217.296 L422.56 215.351 L412.074 189.842 L416.588 189.842 L424.69 210.12 L432.792 189.842 L437.306 189.842 L425.917 218.176 Z\" fill=\"#000000\" fill-rule=\"nonzero\" fill-opacity=\"1\" /><path clip-path=\"url(#clip280)\" d=\"M447.815 211.833 L464.134 211.833 L464.134 215.768 L442.19 215.768 L442.19 211.833 Q444.852 209.078 449.435 204.449 Q454.042 199.796 455.222 198.453 Q457.468 195.93 458.347 194.194 Q459.25 192.435 459.25 190.745 Q459.25 187.99 457.306 186.254 Q455.384 184.518 452.283 184.518 Q450.083 184.518 447.63 185.282 Q445.199 186.046 442.421 187.597 L442.421 182.875 Q445.246 181.741 447.699 181.162 Q450.153 180.583 452.19 180.583 Q457.56 180.583 460.755 183.268 Q463.949 185.953 463.949 190.444 Q463.949 192.574 463.139 194.495 Q462.352 196.393 460.245 198.986 Q459.667 199.657 456.565 202.875 Q453.463 206.069 447.815 211.833 Z\" fill=\"#000000\" fill-rule=\"nonzero\" fill-opacity=\"1\" /><circle clip-path=\"url(#clip280)\" cx=\"313.812\" cy=\"250.328\" r=\"20.48\" fill=\"#3da44d\" fill-rule=\"evenodd\" fill-opacity=\"1\" stroke=\"#000000\" stroke-opacity=\"1\" stroke-width=\"4.55111\"/>\n",
       "<path clip-path=\"url(#clip280)\" d=\"M425.917 270.016 Q424.111 274.645 422.398 276.057 Q420.685 277.469 417.815 277.469 L414.412 277.469 L414.412 273.904 L416.912 273.904 Q418.672 273.904 419.644 273.071 Q420.616 272.238 421.797 269.136 L422.56 267.191 L412.074 241.682 L416.588 241.682 L424.69 261.96 L432.792 241.682 L437.306 241.682 L425.917 270.016 Z\" fill=\"#000000\" fill-rule=\"nonzero\" fill-opacity=\"1\" /><path clip-path=\"url(#clip280)\" d=\"M457.954 248.974 Q461.31 249.692 463.185 251.96 Q465.083 254.229 465.083 257.562 Q465.083 262.678 461.565 265.478 Q458.046 268.279 451.565 268.279 Q449.389 268.279 447.074 267.84 Q444.783 267.423 442.329 266.566 L442.329 262.053 Q444.273 263.187 446.588 263.766 Q448.903 264.344 451.426 264.344 Q455.824 264.344 458.116 262.608 Q460.431 260.872 460.431 257.562 Q460.431 254.506 458.278 252.793 Q456.148 251.057 452.329 251.057 L448.301 251.057 L448.301 247.215 L452.514 247.215 Q455.963 247.215 457.792 245.849 Q459.62 244.46 459.62 241.868 Q459.62 239.205 457.722 237.793 Q455.847 236.358 452.329 236.358 Q450.408 236.358 448.208 236.775 Q446.009 237.192 443.371 238.071 L443.371 233.905 Q446.033 233.164 448.347 232.793 Q450.685 232.423 452.745 232.423 Q458.07 232.423 461.171 234.854 Q464.273 237.261 464.273 241.381 Q464.273 244.252 462.63 246.242 Q460.986 248.21 457.954 248.974 Z\" fill=\"#000000\" fill-rule=\"nonzero\" fill-opacity=\"1\" /><circle clip-path=\"url(#clip280)\" cx=\"313.812\" cy=\"302.168\" r=\"20.48\" fill=\"#c271d2\" fill-rule=\"evenodd\" fill-opacity=\"1\" stroke=\"#000000\" stroke-opacity=\"1\" stroke-width=\"4.55111\"/>\n",
       "<path clip-path=\"url(#clip280)\" d=\"M425.917 321.856 Q424.111 326.485 422.398 327.897 Q420.685 329.309 417.815 329.309 L414.412 329.309 L414.412 325.744 L416.912 325.744 Q418.672 325.744 419.644 324.911 Q420.616 324.078 421.797 320.976 L422.56 319.031 L412.074 293.522 L416.588 293.522 L424.69 313.8 L432.792 293.522 L437.306 293.522 L425.917 321.856 Z\" fill=\"#000000\" fill-rule=\"nonzero\" fill-opacity=\"1\" /><path clip-path=\"url(#clip280)\" d=\"M456.634 288.962 L444.829 307.411 L456.634 307.411 L456.634 288.962 M455.408 284.888 L461.287 284.888 L461.287 307.411 L466.218 307.411 L466.218 311.3 L461.287 311.3 L461.287 319.448 L456.634 319.448 L456.634 311.3 L441.033 311.3 L441.033 306.786 L455.408 284.888 Z\" fill=\"#000000\" fill-rule=\"nonzero\" fill-opacity=\"1\" /><circle clip-path=\"url(#clip280)\" cx=\"313.812\" cy=\"354.008\" r=\"20.48\" fill=\"#ac8d18\" fill-rule=\"evenodd\" fill-opacity=\"1\" stroke=\"#000000\" stroke-opacity=\"1\" stroke-width=\"4.55111\"/>\n",
       "<path clip-path=\"url(#clip280)\" d=\"M425.917 373.696 Q424.111 378.325 422.398 379.737 Q420.685 381.149 417.815 381.149 L414.412 381.149 L414.412 377.584 L416.912 377.584 Q418.672 377.584 419.644 376.751 Q420.616 375.918 421.797 372.816 L422.56 370.871 L412.074 345.362 L416.588 345.362 L424.69 365.64 L432.792 345.362 L437.306 345.362 L425.917 373.696 Z\" fill=\"#000000\" fill-rule=\"nonzero\" fill-opacity=\"1\" /><path clip-path=\"url(#clip280)\" d=\"M443.834 336.728 L462.19 336.728 L462.19 340.663 L448.116 340.663 L448.116 349.135 Q449.134 348.788 450.153 348.626 Q451.171 348.441 452.19 348.441 Q457.977 348.441 461.357 351.612 Q464.736 354.784 464.736 360.2 Q464.736 365.779 461.264 368.881 Q457.792 371.959 451.472 371.959 Q449.296 371.959 447.028 371.589 Q444.783 371.219 442.375 370.478 L442.375 365.779 Q444.459 366.913 446.681 367.469 Q448.903 368.024 451.38 368.024 Q455.384 368.024 457.722 365.918 Q460.06 363.811 460.06 360.2 Q460.06 356.589 457.722 354.483 Q455.384 352.376 451.38 352.376 Q449.505 352.376 447.63 352.793 Q445.778 353.21 443.834 354.089 L443.834 336.728 Z\" fill=\"#000000\" fill-rule=\"nonzero\" fill-opacity=\"1\" /><circle clip-path=\"url(#clip280)\" cx=\"313.812\" cy=\"405.848\" r=\"20.48\" fill=\"#00a9ad\" fill-rule=\"evenodd\" fill-opacity=\"1\" stroke=\"#000000\" stroke-opacity=\"1\" stroke-width=\"4.55111\"/>\n",
       "<path clip-path=\"url(#clip280)\" d=\"M425.917 425.536 Q424.111 430.165 422.398 431.577 Q420.685 432.989 417.815 432.989 L414.412 432.989 L414.412 429.424 L416.912 429.424 Q418.672 429.424 419.644 428.591 Q420.616 427.758 421.797 424.656 L422.56 422.711 L412.074 397.202 L416.588 397.202 L424.69 417.48 L432.792 397.202 L437.306 397.202 L425.917 425.536 Z\" fill=\"#000000\" fill-rule=\"nonzero\" fill-opacity=\"1\" /><path clip-path=\"url(#clip280)\" d=\"M454.366 403.985 Q451.218 403.985 449.366 406.137 Q447.537 408.29 447.537 412.04 Q447.537 415.767 449.366 417.943 Q451.218 420.096 454.366 420.096 Q457.514 420.096 459.343 417.943 Q461.195 415.767 461.195 412.04 Q461.195 408.29 459.343 406.137 Q457.514 403.985 454.366 403.985 M463.648 389.332 L463.648 393.591 Q461.889 392.758 460.083 392.318 Q458.301 391.878 456.542 391.878 Q451.912 391.878 449.458 395.003 Q447.028 398.128 446.681 404.448 Q448.046 402.434 450.107 401.369 Q452.167 400.281 454.644 400.281 Q459.852 400.281 462.861 403.452 Q465.894 406.6 465.894 412.04 Q465.894 417.364 462.745 420.582 Q459.597 423.799 454.366 423.799 Q448.371 423.799 445.199 419.216 Q442.028 414.61 442.028 405.883 Q442.028 397.688 445.917 392.827 Q449.806 387.943 456.357 387.943 Q458.116 387.943 459.898 388.29 Q461.704 388.638 463.648 389.332 Z\" fill=\"#000000\" fill-rule=\"nonzero\" fill-opacity=\"1\" /></svg>\n"
      ],
      "text/html": [
       "<?xml version=\"1.0\" encoding=\"utf-8\"?>\n",
       "<svg xmlns=\"http://www.w3.org/2000/svg\" xmlns:xlink=\"http://www.w3.org/1999/xlink\" width=\"600\" height=\"400\" viewBox=\"0 0 2400 1600\">\n",
       "<defs>\n",
       "  <clipPath id=\"clip330\">\n",
       "    <rect x=\"0\" y=\"0\" width=\"2400\" height=\"1600\"/>\n",
       "  </clipPath>\n",
       "</defs>\n",
       "<path clip-path=\"url(#clip330)\" d=\"M0 1600 L2400 1600 L2400 0 L0 0  Z\" fill=\"#ffffff\" fill-rule=\"evenodd\" fill-opacity=\"1\"/>\n",
       "<defs>\n",
       "  <clipPath id=\"clip331\">\n",
       "    <rect x=\"480\" y=\"0\" width=\"1681\" height=\"1600\"/>\n",
       "  </clipPath>\n",
       "</defs>\n",
       "<path clip-path=\"url(#clip330)\" d=\"M141.853 1474.16 L2352.76 1474.16 L2352.76 47.2441 L141.853 47.2441  Z\" fill=\"#ffffff\" fill-rule=\"evenodd\" fill-opacity=\"1\"/>\n",
       "<defs>\n",
       "  <clipPath id=\"clip332\">\n",
       "    <rect x=\"141\" y=\"47\" width=\"2212\" height=\"1428\"/>\n",
       "  </clipPath>\n",
       "</defs>\n",
       "<polyline clip-path=\"url(#clip332)\" style=\"stroke:#000000; stroke-linecap:round; stroke-linejoin:round; stroke-width:2; stroke-opacity:0.1; fill:none\" points=\"301.874,1474.16 301.874,47.2441 \"/>\n",
       "<polyline clip-path=\"url(#clip332)\" style=\"stroke:#000000; stroke-linecap:round; stroke-linejoin:round; stroke-width:2; stroke-opacity:0.1; fill:none\" points=\"883.049,1474.16 883.049,47.2441 \"/>\n",
       "<polyline clip-path=\"url(#clip332)\" style=\"stroke:#000000; stroke-linecap:round; stroke-linejoin:round; stroke-width:2; stroke-opacity:0.1; fill:none\" points=\"1464.22,1474.16 1464.22,47.2441 \"/>\n",
       "<polyline clip-path=\"url(#clip332)\" style=\"stroke:#000000; stroke-linecap:round; stroke-linejoin:round; stroke-width:2; stroke-opacity:0.1; fill:none\" points=\"2045.4,1474.16 2045.4,47.2441 \"/>\n",
       "<polyline clip-path=\"url(#clip330)\" style=\"stroke:#000000; stroke-linecap:round; stroke-linejoin:round; stroke-width:4; stroke-opacity:1; fill:none\" points=\"141.853,1474.16 2352.76,1474.16 \"/>\n",
       "<polyline clip-path=\"url(#clip330)\" style=\"stroke:#000000; stroke-linecap:round; stroke-linejoin:round; stroke-width:4; stroke-opacity:1; fill:none\" points=\"301.874,1474.16 301.874,1455.27 \"/>\n",
       "<polyline clip-path=\"url(#clip330)\" style=\"stroke:#000000; stroke-linecap:round; stroke-linejoin:round; stroke-width:4; stroke-opacity:1; fill:none\" points=\"883.049,1474.16 883.049,1455.27 \"/>\n",
       "<polyline clip-path=\"url(#clip330)\" style=\"stroke:#000000; stroke-linecap:round; stroke-linejoin:round; stroke-width:4; stroke-opacity:1; fill:none\" points=\"1464.22,1474.16 1464.22,1455.27 \"/>\n",
       "<polyline clip-path=\"url(#clip330)\" style=\"stroke:#000000; stroke-linecap:round; stroke-linejoin:round; stroke-width:4; stroke-opacity:1; fill:none\" points=\"2045.4,1474.16 2045.4,1455.27 \"/>\n",
       "<path clip-path=\"url(#clip330)\" d=\"M185.765 1548.29 L202.085 1548.29 L202.085 1552.22 L180.141 1552.22 L180.141 1548.29 Q182.803 1545.53 187.386 1540.91 Q191.992 1536.25 193.173 1534.91 Q195.418 1532.39 196.298 1530.65 Q197.201 1528.89 197.201 1527.2 Q197.201 1524.45 195.256 1522.71 Q193.335 1520.97 190.233 1520.97 Q188.034 1520.97 185.58 1521.74 Q183.15 1522.5 180.372 1524.05 L180.372 1519.33 Q183.196 1518.2 185.65 1517.62 Q188.103 1517.04 190.14 1517.04 Q195.511 1517.04 198.705 1519.72 Q201.9 1522.41 201.9 1526.9 Q201.9 1529.03 201.089 1530.95 Q200.302 1532.85 198.196 1535.44 Q197.617 1536.11 194.515 1539.33 Q191.414 1542.53 185.765 1548.29 Z\" fill=\"#000000\" fill-rule=\"nonzero\" fill-opacity=\"1\" /><path clip-path=\"url(#clip330)\" d=\"M211.9 1546.35 L216.784 1546.35 L216.784 1552.22 L211.9 1552.22 L211.9 1546.35 Z\" fill=\"#000000\" fill-rule=\"nonzero\" fill-opacity=\"1\" /><path clip-path=\"url(#clip330)\" d=\"M236.969 1520.74 Q233.358 1520.74 231.529 1524.31 Q229.724 1527.85 229.724 1534.98 Q229.724 1542.09 231.529 1545.65 Q233.358 1549.19 236.969 1549.19 Q240.603 1549.19 242.409 1545.65 Q244.237 1542.09 244.237 1534.98 Q244.237 1527.85 242.409 1524.31 Q240.603 1520.74 236.969 1520.74 M236.969 1517.04 Q242.779 1517.04 245.835 1521.65 Q248.913 1526.23 248.913 1534.98 Q248.913 1543.71 245.835 1548.31 Q242.779 1552.9 236.969 1552.9 Q231.159 1552.9 228.08 1548.31 Q225.025 1543.71 225.025 1534.98 Q225.025 1526.23 228.08 1521.65 Q231.159 1517.04 236.969 1517.04 Z\" fill=\"#000000\" fill-rule=\"nonzero\" fill-opacity=\"1\" /><path clip-path=\"url(#clip330)\" d=\"M285.302 1526.76 L274.723 1537.39 L285.302 1547.97 L282.547 1550.77 L271.922 1540.14 L261.297 1550.77 L258.566 1547.97 L269.122 1537.39 L258.566 1526.76 L261.297 1523.96 L271.922 1534.59 L282.547 1523.96 L285.302 1526.76 Z\" fill=\"#000000\" fill-rule=\"nonzero\" fill-opacity=\"1\" /><path clip-path=\"url(#clip330)\" d=\"M297.663 1548.29 L305.302 1548.29 L305.302 1521.92 L296.992 1523.59 L296.992 1519.33 L305.256 1517.66 L309.931 1517.66 L309.931 1548.29 L317.57 1548.29 L317.57 1552.22 L297.663 1552.22 L297.663 1548.29 Z\" fill=\"#000000\" fill-rule=\"nonzero\" fill-opacity=\"1\" /><path clip-path=\"url(#clip330)\" d=\"M337.015 1520.74 Q333.404 1520.74 331.575 1524.31 Q329.769 1527.85 329.769 1534.98 Q329.769 1542.09 331.575 1545.65 Q333.404 1549.19 337.015 1549.19 Q340.649 1549.19 342.454 1545.65 Q344.283 1542.09 344.283 1534.98 Q344.283 1527.85 342.454 1524.31 Q340.649 1520.74 337.015 1520.74 M337.015 1517.04 Q342.825 1517.04 345.88 1521.65 Q348.959 1526.23 348.959 1534.98 Q348.959 1543.71 345.88 1548.31 Q342.825 1552.9 337.015 1552.9 Q331.205 1552.9 328.126 1548.31 Q325.07 1543.71 325.07 1534.98 Q325.07 1526.23 328.126 1521.65 Q331.205 1517.04 337.015 1517.04 Z\" fill=\"#000000\" fill-rule=\"nonzero\" fill-opacity=\"1\" /><path clip-path=\"url(#clip330)\" d=\"M348.959 1511.14 L373.071 1511.14 L373.071 1514.34 L348.959 1514.34 L348.959 1511.14 Z\" fill=\"#000000\" fill-rule=\"nonzero\" fill-opacity=\"1\" /><path clip-path=\"url(#clip330)\" d=\"M381.929 1521.62 L388.136 1521.62 L388.136 1500.19 L381.384 1501.55 L381.384 1498.09 L388.098 1496.73 L391.897 1496.73 L391.897 1521.62 L398.104 1521.62 L398.104 1524.81 L381.929 1524.81 L381.929 1521.62 Z\" fill=\"#000000\" fill-rule=\"nonzero\" fill-opacity=\"1\" /><path clip-path=\"url(#clip330)\" d=\"M413.902 1499.24 Q410.968 1499.24 409.482 1502.13 Q408.015 1505.01 408.015 1510.8 Q408.015 1516.58 409.482 1519.47 Q410.968 1522.35 413.902 1522.35 Q416.855 1522.35 418.322 1519.47 Q419.808 1516.58 419.808 1510.8 Q419.808 1505.01 418.322 1502.13 Q416.855 1499.24 413.902 1499.24 M413.902 1496.23 Q418.623 1496.23 421.106 1499.97 Q423.607 1503.69 423.607 1510.8 Q423.607 1517.89 421.106 1521.64 Q418.623 1525.36 413.902 1525.36 Q409.182 1525.36 406.68 1521.64 Q404.197 1517.89 404.197 1510.8 Q404.197 1503.69 406.68 1499.97 Q409.182 1496.23 413.902 1496.23 Z\" fill=\"#000000\" fill-rule=\"nonzero\" fill-opacity=\"1\" /><path clip-path=\"url(#clip330)\" d=\"M776.339 1521.74 L764.533 1540.19 L776.339 1540.19 L776.339 1521.74 M775.112 1517.66 L780.991 1517.66 L780.991 1540.19 L785.922 1540.19 L785.922 1544.08 L780.991 1544.08 L780.991 1552.22 L776.339 1552.22 L776.339 1544.08 L760.737 1544.08 L760.737 1539.56 L775.112 1517.66 Z\" fill=\"#000000\" fill-rule=\"nonzero\" fill-opacity=\"1\" /><path clip-path=\"url(#clip330)\" d=\"M793.653 1546.35 L798.538 1546.35 L798.538 1552.22 L793.653 1552.22 L793.653 1546.35 Z\" fill=\"#000000\" fill-rule=\"nonzero\" fill-opacity=\"1\" /><path clip-path=\"url(#clip330)\" d=\"M818.723 1520.74 Q815.112 1520.74 813.283 1524.31 Q811.477 1527.85 811.477 1534.98 Q811.477 1542.09 813.283 1545.65 Q815.112 1549.19 818.723 1549.19 Q822.357 1549.19 824.162 1545.65 Q825.991 1542.09 825.991 1534.98 Q825.991 1527.85 824.162 1524.31 Q822.357 1520.74 818.723 1520.74 M818.723 1517.04 Q824.533 1517.04 827.588 1521.65 Q830.667 1526.23 830.667 1534.98 Q830.667 1543.71 827.588 1548.31 Q824.533 1552.9 818.723 1552.9 Q812.912 1552.9 809.834 1548.31 Q806.778 1543.71 806.778 1534.98 Q806.778 1526.23 809.834 1521.65 Q812.912 1517.04 818.723 1517.04 Z\" fill=\"#000000\" fill-rule=\"nonzero\" fill-opacity=\"1\" /><path clip-path=\"url(#clip330)\" d=\"M867.056 1526.76 L856.477 1537.39 L867.056 1547.97 L864.301 1550.77 L853.676 1540.14 L843.051 1550.77 L840.32 1547.97 L850.875 1537.39 L840.32 1526.76 L843.051 1523.96 L853.676 1534.59 L864.301 1523.96 L867.056 1526.76 Z\" fill=\"#000000\" fill-rule=\"nonzero\" fill-opacity=\"1\" /><path clip-path=\"url(#clip330)\" d=\"M879.417 1548.29 L887.056 1548.29 L887.056 1521.92 L878.745 1523.59 L878.745 1519.33 L887.009 1517.66 L891.685 1517.66 L891.685 1548.29 L899.324 1548.29 L899.324 1552.22 L879.417 1552.22 L879.417 1548.29 Z\" fill=\"#000000\" fill-rule=\"nonzero\" fill-opacity=\"1\" /><path clip-path=\"url(#clip330)\" d=\"M918.768 1520.74 Q915.157 1520.74 913.329 1524.31 Q911.523 1527.85 911.523 1534.98 Q911.523 1542.09 913.329 1545.65 Q915.157 1549.19 918.768 1549.19 Q922.403 1549.19 924.208 1545.65 Q926.037 1542.09 926.037 1534.98 Q926.037 1527.85 924.208 1524.31 Q922.403 1520.74 918.768 1520.74 M918.768 1517.04 Q924.579 1517.04 927.634 1521.65 Q930.713 1526.23 930.713 1534.98 Q930.713 1543.71 927.634 1548.31 Q924.579 1552.9 918.768 1552.9 Q912.958 1552.9 909.88 1548.31 Q906.824 1543.71 906.824 1534.98 Q906.824 1526.23 909.88 1521.65 Q912.958 1517.04 918.768 1517.04 Z\" fill=\"#000000\" fill-rule=\"nonzero\" fill-opacity=\"1\" /><path clip-path=\"url(#clip330)\" d=\"M930.713 1511.14 L954.824 1511.14 L954.824 1514.34 L930.713 1514.34 L930.713 1511.14 Z\" fill=\"#000000\" fill-rule=\"nonzero\" fill-opacity=\"1\" /><path clip-path=\"url(#clip330)\" d=\"M963.683 1521.62 L969.889 1521.62 L969.889 1500.19 L963.137 1501.55 L963.137 1498.09 L969.852 1496.73 L973.651 1496.73 L973.651 1521.62 L979.857 1521.62 L979.857 1524.81 L963.683 1524.81 L963.683 1521.62 Z\" fill=\"#000000\" fill-rule=\"nonzero\" fill-opacity=\"1\" /><path clip-path=\"url(#clip330)\" d=\"M995.656 1499.24 Q992.722 1499.24 991.236 1502.13 Q989.769 1505.01 989.769 1510.8 Q989.769 1516.58 991.236 1519.47 Q992.722 1522.35 995.656 1522.35 Q998.609 1522.35 1000.08 1519.47 Q1001.56 1516.58 1001.56 1510.8 Q1001.56 1505.01 1000.08 1502.13 Q998.609 1499.24 995.656 1499.24 M995.656 1496.23 Q1000.38 1496.23 1002.86 1499.97 Q1005.36 1503.69 1005.36 1510.8 Q1005.36 1517.89 1002.86 1521.64 Q1000.38 1525.36 995.656 1525.36 Q990.935 1525.36 988.434 1521.64 Q985.951 1517.89 985.951 1510.8 Q985.951 1503.69 988.434 1499.97 Q990.935 1496.23 995.656 1496.23 Z\" fill=\"#000000\" fill-rule=\"nonzero\" fill-opacity=\"1\" /><path clip-path=\"url(#clip330)\" d=\"M1354.75 1533.08 Q1351.6 1533.08 1349.75 1535.23 Q1347.92 1537.39 1347.92 1541.14 Q1347.92 1544.86 1349.75 1547.04 Q1351.6 1549.19 1354.75 1549.19 Q1357.9 1549.19 1359.72 1547.04 Q1361.58 1544.86 1361.58 1541.14 Q1361.58 1537.39 1359.72 1535.23 Q1357.9 1533.08 1354.75 1533.08 M1364.03 1518.43 L1364.03 1522.69 Q1362.27 1521.85 1360.46 1521.41 Q1358.68 1520.97 1356.92 1520.97 Q1352.29 1520.97 1349.84 1524.1 Q1347.41 1527.22 1347.06 1533.54 Q1348.43 1531.53 1350.49 1530.47 Q1352.55 1529.38 1355.03 1529.38 Q1360.23 1529.38 1363.24 1532.55 Q1366.28 1535.7 1366.28 1541.14 Q1366.28 1546.46 1363.13 1549.68 Q1359.98 1552.9 1354.75 1552.9 Q1348.75 1552.9 1345.58 1548.31 Q1342.41 1543.71 1342.41 1534.98 Q1342.41 1526.78 1346.3 1521.92 Q1350.19 1517.04 1356.74 1517.04 Q1358.5 1517.04 1360.28 1517.39 Q1362.09 1517.73 1364.03 1518.43 Z\" fill=\"#000000\" fill-rule=\"nonzero\" fill-opacity=\"1\" /><path clip-path=\"url(#clip330)\" d=\"M1374.33 1546.35 L1379.21 1546.35 L1379.21 1552.22 L1374.33 1552.22 L1374.33 1546.35 Z\" fill=\"#000000\" fill-rule=\"nonzero\" fill-opacity=\"1\" /><path clip-path=\"url(#clip330)\" d=\"M1399.4 1520.74 Q1395.79 1520.74 1393.96 1524.31 Q1392.15 1527.85 1392.15 1534.98 Q1392.15 1542.09 1393.96 1545.65 Q1395.79 1549.19 1399.4 1549.19 Q1403.03 1549.19 1404.84 1545.65 Q1406.67 1542.09 1406.67 1534.98 Q1406.67 1527.85 1404.84 1524.31 Q1403.03 1520.74 1399.4 1520.74 M1399.4 1517.04 Q1405.21 1517.04 1408.27 1521.65 Q1411.34 1526.23 1411.34 1534.98 Q1411.34 1543.71 1408.27 1548.31 Q1405.21 1552.9 1399.4 1552.9 Q1393.59 1552.9 1390.51 1548.31 Q1387.46 1543.71 1387.46 1534.98 Q1387.46 1526.23 1390.51 1521.65 Q1393.59 1517.04 1399.4 1517.04 Z\" fill=\"#000000\" fill-rule=\"nonzero\" fill-opacity=\"1\" /><path clip-path=\"url(#clip330)\" d=\"M1447.73 1526.76 L1437.15 1537.39 L1447.73 1547.97 L1444.98 1550.77 L1434.35 1540.14 L1423.73 1550.77 L1421 1547.97 L1431.55 1537.39 L1421 1526.76 L1423.73 1523.96 L1434.35 1534.59 L1444.98 1523.96 L1447.73 1526.76 Z\" fill=\"#000000\" fill-rule=\"nonzero\" fill-opacity=\"1\" /><path clip-path=\"url(#clip330)\" d=\"M1460.09 1548.29 L1467.73 1548.29 L1467.73 1521.92 L1459.42 1523.59 L1459.42 1519.33 L1467.69 1517.66 L1472.36 1517.66 L1472.36 1548.29 L1480 1548.29 L1480 1552.22 L1460.09 1552.22 L1460.09 1548.29 Z\" fill=\"#000000\" fill-rule=\"nonzero\" fill-opacity=\"1\" /><path clip-path=\"url(#clip330)\" d=\"M1499.45 1520.74 Q1495.83 1520.74 1494.01 1524.31 Q1492.2 1527.85 1492.2 1534.98 Q1492.2 1542.09 1494.01 1545.65 Q1495.83 1549.19 1499.45 1549.19 Q1503.08 1549.19 1504.89 1545.65 Q1506.71 1542.09 1506.71 1534.98 Q1506.71 1527.85 1504.89 1524.31 Q1503.08 1520.74 1499.45 1520.74 M1499.45 1517.04 Q1505.26 1517.04 1508.31 1521.65 Q1511.39 1526.23 1511.39 1534.98 Q1511.39 1543.71 1508.31 1548.31 Q1505.26 1552.9 1499.45 1552.9 Q1493.64 1552.9 1490.56 1548.31 Q1487.5 1543.71 1487.5 1534.98 Q1487.5 1526.23 1490.56 1521.65 Q1493.64 1517.04 1499.45 1517.04 Z\" fill=\"#000000\" fill-rule=\"nonzero\" fill-opacity=\"1\" /><path clip-path=\"url(#clip330)\" d=\"M1511.39 1511.14 L1535.5 1511.14 L1535.5 1514.34 L1511.39 1514.34 L1511.39 1511.14 Z\" fill=\"#000000\" fill-rule=\"nonzero\" fill-opacity=\"1\" /><path clip-path=\"url(#clip330)\" d=\"M1544.36 1521.62 L1550.57 1521.62 L1550.57 1500.19 L1543.81 1501.55 L1543.81 1498.09 L1550.53 1496.73 L1554.33 1496.73 L1554.33 1521.62 L1560.53 1521.62 L1560.53 1524.81 L1544.36 1524.81 L1544.36 1521.62 Z\" fill=\"#000000\" fill-rule=\"nonzero\" fill-opacity=\"1\" /><path clip-path=\"url(#clip330)\" d=\"M1576.33 1499.24 Q1573.4 1499.24 1571.91 1502.13 Q1570.45 1505.01 1570.45 1510.8 Q1570.45 1516.58 1571.91 1519.47 Q1573.4 1522.35 1576.33 1522.35 Q1579.29 1522.35 1580.75 1519.47 Q1582.24 1516.58 1582.24 1510.8 Q1582.24 1505.01 1580.75 1502.13 Q1579.29 1499.24 1576.33 1499.24 M1576.33 1496.23 Q1581.05 1496.23 1583.54 1499.97 Q1586.04 1503.69 1586.04 1510.8 Q1586.04 1517.89 1583.54 1521.64 Q1581.05 1525.36 1576.33 1525.36 Q1571.61 1525.36 1569.11 1521.64 Q1566.63 1517.89 1566.63 1510.8 Q1566.63 1503.69 1569.11 1499.97 Q1571.61 1496.23 1576.33 1496.23 Z\" fill=\"#000000\" fill-rule=\"nonzero\" fill-opacity=\"1\" /><path clip-path=\"url(#clip330)\" d=\"M1935.39 1535.81 Q1932.06 1535.81 1930.14 1537.6 Q1928.24 1539.38 1928.24 1542.5 Q1928.24 1545.63 1930.14 1547.41 Q1932.06 1549.19 1935.39 1549.19 Q1938.72 1549.19 1940.64 1547.41 Q1942.57 1545.6 1942.57 1542.5 Q1942.57 1539.38 1940.64 1537.6 Q1938.75 1535.81 1935.39 1535.81 M1930.71 1533.82 Q1927.7 1533.08 1926.02 1531.02 Q1924.35 1528.96 1924.35 1526 Q1924.35 1521.85 1927.29 1519.45 Q1930.25 1517.04 1935.39 1517.04 Q1940.55 1517.04 1943.49 1519.45 Q1946.43 1521.85 1946.43 1526 Q1946.43 1528.96 1944.74 1531.02 Q1943.08 1533.08 1940.09 1533.82 Q1943.47 1534.61 1945.34 1536.9 Q1947.24 1539.19 1947.24 1542.5 Q1947.24 1547.53 1944.16 1550.21 Q1941.11 1552.9 1935.39 1552.9 Q1929.67 1552.9 1926.59 1550.21 Q1923.54 1547.53 1923.54 1542.5 Q1923.54 1539.19 1925.44 1536.9 Q1927.33 1534.61 1930.71 1533.82 M1929 1526.44 Q1929 1529.12 1930.67 1530.63 Q1932.36 1532.13 1935.39 1532.13 Q1938.4 1532.13 1940.09 1530.63 Q1941.8 1529.12 1941.8 1526.44 Q1941.8 1523.75 1940.09 1522.25 Q1938.4 1520.74 1935.39 1520.74 Q1932.36 1520.74 1930.67 1522.25 Q1929 1523.75 1929 1526.44 Z\" fill=\"#000000\" fill-rule=\"nonzero\" fill-opacity=\"1\" /><path clip-path=\"url(#clip330)\" d=\"M1955.55 1546.35 L1960.44 1546.35 L1960.44 1552.22 L1955.55 1552.22 L1955.55 1546.35 Z\" fill=\"#000000\" fill-rule=\"nonzero\" fill-opacity=\"1\" /><path clip-path=\"url(#clip330)\" d=\"M1980.62 1520.74 Q1977.01 1520.74 1975.18 1524.31 Q1973.38 1527.85 1973.38 1534.98 Q1973.38 1542.09 1975.18 1545.65 Q1977.01 1549.19 1980.62 1549.19 Q1984.26 1549.19 1986.06 1545.65 Q1987.89 1542.09 1987.89 1534.98 Q1987.89 1527.85 1986.06 1524.31 Q1984.26 1520.74 1980.62 1520.74 M1980.62 1517.04 Q1986.43 1517.04 1989.49 1521.65 Q1992.57 1526.23 1992.57 1534.98 Q1992.57 1543.71 1989.49 1548.31 Q1986.43 1552.9 1980.62 1552.9 Q1974.81 1552.9 1971.73 1548.31 Q1968.68 1543.71 1968.68 1534.98 Q1968.68 1526.23 1971.73 1521.65 Q1974.81 1517.04 1980.62 1517.04 Z\" fill=\"#000000\" fill-rule=\"nonzero\" fill-opacity=\"1\" /><path clip-path=\"url(#clip330)\" d=\"M2028.95 1526.76 L2018.38 1537.39 L2028.95 1547.97 L2026.2 1550.77 L2015.57 1540.14 L2004.95 1550.77 L2002.22 1547.97 L2012.77 1537.39 L2002.22 1526.76 L2004.95 1523.96 L2015.57 1534.59 L2026.2 1523.96 L2028.95 1526.76 Z\" fill=\"#000000\" fill-rule=\"nonzero\" fill-opacity=\"1\" /><path clip-path=\"url(#clip330)\" d=\"M2041.32 1548.29 L2048.95 1548.29 L2048.95 1521.92 L2040.64 1523.59 L2040.64 1519.33 L2048.91 1517.66 L2053.58 1517.66 L2053.58 1548.29 L2061.22 1548.29 L2061.22 1552.22 L2041.32 1552.22 L2041.32 1548.29 Z\" fill=\"#000000\" fill-rule=\"nonzero\" fill-opacity=\"1\" /><path clip-path=\"url(#clip330)\" d=\"M2080.67 1520.74 Q2077.06 1520.74 2075.23 1524.31 Q2073.42 1527.85 2073.42 1534.98 Q2073.42 1542.09 2075.23 1545.65 Q2077.06 1549.19 2080.67 1549.19 Q2084.3 1549.19 2086.11 1545.65 Q2087.94 1542.09 2087.94 1534.98 Q2087.94 1527.85 2086.11 1524.31 Q2084.3 1520.74 2080.67 1520.74 M2080.67 1517.04 Q2086.48 1517.04 2089.53 1521.65 Q2092.61 1526.23 2092.61 1534.98 Q2092.61 1543.71 2089.53 1548.31 Q2086.48 1552.9 2080.67 1552.9 Q2074.86 1552.9 2071.78 1548.31 Q2068.72 1543.71 2068.72 1534.98 Q2068.72 1526.23 2071.78 1521.65 Q2074.86 1517.04 2080.67 1517.04 Z\" fill=\"#000000\" fill-rule=\"nonzero\" fill-opacity=\"1\" /><path clip-path=\"url(#clip330)\" d=\"M2092.61 1511.14 L2116.72 1511.14 L2116.72 1514.34 L2092.61 1514.34 L2092.61 1511.14 Z\" fill=\"#000000\" fill-rule=\"nonzero\" fill-opacity=\"1\" /><path clip-path=\"url(#clip330)\" d=\"M2125.58 1521.62 L2131.79 1521.62 L2131.79 1500.19 L2125.04 1501.55 L2125.04 1498.09 L2131.75 1496.73 L2135.55 1496.73 L2135.55 1521.62 L2141.76 1521.62 L2141.76 1524.81 L2125.58 1524.81 L2125.58 1521.62 Z\" fill=\"#000000\" fill-rule=\"nonzero\" fill-opacity=\"1\" /><path clip-path=\"url(#clip330)\" d=\"M2157.55 1499.24 Q2154.62 1499.24 2153.13 1502.13 Q2151.67 1505.01 2151.67 1510.8 Q2151.67 1516.58 2153.13 1519.47 Q2154.62 1522.35 2157.55 1522.35 Q2160.51 1522.35 2161.97 1519.47 Q2163.46 1516.58 2163.46 1510.8 Q2163.46 1505.01 2161.97 1502.13 Q2160.51 1499.24 2157.55 1499.24 M2157.55 1496.23 Q2162.28 1496.23 2164.76 1499.97 Q2167.26 1503.69 2167.26 1510.8 Q2167.26 1517.89 2164.76 1521.64 Q2162.28 1525.36 2157.55 1525.36 Q2152.83 1525.36 2150.33 1521.64 Q2147.85 1517.89 2147.85 1510.8 Q2147.85 1503.69 2150.33 1499.97 Q2152.83 1496.23 2157.55 1496.23 Z\" fill=\"#000000\" fill-rule=\"nonzero\" fill-opacity=\"1\" /><polyline clip-path=\"url(#clip332)\" style=\"stroke:#000000; stroke-linecap:round; stroke-linejoin:round; stroke-width:2; stroke-opacity:0.1; fill:none\" points=\"141.853,1474.16 2352.76,1474.16 \"/>\n",
       "<polyline clip-path=\"url(#clip332)\" style=\"stroke:#000000; stroke-linecap:round; stroke-linejoin:round; stroke-width:2; stroke-opacity:0.1; fill:none\" points=\"141.853,1270.32 2352.76,1270.32 \"/>\n",
       "<polyline clip-path=\"url(#clip332)\" style=\"stroke:#000000; stroke-linecap:round; stroke-linejoin:round; stroke-width:2; stroke-opacity:0.1; fill:none\" points=\"141.853,1066.47 2352.76,1066.47 \"/>\n",
       "<polyline clip-path=\"url(#clip332)\" style=\"stroke:#000000; stroke-linecap:round; stroke-linejoin:round; stroke-width:2; stroke-opacity:0.1; fill:none\" points=\"141.853,862.627 2352.76,862.627 \"/>\n",
       "<polyline clip-path=\"url(#clip332)\" style=\"stroke:#000000; stroke-linecap:round; stroke-linejoin:round; stroke-width:2; stroke-opacity:0.1; fill:none\" points=\"141.853,658.781 2352.76,658.781 \"/>\n",
       "<polyline clip-path=\"url(#clip332)\" style=\"stroke:#000000; stroke-linecap:round; stroke-linejoin:round; stroke-width:2; stroke-opacity:0.1; fill:none\" points=\"141.853,454.936 2352.76,454.936 \"/>\n",
       "<polyline clip-path=\"url(#clip332)\" style=\"stroke:#000000; stroke-linecap:round; stroke-linejoin:round; stroke-width:2; stroke-opacity:0.1; fill:none\" points=\"141.853,251.09 2352.76,251.09 \"/>\n",
       "<polyline clip-path=\"url(#clip332)\" style=\"stroke:#000000; stroke-linecap:round; stroke-linejoin:round; stroke-width:2; stroke-opacity:0.1; fill:none\" points=\"141.853,47.2441 2352.76,47.2441 \"/>\n",
       "<polyline clip-path=\"url(#clip330)\" style=\"stroke:#000000; stroke-linecap:round; stroke-linejoin:round; stroke-width:4; stroke-opacity:1; fill:none\" points=\"141.853,1474.16 141.853,47.2441 \"/>\n",
       "<polyline clip-path=\"url(#clip330)\" style=\"stroke:#000000; stroke-linecap:round; stroke-linejoin:round; stroke-width:4; stroke-opacity:1; fill:none\" points=\"141.853,1474.16 160.751,1474.16 \"/>\n",
       "<polyline clip-path=\"url(#clip330)\" style=\"stroke:#000000; stroke-linecap:round; stroke-linejoin:round; stroke-width:4; stroke-opacity:1; fill:none\" points=\"141.853,1270.32 160.751,1270.32 \"/>\n",
       "<polyline clip-path=\"url(#clip330)\" style=\"stroke:#000000; stroke-linecap:round; stroke-linejoin:round; stroke-width:4; stroke-opacity:1; fill:none\" points=\"141.853,1066.47 160.751,1066.47 \"/>\n",
       "<polyline clip-path=\"url(#clip330)\" style=\"stroke:#000000; stroke-linecap:round; stroke-linejoin:round; stroke-width:4; stroke-opacity:1; fill:none\" points=\"141.853,862.627 160.751,862.627 \"/>\n",
       "<polyline clip-path=\"url(#clip330)\" style=\"stroke:#000000; stroke-linecap:round; stroke-linejoin:round; stroke-width:4; stroke-opacity:1; fill:none\" points=\"141.853,658.781 160.751,658.781 \"/>\n",
       "<polyline clip-path=\"url(#clip330)\" style=\"stroke:#000000; stroke-linecap:round; stroke-linejoin:round; stroke-width:4; stroke-opacity:1; fill:none\" points=\"141.853,454.936 160.751,454.936 \"/>\n",
       "<polyline clip-path=\"url(#clip330)\" style=\"stroke:#000000; stroke-linecap:round; stroke-linejoin:round; stroke-width:4; stroke-opacity:1; fill:none\" points=\"141.853,251.09 160.751,251.09 \"/>\n",
       "<polyline clip-path=\"url(#clip330)\" style=\"stroke:#000000; stroke-linecap:round; stroke-linejoin:round; stroke-width:4; stroke-opacity:1; fill:none\" points=\"141.853,47.2441 160.751,47.2441 \"/>\n",
       "<path clip-path=\"url(#clip330)\" d=\"M93.9086 1459.96 Q90.2975 1459.96 88.4688 1463.53 Q86.6632 1467.07 86.6632 1474.2 Q86.6632 1481.31 88.4688 1484.87 Q90.2975 1488.41 93.9086 1488.41 Q97.5428 1488.41 99.3483 1484.87 Q101.177 1481.31 101.177 1474.2 Q101.177 1467.07 99.3483 1463.53 Q97.5428 1459.96 93.9086 1459.96 M93.9086 1456.26 Q99.7187 1456.26 102.774 1460.87 Q105.853 1465.45 105.853 1474.2 Q105.853 1482.93 102.774 1487.53 Q99.7187 1492.12 93.9086 1492.12 Q88.0984 1492.12 85.0197 1487.53 Q81.9642 1482.93 81.9642 1474.2 Q81.9642 1465.45 85.0197 1460.87 Q88.0984 1456.26 93.9086 1456.26 Z\" fill=\"#000000\" fill-rule=\"nonzero\" fill-opacity=\"1\" /><path clip-path=\"url(#clip330)\" d=\"M54.5569 1283.66 L62.1958 1283.66 L62.1958 1257.3 L53.8856 1258.96 L53.8856 1254.71 L62.1495 1253.04 L66.8254 1253.04 L66.8254 1283.66 L74.4642 1283.66 L74.4642 1287.6 L54.5569 1287.6 L54.5569 1283.66 Z\" fill=\"#000000\" fill-rule=\"nonzero\" fill-opacity=\"1\" /><path clip-path=\"url(#clip330)\" d=\"M93.9086 1256.12 Q90.2975 1256.12 88.4688 1259.68 Q86.6632 1263.22 86.6632 1270.35 Q86.6632 1277.46 88.4688 1281.02 Q90.2975 1284.57 93.9086 1284.57 Q97.5428 1284.57 99.3483 1281.02 Q101.177 1277.46 101.177 1270.35 Q101.177 1263.22 99.3483 1259.68 Q97.5428 1256.12 93.9086 1256.12 M93.9086 1252.41 Q99.7187 1252.41 102.774 1257.02 Q105.853 1261.6 105.853 1270.35 Q105.853 1279.08 102.774 1283.69 Q99.7187 1288.27 93.9086 1288.27 Q88.0984 1288.27 85.0197 1283.69 Q81.9642 1279.08 81.9642 1270.35 Q81.9642 1261.6 85.0197 1257.02 Q88.0984 1252.41 93.9086 1252.41 Z\" fill=\"#000000\" fill-rule=\"nonzero\" fill-opacity=\"1\" /><path clip-path=\"url(#clip330)\" d=\"M57.7745 1079.82 L74.0939 1079.82 L74.0939 1083.75 L52.1495 1083.75 L52.1495 1079.82 Q54.8115 1077.06 59.3949 1072.43 Q64.0013 1067.78 65.1819 1066.44 Q67.4272 1063.92 68.3068 1062.18 Q69.2096 1060.42 69.2096 1058.73 Q69.2096 1055.98 67.2652 1054.24 Q65.3439 1052.5 62.2421 1052.5 Q60.043 1052.5 57.5893 1053.27 Q55.1588 1054.03 52.381 1055.58 L52.381 1050.86 Q55.2051 1049.73 57.6588 1049.15 Q60.1124 1048.57 62.1495 1048.57 Q67.5198 1048.57 70.7142 1051.25 Q73.9087 1053.94 73.9087 1058.43 Q73.9087 1060.56 73.0985 1062.48 Q72.3115 1064.38 70.205 1066.97 Q69.6263 1067.64 66.5245 1070.86 Q63.4226 1074.05 57.7745 1079.82 Z\" fill=\"#000000\" fill-rule=\"nonzero\" fill-opacity=\"1\" /><path clip-path=\"url(#clip330)\" d=\"M93.9086 1052.27 Q90.2975 1052.27 88.4688 1055.84 Q86.6632 1059.38 86.6632 1066.51 Q86.6632 1073.61 88.4688 1077.18 Q90.2975 1080.72 93.9086 1080.72 Q97.5428 1080.72 99.3483 1077.18 Q101.177 1073.61 101.177 1066.51 Q101.177 1059.38 99.3483 1055.84 Q97.5428 1052.27 93.9086 1052.27 M93.9086 1048.57 Q99.7187 1048.57 102.774 1053.17 Q105.853 1057.76 105.853 1066.51 Q105.853 1075.23 102.774 1079.84 Q99.7187 1084.42 93.9086 1084.42 Q88.0984 1084.42 85.0197 1079.84 Q81.9642 1075.23 81.9642 1066.51 Q81.9642 1057.76 85.0197 1053.17 Q88.0984 1048.57 93.9086 1048.57 Z\" fill=\"#000000\" fill-rule=\"nonzero\" fill-opacity=\"1\" /><path clip-path=\"url(#clip330)\" d=\"M67.9133 861.273 Q71.2698 861.991 73.1448 864.259 Q75.0429 866.528 75.0429 869.861 Q75.0429 874.977 71.5244 877.778 Q68.0059 880.579 61.5245 880.579 Q59.3486 880.579 57.0338 880.139 Q54.7421 879.722 52.2884 878.866 L52.2884 874.352 Q54.2328 875.486 56.5477 876.065 Q58.8625 876.643 61.3856 876.643 Q65.7837 876.643 68.0754 874.907 Q70.3902 873.171 70.3902 869.861 Q70.3902 866.806 68.2374 865.093 Q66.1078 863.356 62.2884 863.356 L58.2606 863.356 L58.2606 859.514 L62.4735 859.514 Q65.9226 859.514 67.7513 858.148 Q69.58 856.759 69.58 854.167 Q69.58 851.505 67.6819 850.093 Q65.8069 848.657 62.2884 848.657 Q60.3671 848.657 58.168 849.074 Q55.969 849.491 53.3301 850.37 L53.3301 846.204 Q55.9921 845.463 58.3069 845.093 Q60.6449 844.722 62.705 844.722 Q68.0291 844.722 71.1309 847.153 Q74.2327 849.56 74.2327 853.681 Q74.2327 856.551 72.5892 858.542 Q70.9457 860.509 67.9133 861.273 Z\" fill=\"#000000\" fill-rule=\"nonzero\" fill-opacity=\"1\" /><path clip-path=\"url(#clip330)\" d=\"M93.9086 848.426 Q90.2975 848.426 88.4688 851.991 Q86.6632 855.532 86.6632 862.662 Q86.6632 869.768 88.4688 873.333 Q90.2975 876.875 93.9086 876.875 Q97.5428 876.875 99.3483 873.333 Q101.177 869.768 101.177 862.662 Q101.177 855.532 99.3483 851.991 Q97.5428 848.426 93.9086 848.426 M93.9086 844.722 Q99.7187 844.722 102.774 849.329 Q105.853 853.912 105.853 862.662 Q105.853 871.389 102.774 875.995 Q99.7187 880.579 93.9086 880.579 Q88.0984 880.579 85.0197 875.995 Q81.9642 871.389 81.9642 862.662 Q81.9642 853.912 85.0197 849.329 Q88.0984 844.722 93.9086 844.722 Z\" fill=\"#000000\" fill-rule=\"nonzero\" fill-opacity=\"1\" /><path clip-path=\"url(#clip330)\" d=\"M66.5939 645.576 L54.7884 664.025 L66.5939 664.025 L66.5939 645.576 M65.367 641.501 L71.2466 641.501 L71.2466 664.025 L76.1772 664.025 L76.1772 667.913 L71.2466 667.913 L71.2466 676.061 L66.5939 676.061 L66.5939 667.913 L50.9921 667.913 L50.9921 663.4 L65.367 641.501 Z\" fill=\"#000000\" fill-rule=\"nonzero\" fill-opacity=\"1\" /><path clip-path=\"url(#clip330)\" d=\"M93.9086 644.58 Q90.2975 644.58 88.4688 648.145 Q86.6632 651.687 86.6632 658.816 Q86.6632 665.923 88.4688 669.487 Q90.2975 673.029 93.9086 673.029 Q97.5428 673.029 99.3483 669.487 Q101.177 665.923 101.177 658.816 Q101.177 651.687 99.3483 648.145 Q97.5428 644.58 93.9086 644.58 M93.9086 640.876 Q99.7187 640.876 102.774 645.483 Q105.853 650.066 105.853 658.816 Q105.853 667.543 102.774 672.149 Q99.7187 676.733 93.9086 676.733 Q88.0984 676.733 85.0197 672.149 Q81.9642 667.543 81.9642 658.816 Q81.9642 650.066 85.0197 645.483 Q88.0984 640.876 93.9086 640.876 Z\" fill=\"#000000\" fill-rule=\"nonzero\" fill-opacity=\"1\" /><path clip-path=\"url(#clip330)\" d=\"M53.793 437.656 L72.1494 437.656 L72.1494 441.591 L58.0754 441.591 L58.0754 450.063 Q59.0939 449.716 60.1124 449.554 Q61.131 449.369 62.1495 449.369 Q67.9365 449.369 71.3161 452.54 Q74.6957 455.711 74.6957 461.128 Q74.6957 466.706 71.2235 469.808 Q67.7513 472.887 61.4319 472.887 Q59.256 472.887 56.9875 472.517 Q54.7421 472.146 52.3347 471.406 L52.3347 466.706 Q54.418 467.841 56.6402 468.396 Q58.8625 468.952 61.3393 468.952 Q65.3439 468.952 67.6819 466.845 Q70.0198 464.739 70.0198 461.128 Q70.0198 457.517 67.6819 455.41 Q65.3439 453.304 61.3393 453.304 Q59.4643 453.304 57.5893 453.72 Q55.7375 454.137 53.793 455.017 L53.793 437.656 Z\" fill=\"#000000\" fill-rule=\"nonzero\" fill-opacity=\"1\" /><path clip-path=\"url(#clip330)\" d=\"M93.9086 440.734 Q90.2975 440.734 88.4688 444.299 Q86.6632 447.841 86.6632 454.97 Q86.6632 462.077 88.4688 465.642 Q90.2975 469.183 93.9086 469.183 Q97.5428 469.183 99.3483 465.642 Q101.177 462.077 101.177 454.97 Q101.177 447.841 99.3483 444.299 Q97.5428 440.734 93.9086 440.734 M93.9086 437.031 Q99.7187 437.031 102.774 441.637 Q105.853 446.22 105.853 454.97 Q105.853 463.697 102.774 468.304 Q99.7187 472.887 93.9086 472.887 Q88.0984 472.887 85.0197 468.304 Q81.9642 463.697 81.9642 454.97 Q81.9642 446.22 85.0197 441.637 Q88.0984 437.031 93.9086 437.031 Z\" fill=\"#000000\" fill-rule=\"nonzero\" fill-opacity=\"1\" /><path clip-path=\"url(#clip330)\" d=\"M64.3254 249.226 Q61.1773 249.226 59.3254 251.379 Q57.4967 253.532 57.4967 257.282 Q57.4967 261.009 59.3254 263.185 Q61.1773 265.338 64.3254 265.338 Q67.4735 265.338 69.3022 263.185 Q71.1541 261.009 71.1541 257.282 Q71.1541 253.532 69.3022 251.379 Q67.4735 249.226 64.3254 249.226 M73.6077 234.574 L73.6077 238.833 Q71.8485 238 70.0429 237.56 Q68.2606 237.12 66.5013 237.12 Q61.8717 237.12 59.418 240.245 Q56.9875 243.37 56.6402 249.689 Q58.006 247.676 60.0662 246.611 Q62.1263 245.523 64.6032 245.523 Q69.8115 245.523 72.8207 248.694 Q75.8531 251.842 75.8531 257.282 Q75.8531 262.606 72.705 265.824 Q69.5568 269.041 64.3254 269.041 Q58.33 269.041 55.1588 264.458 Q51.9875 259.851 51.9875 251.125 Q51.9875 242.93 55.8764 238.069 Q59.7652 233.185 66.3161 233.185 Q68.0754 233.185 69.8578 233.532 Q71.6633 233.879 73.6077 234.574 Z\" fill=\"#000000\" fill-rule=\"nonzero\" fill-opacity=\"1\" /><path clip-path=\"url(#clip330)\" d=\"M93.9086 236.889 Q90.2975 236.889 88.4688 240.453 Q86.6632 243.995 86.6632 251.125 Q86.6632 258.231 88.4688 261.796 Q90.2975 265.338 93.9086 265.338 Q97.5428 265.338 99.3483 261.796 Q101.177 258.231 101.177 251.125 Q101.177 243.995 99.3483 240.453 Q97.5428 236.889 93.9086 236.889 M93.9086 233.185 Q99.7187 233.185 102.774 237.791 Q105.853 242.375 105.853 251.125 Q105.853 259.851 102.774 264.458 Q99.7187 269.041 93.9086 269.041 Q88.0984 269.041 85.0197 264.458 Q81.9642 259.851 81.9642 251.125 Q81.9642 242.375 85.0197 237.791 Q88.0984 233.185 93.9086 233.185 Z\" fill=\"#000000\" fill-rule=\"nonzero\" fill-opacity=\"1\" /><path clip-path=\"url(#clip330)\" d=\"M52.5662 29.9641 L74.7883 29.9641 L74.7883 31.9548 L62.2421 64.5241 L57.3578 64.5241 L69.1633 33.8993 L52.5662 33.8993 L52.5662 29.9641 Z\" fill=\"#000000\" fill-rule=\"nonzero\" fill-opacity=\"1\" /><path clip-path=\"url(#clip330)\" d=\"M93.9086 33.0428 Q90.2975 33.0428 88.4688 36.6076 Q86.6632 40.1492 86.6632 47.2788 Q86.6632 54.3853 88.4688 57.9501 Q90.2975 61.4917 93.9086 61.4917 Q97.5428 61.4917 99.3483 57.9501 Q101.177 54.3853 101.177 47.2788 Q101.177 40.1492 99.3483 36.6076 Q97.5428 33.0428 93.9086 33.0428 M93.9086 29.3391 Q99.7187 29.3391 102.774 33.9456 Q105.853 38.5289 105.853 47.2788 Q105.853 56.0056 102.774 60.6121 Q99.7187 65.1954 93.9086 65.1954 Q88.0984 65.1954 85.0197 60.6121 Q81.9642 56.0056 81.9642 47.2788 Q81.9642 38.5289 85.0197 33.9456 Q88.0984 29.3391 93.9086 29.3391 Z\" fill=\"#000000\" fill-rule=\"nonzero\" fill-opacity=\"1\" /><polyline clip-path=\"url(#clip332)\" style=\"stroke:#000000; stroke-linecap:round; stroke-linejoin:round; stroke-width:4; stroke-opacity:1; fill:none\" points=\"842.386,842.243 872.398,842.243 \"/>\n",
       "<polyline clip-path=\"url(#clip332)\" style=\"stroke:#000000; stroke-linecap:round; stroke-linejoin:round; stroke-width:4; stroke-opacity:1; fill:none\" points=\"868.504,842.243 898.727,842.243 \"/>\n",
       "<polyline clip-path=\"url(#clip332)\" style=\"stroke:#000000; stroke-linecap:round; stroke-linejoin:round; stroke-width:4; stroke-opacity:1; fill:none\" points=\"859.707,842.243 889.288,842.243 \"/>\n",
       "<polyline clip-path=\"url(#clip332)\" style=\"stroke:#000000; stroke-linecap:round; stroke-linejoin:round; stroke-width:4; stroke-opacity:1; fill:none\" points=\"900.254,842.243 930.493,842.243 \"/>\n",
       "<polyline clip-path=\"url(#clip332)\" style=\"stroke:#000000; stroke-linecap:round; stroke-linejoin:round; stroke-width:4; stroke-opacity:1; fill:none\" points=\"910.907,842.243 941.086,842.243 \"/>\n",
       "<line clip-path=\"url(#clip332)\" x1=\"842.386\" y1=\"858.243\" x2=\"842.386\" y2=\"826.243\" style=\"stroke:#000000; stroke-width:4; stroke-opacity:1\"/>\n",
       "<line clip-path=\"url(#clip332)\" x1=\"872.398\" y1=\"858.243\" x2=\"872.398\" y2=\"826.243\" style=\"stroke:#000000; stroke-width:4; stroke-opacity:1\"/>\n",
       "<line clip-path=\"url(#clip332)\" x1=\"868.504\" y1=\"858.243\" x2=\"868.504\" y2=\"826.243\" style=\"stroke:#000000; stroke-width:4; stroke-opacity:1\"/>\n",
       "<line clip-path=\"url(#clip332)\" x1=\"898.727\" y1=\"858.243\" x2=\"898.727\" y2=\"826.243\" style=\"stroke:#000000; stroke-width:4; stroke-opacity:1\"/>\n",
       "<line clip-path=\"url(#clip332)\" x1=\"859.707\" y1=\"858.243\" x2=\"859.707\" y2=\"826.243\" style=\"stroke:#000000; stroke-width:4; stroke-opacity:1\"/>\n",
       "<line clip-path=\"url(#clip332)\" x1=\"889.288\" y1=\"858.243\" x2=\"889.288\" y2=\"826.243\" style=\"stroke:#000000; stroke-width:4; stroke-opacity:1\"/>\n",
       "<line clip-path=\"url(#clip332)\" x1=\"900.254\" y1=\"858.243\" x2=\"900.254\" y2=\"826.243\" style=\"stroke:#000000; stroke-width:4; stroke-opacity:1\"/>\n",
       "<line clip-path=\"url(#clip332)\" x1=\"930.493\" y1=\"858.243\" x2=\"930.493\" y2=\"826.243\" style=\"stroke:#000000; stroke-width:4; stroke-opacity:1\"/>\n",
       "<line clip-path=\"url(#clip332)\" x1=\"910.907\" y1=\"858.243\" x2=\"910.907\" y2=\"826.243\" style=\"stroke:#000000; stroke-width:4; stroke-opacity:1\"/>\n",
       "<line clip-path=\"url(#clip332)\" x1=\"941.086\" y1=\"858.243\" x2=\"941.086\" y2=\"826.243\" style=\"stroke:#000000; stroke-width:4; stroke-opacity:1\"/>\n",
       "<circle clip-path=\"url(#clip332)\" cx=\"857.392\" cy=\"842.243\" r=\"14.4\" fill=\"#009af9\" fill-rule=\"evenodd\" fill-opacity=\"1\" stroke=\"#000000\" stroke-opacity=\"1\" stroke-width=\"3.2\"/>\n",
       "<circle clip-path=\"url(#clip332)\" cx=\"883.615\" cy=\"842.243\" r=\"14.4\" fill=\"#009af9\" fill-rule=\"evenodd\" fill-opacity=\"1\" stroke=\"#000000\" stroke-opacity=\"1\" stroke-width=\"3.2\"/>\n",
       "<circle clip-path=\"url(#clip332)\" cx=\"874.498\" cy=\"842.243\" r=\"14.4\" fill=\"#009af9\" fill-rule=\"evenodd\" fill-opacity=\"1\" stroke=\"#000000\" stroke-opacity=\"1\" stroke-width=\"3.2\"/>\n",
       "<circle clip-path=\"url(#clip332)\" cx=\"915.374\" cy=\"842.243\" r=\"14.4\" fill=\"#009af9\" fill-rule=\"evenodd\" fill-opacity=\"1\" stroke=\"#000000\" stroke-opacity=\"1\" stroke-width=\"3.2\"/>\n",
       "<circle clip-path=\"url(#clip332)\" cx=\"925.996\" cy=\"842.243\" r=\"14.4\" fill=\"#009af9\" fill-rule=\"evenodd\" fill-opacity=\"1\" stroke=\"#000000\" stroke-opacity=\"1\" stroke-width=\"3.2\"/>\n",
       "<polyline clip-path=\"url(#clip332)\" style=\"stroke:#000000; stroke-linecap:round; stroke-linejoin:round; stroke-width:4; stroke-opacity:1; fill:none\" points=\"253.754,1217.32 269.235,1217.32 \"/>\n",
       "<polyline clip-path=\"url(#clip332)\" style=\"stroke:#000000; stroke-linecap:round; stroke-linejoin:round; stroke-width:4; stroke-opacity:1; fill:none\" points=\"241.159,1217.32 255.814,1217.32 \"/>\n",
       "<polyline clip-path=\"url(#clip332)\" style=\"stroke:#000000; stroke-linecap:round; stroke-linejoin:round; stroke-width:4; stroke-opacity:1; fill:none\" points=\"204.426,1217.32 217.744,1217.32 \"/>\n",
       "<polyline clip-path=\"url(#clip332)\" style=\"stroke:#000000; stroke-linecap:round; stroke-linejoin:round; stroke-width:4; stroke-opacity:1; fill:none\" points=\"220.563,1217.32 233.882,1217.32 \"/>\n",
       "<line clip-path=\"url(#clip332)\" x1=\"253.754\" y1=\"1233.32\" x2=\"253.754\" y2=\"1201.32\" style=\"stroke:#000000; stroke-width:4; stroke-opacity:1\"/>\n",
       "<line clip-path=\"url(#clip332)\" x1=\"269.235\" y1=\"1233.32\" x2=\"269.235\" y2=\"1201.32\" style=\"stroke:#000000; stroke-width:4; stroke-opacity:1\"/>\n",
       "<line clip-path=\"url(#clip332)\" x1=\"241.159\" y1=\"1233.32\" x2=\"241.159\" y2=\"1201.32\" style=\"stroke:#000000; stroke-width:4; stroke-opacity:1\"/>\n",
       "<line clip-path=\"url(#clip332)\" x1=\"255.814\" y1=\"1233.32\" x2=\"255.814\" y2=\"1201.32\" style=\"stroke:#000000; stroke-width:4; stroke-opacity:1\"/>\n",
       "<line clip-path=\"url(#clip332)\" x1=\"204.426\" y1=\"1233.32\" x2=\"204.426\" y2=\"1201.32\" style=\"stroke:#000000; stroke-width:4; stroke-opacity:1\"/>\n",
       "<line clip-path=\"url(#clip332)\" x1=\"217.744\" y1=\"1233.32\" x2=\"217.744\" y2=\"1201.32\" style=\"stroke:#000000; stroke-width:4; stroke-opacity:1\"/>\n",
       "<line clip-path=\"url(#clip332)\" x1=\"220.563\" y1=\"1233.32\" x2=\"220.563\" y2=\"1201.32\" style=\"stroke:#000000; stroke-width:4; stroke-opacity:1\"/>\n",
       "<line clip-path=\"url(#clip332)\" x1=\"233.882\" y1=\"1233.32\" x2=\"233.882\" y2=\"1201.32\" style=\"stroke:#000000; stroke-width:4; stroke-opacity:1\"/>\n",
       "<circle clip-path=\"url(#clip332)\" cx=\"261.494\" cy=\"1217.32\" r=\"14.4\" fill=\"#e26f46\" fill-rule=\"evenodd\" fill-opacity=\"1\" stroke=\"#000000\" stroke-opacity=\"1\" stroke-width=\"3.2\"/>\n",
       "<circle clip-path=\"url(#clip332)\" cx=\"248.487\" cy=\"1217.32\" r=\"14.4\" fill=\"#e26f46\" fill-rule=\"evenodd\" fill-opacity=\"1\" stroke=\"#000000\" stroke-opacity=\"1\" stroke-width=\"3.2\"/>\n",
       "<circle clip-path=\"url(#clip332)\" cx=\"211.085\" cy=\"1217.32\" r=\"14.4\" fill=\"#e26f46\" fill-rule=\"evenodd\" fill-opacity=\"1\" stroke=\"#000000\" stroke-opacity=\"1\" stroke-width=\"3.2\"/>\n",
       "<circle clip-path=\"url(#clip332)\" cx=\"227.222\" cy=\"1217.32\" r=\"14.4\" fill=\"#e26f46\" fill-rule=\"evenodd\" fill-opacity=\"1\" stroke=\"#000000\" stroke-opacity=\"1\" stroke-width=\"3.2\"/>\n",
       "<polyline clip-path=\"url(#clip332)\" style=\"stroke:#000000; stroke-linecap:round; stroke-linejoin:round; stroke-width:4; stroke-opacity:1; fill:none\" points=\"485.904,1046.09 507.179,1046.09 \"/>\n",
       "<polyline clip-path=\"url(#clip332)\" style=\"stroke:#000000; stroke-linecap:round; stroke-linejoin:round; stroke-width:4; stroke-opacity:1; fill:none\" points=\"505.619,1046.09 526.851,1046.09 \"/>\n",
       "<polyline clip-path=\"url(#clip332)\" style=\"stroke:#000000; stroke-linecap:round; stroke-linejoin:round; stroke-width:4; stroke-opacity:1; fill:none\" points=\"523.395,1046.09 544.629,1046.09 \"/>\n",
       "<line clip-path=\"url(#clip332)\" x1=\"485.904\" y1=\"1062.09\" x2=\"485.904\" y2=\"1030.09\" style=\"stroke:#000000; stroke-width:4; stroke-opacity:1\"/>\n",
       "<line clip-path=\"url(#clip332)\" x1=\"507.179\" y1=\"1062.09\" x2=\"507.179\" y2=\"1030.09\" style=\"stroke:#000000; stroke-width:4; stroke-opacity:1\"/>\n",
       "<line clip-path=\"url(#clip332)\" x1=\"505.619\" y1=\"1062.09\" x2=\"505.619\" y2=\"1030.09\" style=\"stroke:#000000; stroke-width:4; stroke-opacity:1\"/>\n",
       "<line clip-path=\"url(#clip332)\" x1=\"526.851\" y1=\"1062.09\" x2=\"526.851\" y2=\"1030.09\" style=\"stroke:#000000; stroke-width:4; stroke-opacity:1\"/>\n",
       "<line clip-path=\"url(#clip332)\" x1=\"523.395\" y1=\"1062.09\" x2=\"523.395\" y2=\"1030.09\" style=\"stroke:#000000; stroke-width:4; stroke-opacity:1\"/>\n",
       "<line clip-path=\"url(#clip332)\" x1=\"544.629\" y1=\"1062.09\" x2=\"544.629\" y2=\"1030.09\" style=\"stroke:#000000; stroke-width:4; stroke-opacity:1\"/>\n",
       "<circle clip-path=\"url(#clip332)\" cx=\"496.541\" cy=\"1046.09\" r=\"14.4\" fill=\"#3da44d\" fill-rule=\"evenodd\" fill-opacity=\"1\" stroke=\"#000000\" stroke-opacity=\"1\" stroke-width=\"3.2\"/>\n",
       "<circle clip-path=\"url(#clip332)\" cx=\"516.235\" cy=\"1046.09\" r=\"14.4\" fill=\"#3da44d\" fill-rule=\"evenodd\" fill-opacity=\"1\" stroke=\"#000000\" stroke-opacity=\"1\" stroke-width=\"3.2\"/>\n",
       "<circle clip-path=\"url(#clip332)\" cx=\"534.012\" cy=\"1046.09\" r=\"14.4\" fill=\"#3da44d\" fill-rule=\"evenodd\" fill-opacity=\"1\" stroke=\"#000000\" stroke-opacity=\"1\" stroke-width=\"3.2\"/>\n",
       "<polyline clip-path=\"url(#clip332)\" style=\"stroke:#000000; stroke-linecap:round; stroke-linejoin:round; stroke-width:4; stroke-opacity:1; fill:none\" points=\"1158.49,638.397 1197.03,638.397 \"/>\n",
       "<polyline clip-path=\"url(#clip332)\" style=\"stroke:#000000; stroke-linecap:round; stroke-linejoin:round; stroke-width:4; stroke-opacity:1; fill:none\" points=\"1212.24,638.397 1251.54,638.397 \"/>\n",
       "<polyline clip-path=\"url(#clip332)\" style=\"stroke:#000000; stroke-linecap:round; stroke-linejoin:round; stroke-width:4; stroke-opacity:1; fill:none\" points=\"1179.44,638.397 1217.38,638.397 \"/>\n",
       "<polyline clip-path=\"url(#clip332)\" style=\"stroke:#000000; stroke-linecap:round; stroke-linejoin:round; stroke-width:4; stroke-opacity:1; fill:none\" points=\"1203.22,638.397 1241.28,638.397 \"/>\n",
       "<polyline clip-path=\"url(#clip332)\" style=\"stroke:#000000; stroke-linecap:round; stroke-linejoin:round; stroke-width:4; stroke-opacity:1; fill:none\" points=\"1268.51,638.397 1307.77,638.397 \"/>\n",
       "<line clip-path=\"url(#clip332)\" x1=\"1158.49\" y1=\"654.397\" x2=\"1158.49\" y2=\"622.397\" style=\"stroke:#000000; stroke-width:4; stroke-opacity:1\"/>\n",
       "<line clip-path=\"url(#clip332)\" x1=\"1197.03\" y1=\"654.397\" x2=\"1197.03\" y2=\"622.397\" style=\"stroke:#000000; stroke-width:4; stroke-opacity:1\"/>\n",
       "<line clip-path=\"url(#clip332)\" x1=\"1212.24\" y1=\"654.397\" x2=\"1212.24\" y2=\"622.397\" style=\"stroke:#000000; stroke-width:4; stroke-opacity:1\"/>\n",
       "<line clip-path=\"url(#clip332)\" x1=\"1251.54\" y1=\"654.397\" x2=\"1251.54\" y2=\"622.397\" style=\"stroke:#000000; stroke-width:4; stroke-opacity:1\"/>\n",
       "<line clip-path=\"url(#clip332)\" x1=\"1179.44\" y1=\"654.397\" x2=\"1179.44\" y2=\"622.397\" style=\"stroke:#000000; stroke-width:4; stroke-opacity:1\"/>\n",
       "<line clip-path=\"url(#clip332)\" x1=\"1217.38\" y1=\"654.397\" x2=\"1217.38\" y2=\"622.397\" style=\"stroke:#000000; stroke-width:4; stroke-opacity:1\"/>\n",
       "<line clip-path=\"url(#clip332)\" x1=\"1203.22\" y1=\"654.397\" x2=\"1203.22\" y2=\"622.397\" style=\"stroke:#000000; stroke-width:4; stroke-opacity:1\"/>\n",
       "<line clip-path=\"url(#clip332)\" x1=\"1241.28\" y1=\"654.397\" x2=\"1241.28\" y2=\"622.397\" style=\"stroke:#000000; stroke-width:4; stroke-opacity:1\"/>\n",
       "<line clip-path=\"url(#clip332)\" x1=\"1268.51\" y1=\"654.397\" x2=\"1268.51\" y2=\"622.397\" style=\"stroke:#000000; stroke-width:4; stroke-opacity:1\"/>\n",
       "<line clip-path=\"url(#clip332)\" x1=\"1307.77\" y1=\"654.397\" x2=\"1307.77\" y2=\"622.397\" style=\"stroke:#000000; stroke-width:4; stroke-opacity:1\"/>\n",
       "<circle clip-path=\"url(#clip332)\" cx=\"1177.76\" cy=\"638.397\" r=\"14.4\" fill=\"#c271d2\" fill-rule=\"evenodd\" fill-opacity=\"1\" stroke=\"#000000\" stroke-opacity=\"1\" stroke-width=\"3.2\"/>\n",
       "<circle clip-path=\"url(#clip332)\" cx=\"1231.89\" cy=\"638.397\" r=\"14.4\" fill=\"#c271d2\" fill-rule=\"evenodd\" fill-opacity=\"1\" stroke=\"#000000\" stroke-opacity=\"1\" stroke-width=\"3.2\"/>\n",
       "<circle clip-path=\"url(#clip332)\" cx=\"1198.41\" cy=\"638.397\" r=\"14.4\" fill=\"#c271d2\" fill-rule=\"evenodd\" fill-opacity=\"1\" stroke=\"#000000\" stroke-opacity=\"1\" stroke-width=\"3.2\"/>\n",
       "<circle clip-path=\"url(#clip332)\" cx=\"1222.25\" cy=\"638.397\" r=\"14.4\" fill=\"#c271d2\" fill-rule=\"evenodd\" fill-opacity=\"1\" stroke=\"#000000\" stroke-opacity=\"1\" stroke-width=\"3.2\"/>\n",
       "<circle clip-path=\"url(#clip332)\" cx=\"1288.14\" cy=\"638.397\" r=\"14.4\" fill=\"#c271d2\" fill-rule=\"evenodd\" fill-opacity=\"1\" stroke=\"#000000\" stroke-opacity=\"1\" stroke-width=\"3.2\"/>\n",
       "<polyline clip-path=\"url(#clip332)\" style=\"stroke:#000000; stroke-linecap:round; stroke-linejoin:round; stroke-width:4; stroke-opacity:1; fill:none\" points=\"1672.53,434.551 1723.81,434.551 \"/>\n",
       "<polyline clip-path=\"url(#clip332)\" style=\"stroke:#000000; stroke-linecap:round; stroke-linejoin:round; stroke-width:4; stroke-opacity:1; fill:none\" points=\"1738.33,434.551 1790.67,434.551 \"/>\n",
       "<polyline clip-path=\"url(#clip332)\" style=\"stroke:#000000; stroke-linecap:round; stroke-linejoin:round; stroke-width:4; stroke-opacity:1; fill:none\" points=\"1723.37,434.551 1774.77,434.551 \"/>\n",
       "<polyline clip-path=\"url(#clip332)\" style=\"stroke:#000000; stroke-linecap:round; stroke-linejoin:round; stroke-width:4; stroke-opacity:1; fill:none\" points=\"1741.08,434.551 1792.03,434.551 \"/>\n",
       "<line clip-path=\"url(#clip332)\" x1=\"1672.53\" y1=\"450.551\" x2=\"1672.53\" y2=\"418.551\" style=\"stroke:#000000; stroke-width:4; stroke-opacity:1\"/>\n",
       "<line clip-path=\"url(#clip332)\" x1=\"1723.81\" y1=\"450.551\" x2=\"1723.81\" y2=\"418.551\" style=\"stroke:#000000; stroke-width:4; stroke-opacity:1\"/>\n",
       "<line clip-path=\"url(#clip332)\" x1=\"1738.33\" y1=\"450.551\" x2=\"1738.33\" y2=\"418.551\" style=\"stroke:#000000; stroke-width:4; stroke-opacity:1\"/>\n",
       "<line clip-path=\"url(#clip332)\" x1=\"1790.67\" y1=\"450.551\" x2=\"1790.67\" y2=\"418.551\" style=\"stroke:#000000; stroke-width:4; stroke-opacity:1\"/>\n",
       "<line clip-path=\"url(#clip332)\" x1=\"1723.37\" y1=\"450.551\" x2=\"1723.37\" y2=\"418.551\" style=\"stroke:#000000; stroke-width:4; stroke-opacity:1\"/>\n",
       "<line clip-path=\"url(#clip332)\" x1=\"1774.77\" y1=\"450.551\" x2=\"1774.77\" y2=\"418.551\" style=\"stroke:#000000; stroke-width:4; stroke-opacity:1\"/>\n",
       "<line clip-path=\"url(#clip332)\" x1=\"1741.08\" y1=\"450.551\" x2=\"1741.08\" y2=\"418.551\" style=\"stroke:#000000; stroke-width:4; stroke-opacity:1\"/>\n",
       "<line clip-path=\"url(#clip332)\" x1=\"1792.03\" y1=\"450.551\" x2=\"1792.03\" y2=\"418.551\" style=\"stroke:#000000; stroke-width:4; stroke-opacity:1\"/>\n",
       "<circle clip-path=\"url(#clip332)\" cx=\"1698.17\" cy=\"434.551\" r=\"14.4\" fill=\"#ac8d18\" fill-rule=\"evenodd\" fill-opacity=\"1\" stroke=\"#000000\" stroke-opacity=\"1\" stroke-width=\"3.2\"/>\n",
       "<circle clip-path=\"url(#clip332)\" cx=\"1764.5\" cy=\"434.551\" r=\"14.4\" fill=\"#ac8d18\" fill-rule=\"evenodd\" fill-opacity=\"1\" stroke=\"#000000\" stroke-opacity=\"1\" stroke-width=\"3.2\"/>\n",
       "<circle clip-path=\"url(#clip332)\" cx=\"1749.07\" cy=\"434.551\" r=\"14.4\" fill=\"#ac8d18\" fill-rule=\"evenodd\" fill-opacity=\"1\" stroke=\"#000000\" stroke-opacity=\"1\" stroke-width=\"3.2\"/>\n",
       "<circle clip-path=\"url(#clip332)\" cx=\"1766.56\" cy=\"434.551\" r=\"14.4\" fill=\"#ac8d18\" fill-rule=\"evenodd\" fill-opacity=\"1\" stroke=\"#000000\" stroke-opacity=\"1\" stroke-width=\"3.2\"/>\n",
       "<polyline clip-path=\"url(#clip332)\" style=\"stroke:#000000; stroke-linecap:round; stroke-linejoin:round; stroke-width:4; stroke-opacity:1; fill:none\" points=\"2206.95,230.705 2271.47,230.705 \"/>\n",
       "<polyline clip-path=\"url(#clip332)\" style=\"stroke:#000000; stroke-linecap:round; stroke-linejoin:round; stroke-width:4; stroke-opacity:1; fill:none\" points=\"2187.07,230.705 2250.51,230.705 \"/>\n",
       "<polyline clip-path=\"url(#clip332)\" style=\"stroke:#000000; stroke-linecap:round; stroke-linejoin:round; stroke-width:4; stroke-opacity:1; fill:none\" points=\"2118.96,230.705 2180.14,230.705 \"/>\n",
       "<polyline clip-path=\"url(#clip332)\" style=\"stroke:#000000; stroke-linecap:round; stroke-linejoin:round; stroke-width:4; stroke-opacity:1; fill:none\" points=\"2177.11,230.705 2239.27,230.705 \"/>\n",
       "<polyline clip-path=\"url(#clip332)\" style=\"stroke:#000000; stroke-linecap:round; stroke-linejoin:round; stroke-width:4; stroke-opacity:1; fill:none\" points=\"2227.21,230.705 2290.18,230.705 \"/>\n",
       "<line clip-path=\"url(#clip332)\" x1=\"2206.95\" y1=\"246.705\" x2=\"2206.95\" y2=\"214.705\" style=\"stroke:#000000; stroke-width:4; stroke-opacity:1\"/>\n",
       "<line clip-path=\"url(#clip332)\" x1=\"2271.47\" y1=\"246.705\" x2=\"2271.47\" y2=\"214.705\" style=\"stroke:#000000; stroke-width:4; stroke-opacity:1\"/>\n",
       "<line clip-path=\"url(#clip332)\" x1=\"2187.07\" y1=\"246.705\" x2=\"2187.07\" y2=\"214.705\" style=\"stroke:#000000; stroke-width:4; stroke-opacity:1\"/>\n",
       "<line clip-path=\"url(#clip332)\" x1=\"2250.51\" y1=\"246.705\" x2=\"2250.51\" y2=\"214.705\" style=\"stroke:#000000; stroke-width:4; stroke-opacity:1\"/>\n",
       "<line clip-path=\"url(#clip332)\" x1=\"2118.96\" y1=\"246.705\" x2=\"2118.96\" y2=\"214.705\" style=\"stroke:#000000; stroke-width:4; stroke-opacity:1\"/>\n",
       "<line clip-path=\"url(#clip332)\" x1=\"2180.14\" y1=\"246.705\" x2=\"2180.14\" y2=\"214.705\" style=\"stroke:#000000; stroke-width:4; stroke-opacity:1\"/>\n",
       "<line clip-path=\"url(#clip332)\" x1=\"2177.11\" y1=\"246.705\" x2=\"2177.11\" y2=\"214.705\" style=\"stroke:#000000; stroke-width:4; stroke-opacity:1\"/>\n",
       "<line clip-path=\"url(#clip332)\" x1=\"2239.27\" y1=\"246.705\" x2=\"2239.27\" y2=\"214.705\" style=\"stroke:#000000; stroke-width:4; stroke-opacity:1\"/>\n",
       "<line clip-path=\"url(#clip332)\" x1=\"2227.21\" y1=\"246.705\" x2=\"2227.21\" y2=\"214.705\" style=\"stroke:#000000; stroke-width:4; stroke-opacity:1\"/>\n",
       "<line clip-path=\"url(#clip332)\" x1=\"2290.18\" y1=\"246.705\" x2=\"2290.18\" y2=\"214.705\" style=\"stroke:#000000; stroke-width:4; stroke-opacity:1\"/>\n",
       "<circle clip-path=\"url(#clip332)\" cx=\"2239.21\" cy=\"230.705\" r=\"14.4\" fill=\"#00a9ad\" fill-rule=\"evenodd\" fill-opacity=\"1\" stroke=\"#000000\" stroke-opacity=\"1\" stroke-width=\"3.2\"/>\n",
       "<circle clip-path=\"url(#clip332)\" cx=\"2218.79\" cy=\"230.705\" r=\"14.4\" fill=\"#00a9ad\" fill-rule=\"evenodd\" fill-opacity=\"1\" stroke=\"#000000\" stroke-opacity=\"1\" stroke-width=\"3.2\"/>\n",
       "<circle clip-path=\"url(#clip332)\" cx=\"2149.55\" cy=\"230.705\" r=\"14.4\" fill=\"#00a9ad\" fill-rule=\"evenodd\" fill-opacity=\"1\" stroke=\"#000000\" stroke-opacity=\"1\" stroke-width=\"3.2\"/>\n",
       "<circle clip-path=\"url(#clip332)\" cx=\"2208.19\" cy=\"230.705\" r=\"14.4\" fill=\"#00a9ad\" fill-rule=\"evenodd\" fill-opacity=\"1\" stroke=\"#000000\" stroke-opacity=\"1\" stroke-width=\"3.2\"/>\n",
       "<circle clip-path=\"url(#clip332)\" cx=\"2258.7\" cy=\"230.705\" r=\"14.4\" fill=\"#00a9ad\" fill-rule=\"evenodd\" fill-opacity=\"1\" stroke=\"#000000\" stroke-opacity=\"1\" stroke-width=\"3.2\"/>\n",
       "<path clip-path=\"url(#clip330)\" d=\"M215.55 457.688 L490.783 457.688 L490.783 94.8081 L215.55 94.8081  Z\" fill=\"#ffffff\" fill-rule=\"evenodd\" fill-opacity=\"1\"/>\n",
       "<polyline clip-path=\"url(#clip330)\" style=\"stroke:#000000; stroke-linecap:round; stroke-linejoin:round; stroke-width:4; stroke-opacity:1; fill:none\" points=\"215.55,457.688 490.783,457.688 490.783,94.8081 215.55,94.8081 215.55,457.688 \"/>\n",
       "<circle clip-path=\"url(#clip330)\" cx=\"313.812\" cy=\"146.648\" r=\"20.48\" fill=\"#009af9\" fill-rule=\"evenodd\" fill-opacity=\"1\" stroke=\"#000000\" stroke-opacity=\"1\" stroke-width=\"4.55111\"/>\n",
       "<path clip-path=\"url(#clip330)\" d=\"M425.917 166.336 Q424.111 170.965 422.398 172.377 Q420.685 173.789 417.815 173.789 L414.412 173.789 L414.412 170.224 L416.912 170.224 Q418.672 170.224 419.644 169.391 Q420.616 168.558 421.797 165.456 L422.56 163.511 L412.074 138.002 L416.588 138.002 L424.69 158.28 L432.792 138.002 L437.306 138.002 L425.917 166.336 Z\" fill=\"#000000\" fill-rule=\"nonzero\" fill-opacity=\"1\" /><path clip-path=\"url(#clip330)\" d=\"M444.597 159.993 L452.236 159.993 L452.236 133.627 L443.926 135.294 L443.926 131.035 L452.19 129.368 L456.866 129.368 L456.866 159.993 L464.505 159.993 L464.505 163.928 L444.597 163.928 L444.597 159.993 Z\" fill=\"#000000\" fill-rule=\"nonzero\" fill-opacity=\"1\" /><circle clip-path=\"url(#clip330)\" cx=\"313.812\" cy=\"198.488\" r=\"20.48\" fill=\"#e26f46\" fill-rule=\"evenodd\" fill-opacity=\"1\" stroke=\"#000000\" stroke-opacity=\"1\" stroke-width=\"4.55111\"/>\n",
       "<path clip-path=\"url(#clip330)\" d=\"M425.917 218.176 Q424.111 222.805 422.398 224.217 Q420.685 225.629 417.815 225.629 L414.412 225.629 L414.412 222.064 L416.912 222.064 Q418.672 222.064 419.644 221.231 Q420.616 220.398 421.797 217.296 L422.56 215.351 L412.074 189.842 L416.588 189.842 L424.69 210.12 L432.792 189.842 L437.306 189.842 L425.917 218.176 Z\" fill=\"#000000\" fill-rule=\"nonzero\" fill-opacity=\"1\" /><path clip-path=\"url(#clip330)\" d=\"M447.815 211.833 L464.134 211.833 L464.134 215.768 L442.19 215.768 L442.19 211.833 Q444.852 209.078 449.435 204.449 Q454.042 199.796 455.222 198.453 Q457.468 195.93 458.347 194.194 Q459.25 192.435 459.25 190.745 Q459.25 187.99 457.306 186.254 Q455.384 184.518 452.283 184.518 Q450.083 184.518 447.63 185.282 Q445.199 186.046 442.421 187.597 L442.421 182.875 Q445.246 181.741 447.699 181.162 Q450.153 180.583 452.19 180.583 Q457.56 180.583 460.755 183.268 Q463.949 185.953 463.949 190.444 Q463.949 192.574 463.139 194.495 Q462.352 196.393 460.245 198.986 Q459.667 199.657 456.565 202.875 Q453.463 206.069 447.815 211.833 Z\" fill=\"#000000\" fill-rule=\"nonzero\" fill-opacity=\"1\" /><circle clip-path=\"url(#clip330)\" cx=\"313.812\" cy=\"250.328\" r=\"20.48\" fill=\"#3da44d\" fill-rule=\"evenodd\" fill-opacity=\"1\" stroke=\"#000000\" stroke-opacity=\"1\" stroke-width=\"4.55111\"/>\n",
       "<path clip-path=\"url(#clip330)\" d=\"M425.917 270.016 Q424.111 274.645 422.398 276.057 Q420.685 277.469 417.815 277.469 L414.412 277.469 L414.412 273.904 L416.912 273.904 Q418.672 273.904 419.644 273.071 Q420.616 272.238 421.797 269.136 L422.56 267.191 L412.074 241.682 L416.588 241.682 L424.69 261.96 L432.792 241.682 L437.306 241.682 L425.917 270.016 Z\" fill=\"#000000\" fill-rule=\"nonzero\" fill-opacity=\"1\" /><path clip-path=\"url(#clip330)\" d=\"M457.954 248.974 Q461.31 249.692 463.185 251.96 Q465.083 254.229 465.083 257.562 Q465.083 262.678 461.565 265.478 Q458.046 268.279 451.565 268.279 Q449.389 268.279 447.074 267.84 Q444.783 267.423 442.329 266.566 L442.329 262.053 Q444.273 263.187 446.588 263.766 Q448.903 264.344 451.426 264.344 Q455.824 264.344 458.116 262.608 Q460.431 260.872 460.431 257.562 Q460.431 254.506 458.278 252.793 Q456.148 251.057 452.329 251.057 L448.301 251.057 L448.301 247.215 L452.514 247.215 Q455.963 247.215 457.792 245.849 Q459.62 244.46 459.62 241.868 Q459.62 239.205 457.722 237.793 Q455.847 236.358 452.329 236.358 Q450.408 236.358 448.208 236.775 Q446.009 237.192 443.371 238.071 L443.371 233.905 Q446.033 233.164 448.347 232.793 Q450.685 232.423 452.745 232.423 Q458.07 232.423 461.171 234.854 Q464.273 237.261 464.273 241.381 Q464.273 244.252 462.63 246.242 Q460.986 248.21 457.954 248.974 Z\" fill=\"#000000\" fill-rule=\"nonzero\" fill-opacity=\"1\" /><circle clip-path=\"url(#clip330)\" cx=\"313.812\" cy=\"302.168\" r=\"20.48\" fill=\"#c271d2\" fill-rule=\"evenodd\" fill-opacity=\"1\" stroke=\"#000000\" stroke-opacity=\"1\" stroke-width=\"4.55111\"/>\n",
       "<path clip-path=\"url(#clip330)\" d=\"M425.917 321.856 Q424.111 326.485 422.398 327.897 Q420.685 329.309 417.815 329.309 L414.412 329.309 L414.412 325.744 L416.912 325.744 Q418.672 325.744 419.644 324.911 Q420.616 324.078 421.797 320.976 L422.56 319.031 L412.074 293.522 L416.588 293.522 L424.69 313.8 L432.792 293.522 L437.306 293.522 L425.917 321.856 Z\" fill=\"#000000\" fill-rule=\"nonzero\" fill-opacity=\"1\" /><path clip-path=\"url(#clip330)\" d=\"M456.634 288.962 L444.829 307.411 L456.634 307.411 L456.634 288.962 M455.408 284.888 L461.287 284.888 L461.287 307.411 L466.218 307.411 L466.218 311.3 L461.287 311.3 L461.287 319.448 L456.634 319.448 L456.634 311.3 L441.033 311.3 L441.033 306.786 L455.408 284.888 Z\" fill=\"#000000\" fill-rule=\"nonzero\" fill-opacity=\"1\" /><circle clip-path=\"url(#clip330)\" cx=\"313.812\" cy=\"354.008\" r=\"20.48\" fill=\"#ac8d18\" fill-rule=\"evenodd\" fill-opacity=\"1\" stroke=\"#000000\" stroke-opacity=\"1\" stroke-width=\"4.55111\"/>\n",
       "<path clip-path=\"url(#clip330)\" d=\"M425.917 373.696 Q424.111 378.325 422.398 379.737 Q420.685 381.149 417.815 381.149 L414.412 381.149 L414.412 377.584 L416.912 377.584 Q418.672 377.584 419.644 376.751 Q420.616 375.918 421.797 372.816 L422.56 370.871 L412.074 345.362 L416.588 345.362 L424.69 365.64 L432.792 345.362 L437.306 345.362 L425.917 373.696 Z\" fill=\"#000000\" fill-rule=\"nonzero\" fill-opacity=\"1\" /><path clip-path=\"url(#clip330)\" d=\"M443.834 336.728 L462.19 336.728 L462.19 340.663 L448.116 340.663 L448.116 349.135 Q449.134 348.788 450.153 348.626 Q451.171 348.441 452.19 348.441 Q457.977 348.441 461.357 351.612 Q464.736 354.784 464.736 360.2 Q464.736 365.779 461.264 368.881 Q457.792 371.959 451.472 371.959 Q449.296 371.959 447.028 371.589 Q444.783 371.219 442.375 370.478 L442.375 365.779 Q444.459 366.913 446.681 367.469 Q448.903 368.024 451.38 368.024 Q455.384 368.024 457.722 365.918 Q460.06 363.811 460.06 360.2 Q460.06 356.589 457.722 354.483 Q455.384 352.376 451.38 352.376 Q449.505 352.376 447.63 352.793 Q445.778 353.21 443.834 354.089 L443.834 336.728 Z\" fill=\"#000000\" fill-rule=\"nonzero\" fill-opacity=\"1\" /><circle clip-path=\"url(#clip330)\" cx=\"313.812\" cy=\"405.848\" r=\"20.48\" fill=\"#00a9ad\" fill-rule=\"evenodd\" fill-opacity=\"1\" stroke=\"#000000\" stroke-opacity=\"1\" stroke-width=\"4.55111\"/>\n",
       "<path clip-path=\"url(#clip330)\" d=\"M425.917 425.536 Q424.111 430.165 422.398 431.577 Q420.685 432.989 417.815 432.989 L414.412 432.989 L414.412 429.424 L416.912 429.424 Q418.672 429.424 419.644 428.591 Q420.616 427.758 421.797 424.656 L422.56 422.711 L412.074 397.202 L416.588 397.202 L424.69 417.48 L432.792 397.202 L437.306 397.202 L425.917 425.536 Z\" fill=\"#000000\" fill-rule=\"nonzero\" fill-opacity=\"1\" /><path clip-path=\"url(#clip330)\" d=\"M454.366 403.985 Q451.218 403.985 449.366 406.137 Q447.537 408.29 447.537 412.04 Q447.537 415.767 449.366 417.943 Q451.218 420.096 454.366 420.096 Q457.514 420.096 459.343 417.943 Q461.195 415.767 461.195 412.04 Q461.195 408.29 459.343 406.137 Q457.514 403.985 454.366 403.985 M463.648 389.332 L463.648 393.591 Q461.889 392.758 460.083 392.318 Q458.301 391.878 456.542 391.878 Q451.912 391.878 449.458 395.003 Q447.028 398.128 446.681 404.448 Q448.046 402.434 450.107 401.369 Q452.167 400.281 454.644 400.281 Q459.852 400.281 462.861 403.452 Q465.894 406.6 465.894 412.04 Q465.894 417.364 462.745 420.582 Q459.597 423.799 454.366 423.799 Q448.371 423.799 445.199 419.216 Q442.028 414.61 442.028 405.883 Q442.028 397.688 445.917 392.827 Q449.806 387.943 456.357 387.943 Q458.116 387.943 459.898 388.29 Q461.704 388.638 463.648 389.332 Z\" fill=\"#000000\" fill-rule=\"nonzero\" fill-opacity=\"1\" /></svg>\n"
      ]
     },
     "metadata": {},
     "output_type": "display_data"
    }
   ],
   "source": [
    "scatter(x1,y1, ylim=(0, 70))\n",
    "scatter!(x2,y2, ylim=(0, 70))\n",
    "scatter!(x3,y3, ylim=(0, 70))\n",
    "scatter!(x4,y4, ylim=(0, 70))\n",
    "scatter!(x5,y5, ylim=(0, 70))\n",
    "scatter!(x6,y6, ylim=(0, 70))"
   ]
  },
  {
   "cell_type": "code",
   "execution_count": 138,
   "id": "0b5c99f1",
   "metadata": {},
   "outputs": [
    {
     "data": {
      "text/plain": [
       "4-element Vector{Measurement{Float64}}:\n",
       "  2.67e-10 ± 3.7e-12\n",
       " 2.738e-10 ± 3.7e-12\n",
       " 2.799e-10 ± 3.7e-12\n",
       " 1.944e-10 ± 2.5e-12"
      ]
     },
     "metadata": {},
     "output_type": "display_data"
    }
   ],
   "source": [
    "x3"
   ]
  },
  {
   "cell_type": "code",
   "execution_count": 140,
   "id": "ab819e8f",
   "metadata": {},
   "outputs": [],
   "source": [
    "using Statistics"
   ]
  },
  {
   "cell_type": "code",
   "execution_count": 152,
   "id": "35d83c02",
   "metadata": {},
   "outputs": [
    {
     "data": {
      "text/latex": [
       "$3.994e-11 \\pm 5.8e-13$"
      ],
      "text/plain": [
       "3.994e-11 ± 5.8e-13"
      ]
     },
     "metadata": {},
     "output_type": "display_data"
    }
   ],
   "source": [
    "std(x3)"
   ]
  },
  {
   "cell_type": "code",
   "execution_count": 151,
   "id": "79f5a84d",
   "metadata": {},
   "outputs": [
    {
     "data": {
      "text/latex": [
       "$-1.4869 \\pm 0.0032$"
      ],
      "text/plain": [
       "-1.4869 ± 0.0032"
      ]
     },
     "metadata": {},
     "output_type": "display_data"
    }
   ],
   "source": [
    "(x3[4] - mean(x3))/std(x3)"
   ]
  },
  {
   "cell_type": "code",
   "execution_count": 154,
   "id": "7753c055",
   "metadata": {},
   "outputs": [
    {
     "data": {
      "text/plain": [
       "0.28"
      ]
     },
     "metadata": {},
     "output_type": "display_data"
    }
   ],
   "source": [
    "0.07*4"
   ]
  },
  {
   "cell_type": "code",
   "execution_count": 157,
   "id": "491320da",
   "metadata": {},
   "outputs": [
    {
     "data": {
      "text/latex": [
       "$5.992e-10 \\pm 7.6e-12$"
      ],
      "text/plain": [
       "5.992e-10 ± 7.6e-12"
      ]
     },
     "metadata": {},
     "output_type": "display_data"
    }
   ],
   "source": [
    "x5[4]"
   ]
  },
  {
   "cell_type": "code",
   "execution_count": 159,
   "id": "2d7dd391",
   "metadata": {},
   "outputs": [
    {
     "data": {
      "text/latex": [
       "$-1.7476 \\pm 0.0087$"
      ],
      "text/plain": [
       "-1.7476 ± 0.0087"
      ]
     },
     "metadata": {},
     "output_type": "display_data"
    }
   ],
   "source": [
    "(x5[4] - mean(x5))/std(x5)"
   ]
  },
  {
   "cell_type": "code",
   "execution_count": 160,
   "id": "4eef4c91",
   "metadata": {},
   "outputs": [
    {
     "data": {
      "text/plain": [
       "0.20450000000000024"
      ]
     },
     "metadata": {},
     "output_type": "display_data"
    }
   ],
   "source": [
    "(1-0.9591)*5"
   ]
  },
  {
   "cell_type": "code",
   "execution_count": null,
   "id": "71d207e9",
   "metadata": {},
   "outputs": [],
   "source": []
  }
 ],
 "metadata": {
  "kernelspec": {
   "display_name": "Julia 1.9.3",
   "language": "julia",
   "name": "julia-1.9"
  },
  "language_info": {
   "file_extension": ".jl",
   "mimetype": "application/julia",
   "name": "julia",
   "version": "1.9.3"
  }
 },
 "nbformat": 4,
 "nbformat_minor": 5
}
