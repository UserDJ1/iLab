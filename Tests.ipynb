{
 "cells": [
  {
   "cell_type": "code",
   "execution_count": 1,
   "id": "3fd35593-007f-4a59-983c-1dba2fa183cf",
   "metadata": {},
   "outputs": [],
   "source": [
    "using Measurements"
   ]
  },
  {
   "cell_type": "code",
   "execution_count": 2,
   "id": "84a3eb90-1ae1-4da0-bbb4-2942e5ceca0a",
   "metadata": {},
   "outputs": [
    {
     "data": {
      "text/latex": [
       "$2.1 \\pm 0.1$"
      ],
      "text/plain": [
       "2.1 ± 0.1"
      ]
     },
     "execution_count": 2,
     "metadata": {},
     "output_type": "execute_result"
    }
   ],
   "source": [
    "t = measurement(2.76, 0.02)\n",
    "d = measurement(2.1, 0.1)"
   ]
  },
  {
   "cell_type": "code",
   "execution_count": 3,
   "id": "4de1ef5c-31b5-4ebb-9eff-a6665a4d6433",
   "metadata": {},
   "outputs": [
    {
     "data": {
      "text/latex": [
       "$0.761 \\pm 0.037$"
      ],
      "text/plain": [
       "0.761 ± 0.037"
      ]
     },
     "execution_count": 3,
     "metadata": {},
     "output_type": "execute_result"
    }
   ],
   "source": [
    "v = d/t"
   ]
  },
  {
   "cell_type": "code",
   "execution_count": 4,
   "id": "65d9e54b-ab41-4caf-8fbd-54aa909ae0f9",
   "metadata": {},
   "outputs": [
    {
     "data": {
      "text/latex": [
       "$2.1 \\pm 0.1$"
      ],
      "text/plain": [
       "2.1 ± 0.1"
      ]
     },
     "execution_count": 4,
     "metadata": {},
     "output_type": "execute_result"
    }
   ],
   "source": [
    "t = 2.76 ± 0.02\n",
    "d = 2.1 ± 0.1"
   ]
  },
  {
   "cell_type": "code",
   "execution_count": 5,
   "id": "ba2b340b-f45d-483d-89d0-5e65757eb6c2",
   "metadata": {},
   "outputs": [
    {
     "data": {
      "text/latex": [
       "$0.761 \\pm 0.037$"
      ],
      "text/plain": [
       "0.761 ± 0.037"
      ]
     },
     "execution_count": 5,
     "metadata": {},
     "output_type": "execute_result"
    }
   ],
   "source": [
    "v = d/t"
   ]
  },
  {
   "cell_type": "code",
   "execution_count": null,
   "id": "dff73720-669f-4e62-9895-d3703fc205c6",
   "metadata": {},
   "outputs": [],
   "source": []
  }
 ],
 "metadata": {
  "kernelspec": {
   "display_name": "Julia 1.7.2",
   "language": "julia",
   "name": "julia-1.7"
  },
  "language_info": {
   "file_extension": ".jl",
   "mimetype": "application/julia",
   "name": "julia",
   "version": "1.7.2"
  }
 },
 "nbformat": 4,
 "nbformat_minor": 5
}
